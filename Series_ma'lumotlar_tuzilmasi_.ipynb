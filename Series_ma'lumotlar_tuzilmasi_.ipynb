{
  "nbformat": 4,
  "nbformat_minor": 0,
  "metadata": {
    "colab": {
      "provenance": [],
      "authorship_tag": "ABX9TyNLLc4OoLiYvGNGpzdRr/2x",
      "include_colab_link": true
    },
    "kernelspec": {
      "name": "python3",
      "display_name": "Python 3"
    },
    "language_info": {
      "name": "python"
    }
  },
  "cells": [
    {
      "cell_type": "markdown",
      "metadata": {
        "id": "view-in-github",
        "colab_type": "text"
      },
      "source": [
        "<a href=\"https://colab.research.google.com/github/MUHAMMADALIBOBOKHON2003/mening_darslarim/blob/main/Series_ma'lumotlar_tuzilmasi_.ipynb\" target=\"_parent\"><img src=\"https://colab.research.google.com/assets/colab-badge.svg\" alt=\"Open In Colab\"/></a>"
      ]
    },
    {
      "cell_type": "markdown",
      "source": [
        "# Series ma'lumotlar tuzulmasi\n"
      ],
      "metadata": {
        "id": "ZEAgxAuMd14M"
      }
    },
    {
      "cell_type": "code",
      "source": [
        "# kutubxonalarni chaqirib olamiz\n",
        "import numpy as np\n",
        "import pandas as pd\n",
        "from pandas import Series # pandas kutubxonasidan Series ma'lumotlar tuzulmasini chaqirib olamiz\n"
      ],
      "metadata": {
        "id": "OfdJ5rTpd52R"
      },
      "execution_count": null,
      "outputs": []
    },
    {
      "cell_type": "code",
      "source": [
        "# pandas lutubxonasi ma'lumotlarga ishlov berish uchun ishlatiladi. O'z ichiga maxsus ma'lumotlar tuzulmalarini jam qilgan. Bu ma'lumotlar tuzulmasi bilan katta katta ma'lumotlarga \n",
        "# ishlov berish, tozalash va boshqa amallarni bajarish mumkin"
      ],
      "metadata": {
        "id": "WzYEVFXAec5g"
      },
      "execution_count": null,
      "outputs": []
    },
    {
      "cell_type": "code",
      "source": [
        "# Series bilan ishlash\n",
        "obj1=Series([1,54,21,54.1])\n",
        "obj1"
      ],
      "metadata": {
        "id": "ZtmgdmVOfkNb",
        "colab": {
          "base_uri": "https://localhost:8080/"
        },
        "outputId": "1e9798a5-3710-489b-89ce-719669c00e70"
      },
      "execution_count": 3,
      "outputs": [
        {
          "output_type": "execute_result",
          "data": {
            "text/plain": [
              "0     1.0\n",
              "1    54.0\n",
              "2    21.0\n",
              "3    54.1\n",
              "dtype: float64"
            ]
          },
          "metadata": {},
          "execution_count": 3
        }
      ]
    },
    {
      "cell_type": "code",
      "source": [
        "obj1[0] # obj1 ning ichidagi elementlarni chaqirib olish"
      ],
      "metadata": {
        "colab": {
          "base_uri": "https://localhost:8080/"
        },
        "id": "xP5ywXDzgSdG",
        "outputId": "8ed922f4-edf7-442d-9bcb-bcb56d5958a4"
      },
      "execution_count": 6,
      "outputs": [
        {
          "output_type": "execute_result",
          "data": {
            "text/plain": [
              "1.0"
            ]
          },
          "metadata": {},
          "execution_count": 6
        }
      ]
    },
    {
      "cell_type": "code",
      "source": [
        "obj1[3]"
      ],
      "metadata": {
        "colab": {
          "base_uri": "https://localhost:8080/"
        },
        "id": "3iIMsckwgY0X",
        "outputId": "4bea4ddf-80cd-4a45-a3d3-4f9571821f59"
      },
      "execution_count": 7,
      "outputs": [
        {
          "output_type": "execute_result",
          "data": {
            "text/plain": [
              "54.1"
            ]
          },
          "metadata": {},
          "execution_count": 7
        }
      ]
    },
    {
      "cell_type": "code",
      "source": [
        "# obj1 dan huddi lug'atdagi kabi elementlarni .values deb chaqirib olishimiz mumkin\n",
        "obj1.values"
      ],
      "metadata": {
        "colab": {
          "base_uri": "https://localhost:8080/"
        },
        "id": "ABs2gwAwgcN4",
        "outputId": "92d91398-f8fe-4edf-d5c6-9e3640862af3"
      },
      "execution_count": 8,
      "outputs": [
        {
          "output_type": "execute_result",
          "data": {
            "text/plain": [
              "array([ 1. , 54. , 21. , 54.1])"
            ]
          },
          "metadata": {},
          "execution_count": 8
        }
      ]
    },
    {
      "cell_type": "code",
      "source": [
        "obj1.index  # quyida aytyaptiki 0 dan boshlanadi 4 da to'xtaydi bir qadam bilan"
      ],
      "metadata": {
        "colab": {
          "base_uri": "https://localhost:8080/"
        },
        "id": "JiZgiC6rhqUn",
        "outputId": "c978d7a5-3eb2-47bd-a029-e6d98ebf4f86"
      },
      "execution_count": 10,
      "outputs": [
        {
          "output_type": "execute_result",
          "data": {
            "text/plain": [
              "RangeIndex(start=0, stop=4, step=1)"
            ]
          },
          "metadata": {},
          "execution_count": 10
        }
      ]
    },
    {
      "cell_type": "code",
      "source": [
        "# Seriesnig eng qulay tomoni oddiy lug'atda index o'zi berilsa Seriesda o'zimiz istalgan qiymatni berishimiz mumkin\n",
        "obj2=Series([1,5,4,0], [\"x\",\"y\",\"z\",\"t\"]) # biz indexlarga x,y,z,t larni berdik\n",
        "obj2"
      ],
      "metadata": {
        "colab": {
          "base_uri": "https://localhost:8080/"
        },
        "id": "2bXf4uIthtFK",
        "outputId": "dd8a7d3a-2a09-4017-f04a-bcd3674037c6"
      },
      "execution_count": 11,
      "outputs": [
        {
          "output_type": "execute_result",
          "data": {
            "text/plain": [
              "x    1\n",
              "y    5\n",
              "z    4\n",
              "t    0\n",
              "dtype: int64"
            ]
          },
          "metadata": {},
          "execution_count": 11
        }
      ]
    },
    {
      "cell_type": "code",
      "source": [
        "#obj2 dan indexlarni berib chaqirib olamiz\n",
        "obj2[\"x\"]"
      ],
      "metadata": {
        "colab": {
          "base_uri": "https://localhost:8080/"
        },
        "id": "uv9wg1iTiZ7p",
        "outputId": "302b681d-0073-4d3d-d4e7-aac6c3e7ccc5"
      },
      "execution_count": 12,
      "outputs": [
        {
          "output_type": "execute_result",
          "data": {
            "text/plain": [
              "1"
            ]
          },
          "metadata": {},
          "execution_count": 12
        }
      ]
    },
    {
      "cell_type": "code",
      "source": [
        "obj2[\"z\"] # ko'rishingiz mumkin indexlarga harf berib chaqiryapmiz "
      ],
      "metadata": {
        "colab": {
          "base_uri": "https://localhost:8080/"
        },
        "id": "T_7C5rFxijdb",
        "outputId": "d66357a8-81c9-4a96-b353-e205894a4c04"
      },
      "execution_count": 14,
      "outputs": [
        {
          "output_type": "execute_result",
          "data": {
            "text/plain": [
              "4"
            ]
          },
          "metadata": {},
          "execution_count": 14
        }
      ]
    },
    {
      "cell_type": "code",
      "source": [
        "# obj2 ning ichidan index berib bir nechta elementlarni chaqirib olamiz\n",
        "obj2[[\"x\",\"y\",\"t\"]] # bu yerda ikkita qavs kvadrat qavs bilan chaqirib olamiz"
      ],
      "metadata": {
        "colab": {
          "base_uri": "https://localhost:8080/"
        },
        "id": "xgNmd4QWimHE",
        "outputId": "9fb5ef04-de89-4bd0-b674-1738c28b6061"
      },
      "execution_count": 21,
      "outputs": [
        {
          "output_type": "execute_result",
          "data": {
            "text/plain": [
              "x    1\n",
              "y    5\n",
              "t    0\n",
              "dtype: int64"
            ]
          },
          "metadata": {},
          "execution_count": 21
        }
      ]
    },
    {
      "cell_type": "code",
      "source": [
        "obj2.astype(np.float16) # biz xozir obj2 ning int64 ma'lumtini float16 ga o'zgartirdik "
      ],
      "metadata": {
        "colab": {
          "base_uri": "https://localhost:8080/"
        },
        "id": "nuoU6tXkjAAX",
        "outputId": "bc833896-ff4a-45e8-b0db-02a083d0b05c"
      },
      "execution_count": 22,
      "outputs": [
        {
          "output_type": "execute_result",
          "data": {
            "text/plain": [
              "x    1.0\n",
              "y    5.0\n",
              "z    4.0\n",
              "t    0.0\n",
              "dtype: float16"
            ]
          },
          "metadata": {},
          "execution_count": 22
        }
      ]
    },
    {
      "cell_type": "code",
      "source": [
        "# keling obj2 ni indexlarini ko'ramiz\n",
        "obj2.index"
      ],
      "metadata": {
        "colab": {
          "base_uri": "https://localhost:8080/"
        },
        "id": "xUYOT4PejJ6h",
        "outputId": "edd01d1f-093b-46ba-f910-2b9dcf00533a"
      },
      "execution_count": 20,
      "outputs": [
        {
          "output_type": "execute_result",
          "data": {
            "text/plain": [
              "Index(['x', 'y', 'z', 't'], dtype='object')"
            ]
          },
          "metadata": {},
          "execution_count": 20
        }
      ]
    },
    {
      "cell_type": "code",
      "source": [
        "# obj2 dan bir xil index berib ma'lumotlarni chiqaramiz\n",
        "obj2[[\"x\",'x','x']]"
      ],
      "metadata": {
        "colab": {
          "base_uri": "https://localhost:8080/"
        },
        "id": "nTc3uApuj7kz",
        "outputId": "08bdf520-c45e-460d-a55d-f927d24ef567"
      },
      "execution_count": 23,
      "outputs": [
        {
          "output_type": "execute_result",
          "data": {
            "text/plain": [
              "x    1\n",
              "x    1\n",
              "x    1\n",
              "dtype: int64"
            ]
          },
          "metadata": {},
          "execution_count": 23
        }
      ]
    },
    {
      "cell_type": "code",
      "source": [
        "obj2[['x','z','z','t','t']] # ikki matardan index bersak ham bizga kerakli ma'lumotni chiqarib beradi"
      ],
      "metadata": {
        "colab": {
          "base_uri": "https://localhost:8080/"
        },
        "id": "cCSNAfSAkUGC",
        "outputId": "9f4ca762-4c47-4f7d-fb3e-77c91b5151cd"
      },
      "execution_count": 25,
      "outputs": [
        {
          "output_type": "execute_result",
          "data": {
            "text/plain": [
              "x    1\n",
              "z    4\n",
              "z    4\n",
              "t    0\n",
              "t    0\n",
              "dtype: int64"
            ]
          },
          "metadata": {},
          "execution_count": 25
        }
      ]
    },
    {
      "cell_type": "code",
      "source": [
        "# turli arifmetik amallarni bajarib ko'ramiz\n",
        "obj2**2 # kvadratga oshiramiz\n",
        "# har bir elementni kvadratga ko'taradi"
      ],
      "metadata": {
        "colab": {
          "base_uri": "https://localhost:8080/"
        },
        "id": "8qsMUT0XkbLO",
        "outputId": "2517346c-ccfa-4a45-da22-6c5bb0d2b45a"
      },
      "execution_count": 27,
      "outputs": [
        {
          "output_type": "execute_result",
          "data": {
            "text/plain": [
              "x     1\n",
              "y    25\n",
              "z    16\n",
              "t     0\n",
              "dtype: int64"
            ]
          },
          "metadata": {},
          "execution_count": 27
        }
      ]
    },
    {
      "cell_type": "code",
      "source": [
        "obj2+2 # har bir elementga ikkini qo'shadi\n"
      ],
      "metadata": {
        "colab": {
          "base_uri": "https://localhost:8080/"
        },
        "id": "gP9nwbcak8Po",
        "outputId": "1dc7de98-0268-44dd-8d74-0bfbd9fd5f53"
      },
      "execution_count": 29,
      "outputs": [
        {
          "output_type": "execute_result",
          "data": {
            "text/plain": [
              "x    3\n",
              "y    7\n",
              "z    6\n",
              "t    2\n",
              "dtype: int64"
            ]
          },
          "metadata": {},
          "execution_count": 29
        }
      ]
    },
    {
      "cell_type": "code",
      "source": [
        "obj2[obj2<3] # obj2 ning ichidan 3 dan kichik bo'lgan sonlarni chaqirib oldik"
      ],
      "metadata": {
        "colab": {
          "base_uri": "https://localhost:8080/"
        },
        "id": "ENXSRSCOlD2v",
        "outputId": "a14e5b64-e52a-4d6f-e95a-4e86610b2b8f"
      },
      "execution_count": 32,
      "outputs": [
        {
          "output_type": "execute_result",
          "data": {
            "text/plain": [
              "x    1\n",
              "t    0\n",
              "dtype: int64"
            ]
          },
          "metadata": {},
          "execution_count": 32
        }
      ]
    },
    {
      "cell_type": "code",
      "source": [
        "np.sum(obj2) # obj2 ning ichidagi barcha elementlarni yig'indisin ko'rdik"
      ],
      "metadata": {
        "colab": {
          "base_uri": "https://localhost:8080/"
        },
        "id": "qqmRPwCIlOUE",
        "outputId": "7c1d46a6-39cf-44e8-da8c-cb372f5182c6"
      },
      "execution_count": 34,
      "outputs": [
        {
          "output_type": "execute_result",
          "data": {
            "text/plain": [
              "10"
            ]
          },
          "metadata": {},
          "execution_count": 34
        }
      ]
    },
    {
      "cell_type": "code",
      "source": [
        "# obj2 ni exponentasini topamiz\n",
        "np.exp(obj2)"
      ],
      "metadata": {
        "colab": {
          "base_uri": "https://localhost:8080/"
        },
        "id": "YaRpv_qylbXo",
        "outputId": "98482647-3e00-4ab5-fa16-ef44aa02b121"
      },
      "execution_count": 37,
      "outputs": [
        {
          "output_type": "execute_result",
          "data": {
            "text/plain": [
              "x      2.718282\n",
              "y    148.413159\n",
              "z     54.598150\n",
              "t      1.000000\n",
              "dtype: float64"
            ]
          },
          "metadata": {},
          "execution_count": 37
        }
      ]
    },
    {
      "cell_type": "code",
      "source": [
        "# obj2 ni sqrt() metodi bilan kvadrat ildizini hisoblaymiz\n",
        "np.sqrt(obj2)"
      ],
      "metadata": {
        "colab": {
          "base_uri": "https://localhost:8080/"
        },
        "id": "Ql-VuMSHlouv",
        "outputId": "c0902d3b-f9bc-490e-b172-114712f085b4"
      },
      "execution_count": 38,
      "outputs": [
        {
          "output_type": "execute_result",
          "data": {
            "text/plain": [
              "x    1.000000\n",
              "y    2.236068\n",
              "z    2.000000\n",
              "t    0.000000\n",
              "dtype: float64"
            ]
          },
          "metadata": {},
          "execution_count": 38
        }
      ]
    },
    {
      "cell_type": "code",
      "source": [
        "# square() metodi bilan kvadratga oshiramiz\n",
        "np.square(obj2)"
      ],
      "metadata": {
        "colab": {
          "base_uri": "https://localhost:8080/"
        },
        "id": "Gj7eO5T2mNa4",
        "outputId": "3f7a3ca3-c683-4a11-881f-612fdf8ed4c2"
      },
      "execution_count": 39,
      "outputs": [
        {
          "output_type": "execute_result",
          "data": {
            "text/plain": [
              "x     1\n",
              "y    25\n",
              "z    16\n",
              "t     0\n",
              "dtype: int64"
            ]
          },
          "metadata": {},
          "execution_count": 39
        }
      ]
    },
    {
      "cell_type": "markdown",
      "source": [
        "# Takrorlash\n"
      ],
      "metadata": {
        "id": "BoKEgga8rCKD"
      }
    },
    {
      "cell_type": "code",
      "source": [
        "ser=Series([1,4,2,14,9,])\n"
      ],
      "metadata": {
        "id": "MW5ufS2lrELR"
      },
      "execution_count": 40,
      "outputs": []
    },
    {
      "cell_type": "code",
      "source": [
        "# ser ni index sini ko'ramiz \n",
        "ser.index"
      ],
      "metadata": {
        "colab": {
          "base_uri": "https://localhost:8080/"
        },
        "id": "60j9Ueq0ryJA",
        "outputId": "140bc078-0e70-44e3-c93b-e22e164c6507"
      },
      "execution_count": 41,
      "outputs": [
        {
          "output_type": "execute_result",
          "data": {
            "text/plain": [
              "RangeIndex(start=0, stop=5, step=1)"
            ]
          },
          "metadata": {},
          "execution_count": 41
        }
      ]
    },
    {
      "cell_type": "code",
      "source": [
        "# ser ni elementlarini chiqarmiz\n",
        "ser.values"
      ],
      "metadata": {
        "colab": {
          "base_uri": "https://localhost:8080/"
        },
        "id": "KoQfyabGr37s",
        "outputId": "96f51647-e050-4fc3-954a-190373c86eca"
      },
      "execution_count": 42,
      "outputs": [
        {
          "output_type": "execute_result",
          "data": {
            "text/plain": [
              "array([ 1,  4,  2, 14,  9])"
            ]
          },
          "metadata": {},
          "execution_count": 42
        }
      ]
    },
    {
      "cell_type": "code",
      "source": [
        "# O'zmiz xoxlagan indexni berib Series dan foydalanamiz\n",
        "ser1=Series([1,4,2,9,7,5], index=['@',\"#\",\"$\",\"^\",\"*\",\"!\"])\n",
        "ser1"
      ],
      "metadata": {
        "colab": {
          "base_uri": "https://localhost:8080/"
        },
        "id": "oDTQ_IvEr9uT",
        "outputId": "7a755d90-caa1-4613-e3b0-5cb1ad8a8ca7"
      },
      "execution_count": 43,
      "outputs": [
        {
          "output_type": "execute_result",
          "data": {
            "text/plain": [
              "@    1\n",
              "#    4\n",
              "$    2\n",
              "^    9\n",
              "*    7\n",
              "!    5\n",
              "dtype: int64"
            ]
          },
          "metadata": {},
          "execution_count": 43
        }
      ]
    },
    {
      "cell_type": "code",
      "source": [
        "# yuqorida ko'rishingiz mumkin indexlarni noodatiy ko'rinishda berdik\n",
        "# ser1 dan kerakli elementni index berib chaqirib olamiz\n",
        "ser1['#']"
      ],
      "metadata": {
        "colab": {
          "base_uri": "https://localhost:8080/"
        },
        "id": "6o1E0dfgsgjN",
        "outputId": "e6cd364f-8b1c-43bd-ab34-bc11b8a1792f"
      },
      "execution_count": 44,
      "outputs": [
        {
          "output_type": "execute_result",
          "data": {
            "text/plain": [
              "4"
            ]
          },
          "metadata": {},
          "execution_count": 44
        }
      ]
    },
    {
      "cell_type": "code",
      "source": [
        "ser1[\"$\"]"
      ],
      "metadata": {
        "colab": {
          "base_uri": "https://localhost:8080/"
        },
        "id": "j5oEnI5Rsyz0",
        "outputId": "81d5e953-0777-4036-9d23-199ed03a3316"
      },
      "execution_count": 45,
      "outputs": [
        {
          "output_type": "execute_result",
          "data": {
            "text/plain": [
              "2"
            ]
          },
          "metadata": {},
          "execution_count": 45
        }
      ]
    },
    {
      "cell_type": "code",
      "source": [
        "# bir nechta elementlarni chaqirib olamiz\n",
        "ser1[[\"#\",\"$\",\"^\",\"$\",\"^\"]]\n"
      ],
      "metadata": {
        "colab": {
          "base_uri": "https://localhost:8080/"
        },
        "id": "f36vwzmOs1gT",
        "outputId": "f16a7034-eaa5-43dc-8f01-073dc9a56c0e"
      },
      "execution_count": 47,
      "outputs": [
        {
          "output_type": "execute_result",
          "data": {
            "text/plain": [
              "#    4\n",
              "$    2\n",
              "^    9\n",
              "$    2\n",
              "^    9\n",
              "dtype: int64"
            ]
          },
          "metadata": {},
          "execution_count": 47
        }
      ]
    },
    {
      "cell_type": "code",
      "source": [
        "ser2=ser1[ser1>5]"
      ],
      "metadata": {
        "id": "bsRT0hREs_lN"
      },
      "execution_count": 49,
      "outputs": []
    },
    {
      "cell_type": "code",
      "source": [
        "ser2 # ser1 dan 5 dan katta bo'lgan elementlarni yangi o'zgaruvchiga yuklab chaqrib oldik\n"
      ],
      "metadata": {
        "colab": {
          "base_uri": "https://localhost:8080/"
        },
        "id": "91ajRMCitKMQ",
        "outputId": "da5b8f0a-9e6b-4ace-a365-fb5a836897ea"
      },
      "execution_count": 51,
      "outputs": [
        {
          "output_type": "execute_result",
          "data": {
            "text/plain": [
              "^    9\n",
              "*    7\n",
              "dtype: int64"
            ]
          },
          "metadata": {},
          "execution_count": 51
        }
      ]
    },
    {
      "cell_type": "code",
      "source": [
        "ser2.index"
      ],
      "metadata": {
        "colab": {
          "base_uri": "https://localhost:8080/"
        },
        "id": "pKZifLKMtM-p",
        "outputId": "2cc38d27-8dc2-4f89-800b-eb0091c1cc32"
      },
      "execution_count": 52,
      "outputs": [
        {
          "output_type": "execute_result",
          "data": {
            "text/plain": [
              "Index(['^', '*'], dtype='object')"
            ]
          },
          "metadata": {},
          "execution_count": 52
        }
      ]
    },
    {
      "cell_type": "code",
      "source": [
        "ser1"
      ],
      "metadata": {
        "colab": {
          "base_uri": "https://localhost:8080/"
        },
        "id": "9B54--NBtZZh",
        "outputId": "2084cdfb-97a0-4cc3-fcac-88ee5915198e"
      },
      "execution_count": 53,
      "outputs": [
        {
          "output_type": "execute_result",
          "data": {
            "text/plain": [
              "@    1\n",
              "#    4\n",
              "$    2\n",
              "^    9\n",
              "*    7\n",
              "!    5\n",
              "dtype: int64"
            ]
          },
          "metadata": {},
          "execution_count": 53
        }
      ]
    },
    {
      "cell_type": "code",
      "source": [
        "# numpy ning sign() metodidan foydalanamiz\n",
        "ser3=ser1[[\"#\",\"$\",\"^\",\"$\",\"^\"]]"
      ],
      "metadata": {
        "id": "s_5HumDWta9s"
      },
      "execution_count": 54,
      "outputs": []
    },
    {
      "cell_type": "code",
      "source": [
        "ser4=np.sign(ser3) # sign metodi agar elemetnlar manfiy bo'lsa -1 musbat bo'lsa 1 deb chiqaradi\n",
        "ser4"
      ],
      "metadata": {
        "colab": {
          "base_uri": "https://localhost:8080/"
        },
        "id": "wdrEVi2Ct08-",
        "outputId": "2c61c989-74bd-4288-f1d4-52ddb1893ba9"
      },
      "execution_count": 56,
      "outputs": [
        {
          "output_type": "execute_result",
          "data": {
            "text/plain": [
              "#    1\n",
              "$    1\n",
              "^    1\n",
              "$    1\n",
              "^    1\n",
              "dtype: int64"
            ]
          },
          "metadata": {},
          "execution_count": 56
        }
      ]
    },
    {
      "cell_type": "code",
      "source": [
        "ser3**3"
      ],
      "metadata": {
        "colab": {
          "base_uri": "https://localhost:8080/"
        },
        "id": "LqPPicP-t6xj",
        "outputId": "2b506eb0-beec-4208-dace-c34d66d4d199"
      },
      "execution_count": 57,
      "outputs": [
        {
          "output_type": "execute_result",
          "data": {
            "text/plain": [
              "#     64\n",
              "$      8\n",
              "^    729\n",
              "$      8\n",
              "^    729\n",
              "dtype: int64"
            ]
          },
          "metadata": {},
          "execution_count": 57
        }
      ]
    },
    {
      "cell_type": "code",
      "source": [
        "yigindi=np.sum(ser3) \n",
        "yigindi"
      ],
      "metadata": {
        "colab": {
          "base_uri": "https://localhost:8080/"
        },
        "id": "TYN8RZqKuRcK",
        "outputId": "5a26d116-d9b3-498f-9d66-4b97b1265b2a"
      },
      "execution_count": 59,
      "outputs": [
        {
          "output_type": "execute_result",
          "data": {
            "text/plain": [
              "26"
            ]
          },
          "metadata": {},
          "execution_count": 59
        }
      ]
    },
    {
      "cell_type": "code",
      "source": [],
      "metadata": {
        "id": "cn7wsJuBuanI"
      },
      "execution_count": null,
      "outputs": []
    }
  ]
}