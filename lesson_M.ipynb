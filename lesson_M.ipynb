{
  "nbformat": 4,
  "nbformat_minor": 0,
  "metadata": {
    "colab": {
      "provenance": [],
      "authorship_tag": "ABX9TyPuElNntaH68QwDcSJVSmOc",
      "include_colab_link": true
    },
    "kernelspec": {
      "name": "python3",
      "display_name": "Python 3"
    },
    "language_info": {
      "name": "python"
    },
    "gpuClass": "standard"
  },
  "cells": [
    {
      "cell_type": "markdown",
      "metadata": {
        "id": "view-in-github",
        "colab_type": "text"
      },
      "source": [
        "<a href=\"https://colab.research.google.com/github/MUHAMMADALIBOBOKHON2003/mening_darslarim/blob/main/lesson_M.ipynb\" target=\"_parent\"><img src=\"https://colab.research.google.com/assets/colab-badge.svg\" alt=\"Open In Colab\"/></a>"
      ]
    },
    {
      "cell_type": "code",
      "execution_count": 1,
      "metadata": {
        "colab": {
          "base_uri": "https://localhost:8080/"
        },
        "id": "zlaV4oQ0oQ6v",
        "outputId": "efebadf6-ca96-4622-9201-6c74fcf7844e"
      },
      "outputs": [
        {
          "output_type": "stream",
          "name": "stdout",
          "text": [
            "Assalam alaykum\n"
          ]
        }
      ],
      "source": [
        "print(\"Assalam alaykum\")"
      ]
    },
    {
      "cell_type": "code",
      "source": [
        "import keras\n",
        "import sklearn\n",
        "import pandas as pd\n",
        "import matplotlib.pyplot as mlt\n",
        "import tensorflow as tf\n",
        "import numpy as np\n",
        "import torch\n"
      ],
      "metadata": {
        "id": "G8lVZ3KVoW03"
      },
      "execution_count": 2,
      "outputs": []
    },
    {
      "cell_type": "code",
      "source": [
        "import torch\n",
        "torch.cuda.is_available()"
      ],
      "metadata": {
        "colab": {
          "base_uri": "https://localhost:8080/"
        },
        "id": "0nJPBTU-owoS",
        "outputId": "90e09a7c-d908-4ca3-e8f3-1a4cc7442c31"
      },
      "execution_count": 1,
      "outputs": [
        {
          "output_type": "execute_result",
          "data": {
            "text/plain": [
              "True"
            ]
          },
          "metadata": {},
          "execution_count": 1
        }
      ]
    },
    {
      "cell_type": "code",
      "source": [
        "import torch\n",
        "torch.cuda.is_am"
      ],
      "metadata": {
        "colab": {
          "base_uri": "https://localhost:8080/"
        },
        "id": "5q0gsREJo8aI",
        "outputId": "4345dc55-f9ca-44bf-914c-2f4680aba40e"
      },
      "execution_count": 3,
      "outputs": [
        {
          "output_type": "execute_result",
          "data": {
            "text/plain": [
              "False"
            ]
          },
          "metadata": {},
          "execution_count": 3
        }
      ]
    },
    {
      "cell_type": "markdown",
      "source": [
        "# BEST_GAME\n",
        " -[ CALL OF DUTY](https://www.callofduty.com/)\n",
        " \n"
      ],
      "metadata": {
        "id": "nu_dq6JWpw1f"
      }
    },
    {
      "cell_type": "code",
      "source": [],
      "metadata": {
        "id": "dwH8Mg4qqUoE"
      },
      "execution_count": null,
      "outputs": []
    }
  ]
}