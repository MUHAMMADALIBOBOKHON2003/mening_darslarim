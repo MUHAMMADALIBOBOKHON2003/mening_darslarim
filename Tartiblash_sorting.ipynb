{
  "nbformat": 4,
  "nbformat_minor": 0,
  "metadata": {
    "colab": {
      "provenance": [],
      "authorship_tag": "ABX9TyO+xvoLtWvWkcO7dh6OEycN",
      "include_colab_link": true
    },
    "kernelspec": {
      "name": "python3",
      "display_name": "Python 3"
    },
    "language_info": {
      "name": "python"
    }
  },
  "cells": [
    {
      "cell_type": "markdown",
      "metadata": {
        "id": "view-in-github",
        "colab_type": "text"
      },
      "source": [
        "<a href=\"https://colab.research.google.com/github/MUHAMMADALIBOBOKHON2003/mening_darslarim/blob/main/Tartiblash_sorting.ipynb\" target=\"_parent\"><img src=\"https://colab.research.google.com/assets/colab-badge.svg\" alt=\"Open In Colab\"/></a>"
      ]
    },
    {
      "cell_type": "code",
      "execution_count": 1,
      "metadata": {
        "colab": {
          "base_uri": "https://localhost:8080/",
          "height": 36
        },
        "id": "cnycuWmte95C",
        "outputId": "85d1682e-f37b-45f2-a864-4311f03ba60c"
      },
      "outputs": [
        {
          "output_type": "execute_result",
          "data": {
            "text/plain": [
              "'Hello Mukhammadali'"
            ],
            "application/vnd.google.colaboratory.intrinsic+json": {
              "type": "string"
            }
          },
          "metadata": {},
          "execution_count": 1
        }
      ],
      "source": [
        "\"\"\"Hello Mukhammadali\"\"\"\n"
      ]
    },
    {
      "cell_type": "code",
      "source": [
        "import numpy as np"
      ],
      "metadata": {
        "id": "e3JR4L5qfWc3"
      },
      "execution_count": 2,
      "outputs": []
    },
    {
      "cell_type": "code",
      "source": [
        "# arr yaratib olamiz\n",
        "arr1=np.random.rand(5)\n",
        "arr1"
      ],
      "metadata": {
        "colab": {
          "base_uri": "https://localhost:8080/"
        },
        "id": "FMewRcXBfYuR",
        "outputId": "95f9ca1f-71f0-4e20-af82-8a37d635e979"
      },
      "execution_count": 17,
      "outputs": [
        {
          "output_type": "execute_result",
          "data": {
            "text/plain": [
              "array([0.21199046, 0.78625323, 0.63535055, 0.29797331, 0.55609144])"
            ]
          },
          "metadata": {},
          "execution_count": 17
        }
      ]
    },
    {
      "cell_type": "code",
      "source": [
        "sl=np.sort(arr1).copy() # arr1 ni ketmaket qilib tartiblaymiz asl nusxasini saqlagan xolda\n",
        "\n",
        "sl"
      ],
      "metadata": {
        "colab": {
          "base_uri": "https://localhost:8080/"
        },
        "id": "kEZF2UaCg9kA",
        "outputId": "775845bf-4b11-4fa5-f0e7-4448ac04d824"
      },
      "execution_count": 21,
      "outputs": [
        {
          "output_type": "execute_result",
          "data": {
            "text/plain": [
              "array([0.21199046, 0.29797331, 0.55609144, 0.63535055, 0.78625323])"
            ]
          },
          "metadata": {},
          "execution_count": 21
        }
      ]
    },
    {
      "cell_type": "code",
      "source": [
        "arr1"
      ],
      "metadata": {
        "colab": {
          "base_uri": "https://localhost:8080/"
        },
        "id": "lDbfO1X9hH1v",
        "outputId": "0f30975b-b053-4637-8901-16cd9994ebb6"
      },
      "execution_count": 22,
      "outputs": [
        {
          "output_type": "execute_result",
          "data": {
            "text/plain": [
              "array([0.21199046, 0.78625323, 0.63535055, 0.29797331, 0.55609144])"
            ]
          },
          "metadata": {},
          "execution_count": 22
        }
      ]
    },
    {
      "cell_type": "code",
      "source": [
        "rev_arr=-np.sort(-arr1)\n",
        "rev_arr"
      ],
      "metadata": {
        "colab": {
          "base_uri": "https://localhost:8080/"
        },
        "id": "6mBJjOuQhjwn",
        "outputId": "721ed9c8-8599-4c4b-9958-473eac4e70c6"
      },
      "execution_count": 24,
      "outputs": [
        {
          "output_type": "execute_result",
          "data": {
            "text/plain": [
              "array([0.78625323, 0.63535055, 0.55609144, 0.29797331, 0.21199046])"
            ]
          },
          "metadata": {},
          "execution_count": 24
        }
      ]
    },
    {
      "cell_type": "code",
      "source": [
        "arr1.sort()\n",
        "arr1"
      ],
      "metadata": {
        "colab": {
          "base_uri": "https://localhost:8080/"
        },
        "id": "JW8yJKaGiB9-",
        "outputId": "83667199-5b9d-4536-cf60-adab83e5c02c"
      },
      "execution_count": 26,
      "outputs": [
        {
          "output_type": "execute_result",
          "data": {
            "text/plain": [
              "array([0.21199046, 0.29797331, 0.55609144, 0.63535055, 0.78625323])"
            ]
          },
          "metadata": {},
          "execution_count": 26
        }
      ]
    },
    {
      "cell_type": "code",
      "source": [
        "# ikki o'lchamli massiv yaratamiz\n",
        "arr2d=np.random.randn(2,4)\n",
        "arr2d"
      ],
      "metadata": {
        "colab": {
          "base_uri": "https://localhost:8080/"
        },
        "id": "tJrGq8A7iNap",
        "outputId": "5a32c9c6-2981-429d-e0db-797dd7e0c2b0"
      },
      "execution_count": 27,
      "outputs": [
        {
          "output_type": "execute_result",
          "data": {
            "text/plain": [
              "array([[ 0.84640578,  1.48338007,  1.40902446, -1.18437547],\n",
              "       [ 0.3567256 , -1.7599033 ,  1.3633485 ,  0.48181144]])"
            ]
          },
          "metadata": {},
          "execution_count": 27
        }
      ]
    },
    {
      "cell_type": "code",
      "source": [
        "# ustun bo'yicha tartiblaymiz\n",
        "ust_arr=np.sort(arr2d, axis=0)\n",
        "ust_arr"
      ],
      "metadata": {
        "colab": {
          "base_uri": "https://localhost:8080/"
        },
        "id": "vPYz_MTNjpmw",
        "outputId": "35c6e60d-787c-4fed-bb8a-95ebb4fb7336"
      },
      "execution_count": 29,
      "outputs": [
        {
          "output_type": "execute_result",
          "data": {
            "text/plain": [
              "array([[ 0.3567256 , -1.7599033 ,  1.3633485 , -1.18437547],\n",
              "       [ 0.84640578,  1.48338007,  1.40902446,  0.48181144]])"
            ]
          },
          "metadata": {},
          "execution_count": 29
        }
      ]
    },
    {
      "cell_type": "code",
      "source": [
        "# ustun bo'yicha teskari tartiblaymiz\n",
        "u_t_arr=-np.sort(-arr2d,axis=0)\n",
        "u_t_arr"
      ],
      "metadata": {
        "colab": {
          "base_uri": "https://localhost:8080/"
        },
        "id": "myvRtwNIjz9n",
        "outputId": "5782e771-1fef-490e-e8c5-b7d7da0f1bed"
      },
      "execution_count": 30,
      "outputs": [
        {
          "output_type": "execute_result",
          "data": {
            "text/plain": [
              "array([[ 0.84640578,  1.48338007,  1.40902446,  0.48181144],\n",
              "       [ 0.3567256 , -1.7599033 ,  1.3633485 , -1.18437547]])"
            ]
          },
          "metadata": {},
          "execution_count": 30
        }
      ]
    },
    {
      "cell_type": "code",
      "source": [
        "# qatorlar bo'yicha tartiblaymiz\n",
        "qat_arr=np.sort(arr2d, axis=1)\n",
        "qat_arr"
      ],
      "metadata": {
        "colab": {
          "base_uri": "https://localhost:8080/"
        },
        "id": "o1_ksS1zkJDG",
        "outputId": "4053291b-ca35-4702-b080-724e5f16c200"
      },
      "execution_count": 31,
      "outputs": [
        {
          "output_type": "execute_result",
          "data": {
            "text/plain": [
              "array([[-1.18437547,  0.84640578,  1.40902446,  1.48338007],\n",
              "       [-1.7599033 ,  0.3567256 ,  0.48181144,  1.3633485 ]])"
            ]
          },
          "metadata": {},
          "execution_count": 31
        }
      ]
    },
    {
      "cell_type": "code",
      "source": [
        "# qatorlar bo'yicha teskari tartiblaymiz\n",
        "q_t_arr=-np.sort(-arr2d, axis=1)\n",
        "q_t_arr"
      ],
      "metadata": {
        "colab": {
          "base_uri": "https://localhost:8080/"
        },
        "id": "TFwrQX8DkWs2",
        "outputId": "d80d25c9-77b1-4c97-cf35-102d7c38c532"
      },
      "execution_count": 32,
      "outputs": [
        {
          "output_type": "execute_result",
          "data": {
            "text/plain": [
              "array([[ 1.48338007,  1.40902446,  0.84640578, -1.18437547],\n",
              "       [ 1.3633485 ,  0.48181144,  0.3567256 , -1.7599033 ]])"
            ]
          },
          "metadata": {},
          "execution_count": 32
        }
      ]
    },
    {
      "cell_type": "markdown",
      "source": [
        "# MUSTAQIL TAKRORLASH"
      ],
      "metadata": {
        "id": "LrXWD2dXk4ZM"
      }
    },
    {
      "cell_type": "code",
      "source": [
        "arr2=np.random.randint(20,29,size=(2,4))\n",
        "arr2"
      ],
      "metadata": {
        "colab": {
          "base_uri": "https://localhost:8080/"
        },
        "id": "ZtHhkUdVk8nj",
        "outputId": "5066a4d7-c825-4282-af90-0fa955ee2b79"
      },
      "execution_count": 36,
      "outputs": [
        {
          "output_type": "execute_result",
          "data": {
            "text/plain": [
              "array([[23, 21, 24, 21],\n",
              "       [23, 28, 26, 22]])"
            ]
          },
          "metadata": {},
          "execution_count": 36
        }
      ]
    },
    {
      "cell_type": "code",
      "source": [
        "\n",
        "# arr2 o'zgartirish kiritmay tartiblash\n",
        "klone_arr=np.sort(arr2)\n",
        "klone_arr"
      ],
      "metadata": {
        "colab": {
          "base_uri": "https://localhost:8080/"
        },
        "id": "qo5_0ARqlHne",
        "outputId": "e06e7035-b13c-4dda-8900-b0e36f9f6f26"
      },
      "execution_count": 39,
      "outputs": [
        {
          "output_type": "execute_result",
          "data": {
            "text/plain": [
              "array([[21, 21, 23, 24],\n",
              "       [22, 23, 26, 28]])"
            ]
          },
          "metadata": {},
          "execution_count": 39
        }
      ]
    },
    {
      "cell_type": "code",
      "source": [
        "# arr2 tartiblash \n",
        "arr2"
      ],
      "metadata": {
        "colab": {
          "base_uri": "https://localhost:8080/"
        },
        "id": "diEyq8RElQML",
        "outputId": "cf5ec80b-f9dc-48eb-922e-7a7a04475bfa"
      },
      "execution_count": 40,
      "outputs": [
        {
          "output_type": "execute_result",
          "data": {
            "text/plain": [
              "array([[23, 21, 24, 21],\n",
              "       [23, 28, 26, 22]])"
            ]
          },
          "metadata": {},
          "execution_count": 40
        }
      ]
    },
    {
      "cell_type": "code",
      "source": [
        "# arr2 ni  tartiblash\n",
        "arr2.sort()\n",
        "arr2"
      ],
      "metadata": {
        "colab": {
          "base_uri": "https://localhost:8080/"
        },
        "id": "Wo8Dx0FOlfN5",
        "outputId": "04a2d3bf-6677-45e9-e4f8-c23431bc15d0"
      },
      "execution_count": 41,
      "outputs": [
        {
          "output_type": "execute_result",
          "data": {
            "text/plain": [
              "array([[21, 21, 23, 24],\n",
              "       [22, 23, 26, 28]])"
            ]
          },
          "metadata": {},
          "execution_count": 41
        }
      ]
    },
    {
      "cell_type": "code",
      "source": [
        "np.sort(arr2)"
      ],
      "metadata": {
        "colab": {
          "base_uri": "https://localhost:8080/"
        },
        "id": "O0Fn5psnl3lu",
        "outputId": "026440b6-d5c3-4e13-cfa4-101d3eca38ad"
      },
      "execution_count": 42,
      "outputs": [
        {
          "output_type": "execute_result",
          "data": {
            "text/plain": [
              "array([[21, 21, 23, 24],\n",
              "       [22, 23, 26, 28]])"
            ]
          },
          "metadata": {},
          "execution_count": 42
        }
      ]
    },
    {
      "cell_type": "code",
      "source": [
        "arr3=np.random.randn(6).reshape(2,3) #(2,3) massiv yaratamiz\n",
        "arr3"
      ],
      "metadata": {
        "colab": {
          "base_uri": "https://localhost:8080/"
        },
        "id": "TF9ew8cQl6Ik",
        "outputId": "0bd2ad3f-73da-4eed-a21e-2ad55d1ddbc9"
      },
      "execution_count": 44,
      "outputs": [
        {
          "output_type": "execute_result",
          "data": {
            "text/plain": [
              "array([[-0.00335104,  0.49256333, -0.48821554],\n",
              "       [-0.48811672,  1.67547443, -1.43139467]])"
            ]
          },
          "metadata": {},
          "execution_count": 44
        }
      ]
    },
    {
      "cell_type": "code",
      "source": [
        "# arr3 ustunlar bo'yicha tartiblash\n",
        "arr3_u=np.sort(arr3,axis=0)\n",
        "arr3_u"
      ],
      "metadata": {
        "colab": {
          "base_uri": "https://localhost:8080/"
        },
        "id": "fDSQ3913mIfQ",
        "outputId": "b7ccbf8e-66fd-479e-eea4-64820e42d0bf"
      },
      "execution_count": 45,
      "outputs": [
        {
          "output_type": "execute_result",
          "data": {
            "text/plain": [
              "array([[-0.48811672,  0.49256333, -1.43139467],\n",
              "       [-0.00335104,  1.67547443, -0.48821554]])"
            ]
          },
          "metadata": {},
          "execution_count": 45
        }
      ]
    },
    {
      "cell_type": "code",
      "source": [
        "# arr3 ustunlar bo'yicha teskari tartiblash\n",
        "arr_t=-np.sort(-arr3,axis=0)\n",
        "arr_t"
      ],
      "metadata": {
        "colab": {
          "base_uri": "https://localhost:8080/"
        },
        "id": "boan7dfOmY2g",
        "outputId": "8ae8ecb9-f154-4f4e-979a-97aa298539be"
      },
      "execution_count": 46,
      "outputs": [
        {
          "output_type": "execute_result",
          "data": {
            "text/plain": [
              "array([[-0.00335104,  1.67547443, -0.48821554],\n",
              "       [-0.48811672,  0.49256333, -1.43139467]])"
            ]
          },
          "metadata": {},
          "execution_count": 46
        }
      ]
    },
    {
      "cell_type": "code",
      "source": [
        "# arr3 ni qatrolar bo'yicha tartiblash\n",
        "arr_q=np.sort(arr3,axis=1)\n",
        "arr_q"
      ],
      "metadata": {
        "colab": {
          "base_uri": "https://localhost:8080/"
        },
        "id": "l9HK0N-zmnLB",
        "outputId": "672f2aec-9fc9-43ef-ecd1-712667f70d42"
      },
      "execution_count": 47,
      "outputs": [
        {
          "output_type": "execute_result",
          "data": {
            "text/plain": [
              "array([[-0.48821554, -0.00335104,  0.49256333],\n",
              "       [-1.43139467, -0.48811672,  1.67547443]])"
            ]
          },
          "metadata": {},
          "execution_count": 47
        }
      ]
    },
    {
      "cell_type": "code",
      "source": [
        "# arr3 ni qatrolar bo'yicha teskari tartiblash\n",
        "arr3_t=-np.sort(-arr3,axis=1)\n",
        "arr3_t"
      ],
      "metadata": {
        "colab": {
          "base_uri": "https://localhost:8080/"
        },
        "id": "5YtSo6xRm1_l",
        "outputId": "88b892a3-3beb-4b23-cdbb-f7737bf72f51"
      },
      "execution_count": 48,
      "outputs": [
        {
          "output_type": "execute_result",
          "data": {
            "text/plain": [
              "array([[ 0.49256333, -0.00335104, -0.48821554],\n",
              "       [ 1.67547443, -0.48811672, -1.43139467]])"
            ]
          },
          "metadata": {},
          "execution_count": 48
        }
      ]
    },
    {
      "cell_type": "code",
      "source": [
        "! ls"
      ],
      "metadata": {
        "colab": {
          "base_uri": "https://localhost:8080/"
        },
        "id": "zVERiVeTnMbN",
        "outputId": "778b81ac-3ec3-4e19-e4be-4e98ac89eae4"
      },
      "execution_count": 49,
      "outputs": [
        {
          "output_type": "stream",
          "name": "stdout",
          "text": [
            "sample_data\n"
          ]
        }
      ]
    },
    {
      "cell_type": "code",
      "source": [
        "import pandas \n",
        "read_f=pandas.read_excel(\"./INFO/INFO.xlsx\")\n",
        "read_f.head(3)"
      ],
      "metadata": {
        "colab": {
          "base_uri": "https://localhost:8080/",
          "height": 143
        },
        "id": "8KgRzREKnQY-",
        "outputId": "c5c33525-0e90-4ded-cba7-2ec70d6c2d11"
      },
      "execution_count": 51,
      "outputs": [
        {
          "output_type": "execute_result",
          "data": {
            "text/plain": [
              "   №      РАЙОН                  Ф.И.О\n",
              "0  1   ЮНУСОБОД          ХУСАНОВ БОБУР\n",
              "1  2  СЕРГЕЛИ-6  БОБОХОНОВ МУХАММАДАЛИ\n",
              "2  3  СЕРГЕЛИ-8        ФАРХОДОВ СУННАТ"
            ],
            "text/html": [
              "\n",
              "  <div id=\"df-ddfd6973-7176-43bf-8078-0d0ae2e93a90\">\n",
              "    <div class=\"colab-df-container\">\n",
              "      <div>\n",
              "<style scoped>\n",
              "    .dataframe tbody tr th:only-of-type {\n",
              "        vertical-align: middle;\n",
              "    }\n",
              "\n",
              "    .dataframe tbody tr th {\n",
              "        vertical-align: top;\n",
              "    }\n",
              "\n",
              "    .dataframe thead th {\n",
              "        text-align: right;\n",
              "    }\n",
              "</style>\n",
              "<table border=\"1\" class=\"dataframe\">\n",
              "  <thead>\n",
              "    <tr style=\"text-align: right;\">\n",
              "      <th></th>\n",
              "      <th>№</th>\n",
              "      <th>РАЙОН</th>\n",
              "      <th>Ф.И.О</th>\n",
              "    </tr>\n",
              "  </thead>\n",
              "  <tbody>\n",
              "    <tr>\n",
              "      <th>0</th>\n",
              "      <td>1</td>\n",
              "      <td>ЮНУСОБОД</td>\n",
              "      <td>ХУСАНОВ БОБУР</td>\n",
              "    </tr>\n",
              "    <tr>\n",
              "      <th>1</th>\n",
              "      <td>2</td>\n",
              "      <td>СЕРГЕЛИ-6</td>\n",
              "      <td>БОБОХОНОВ МУХАММАДАЛИ</td>\n",
              "    </tr>\n",
              "    <tr>\n",
              "      <th>2</th>\n",
              "      <td>3</td>\n",
              "      <td>СЕРГЕЛИ-8</td>\n",
              "      <td>ФАРХОДОВ СУННАТ</td>\n",
              "    </tr>\n",
              "  </tbody>\n",
              "</table>\n",
              "</div>\n",
              "      <button class=\"colab-df-convert\" onclick=\"convertToInteractive('df-ddfd6973-7176-43bf-8078-0d0ae2e93a90')\"\n",
              "              title=\"Convert this dataframe to an interactive table.\"\n",
              "              style=\"display:none;\">\n",
              "        \n",
              "  <svg xmlns=\"http://www.w3.org/2000/svg\" height=\"24px\"viewBox=\"0 0 24 24\"\n",
              "       width=\"24px\">\n",
              "    <path d=\"M0 0h24v24H0V0z\" fill=\"none\"/>\n",
              "    <path d=\"M18.56 5.44l.94 2.06.94-2.06 2.06-.94-2.06-.94-.94-2.06-.94 2.06-2.06.94zm-11 1L8.5 8.5l.94-2.06 2.06-.94-2.06-.94L8.5 2.5l-.94 2.06-2.06.94zm10 10l.94 2.06.94-2.06 2.06-.94-2.06-.94-.94-2.06-.94 2.06-2.06.94z\"/><path d=\"M17.41 7.96l-1.37-1.37c-.4-.4-.92-.59-1.43-.59-.52 0-1.04.2-1.43.59L10.3 9.45l-7.72 7.72c-.78.78-.78 2.05 0 2.83L4 21.41c.39.39.9.59 1.41.59.51 0 1.02-.2 1.41-.59l7.78-7.78 2.81-2.81c.8-.78.8-2.07 0-2.86zM5.41 20L4 18.59l7.72-7.72 1.47 1.35L5.41 20z\"/>\n",
              "  </svg>\n",
              "      </button>\n",
              "      \n",
              "  <style>\n",
              "    .colab-df-container {\n",
              "      display:flex;\n",
              "      flex-wrap:wrap;\n",
              "      gap: 12px;\n",
              "    }\n",
              "\n",
              "    .colab-df-convert {\n",
              "      background-color: #E8F0FE;\n",
              "      border: none;\n",
              "      border-radius: 50%;\n",
              "      cursor: pointer;\n",
              "      display: none;\n",
              "      fill: #1967D2;\n",
              "      height: 32px;\n",
              "      padding: 0 0 0 0;\n",
              "      width: 32px;\n",
              "    }\n",
              "\n",
              "    .colab-df-convert:hover {\n",
              "      background-color: #E2EBFA;\n",
              "      box-shadow: 0px 1px 2px rgba(60, 64, 67, 0.3), 0px 1px 3px 1px rgba(60, 64, 67, 0.15);\n",
              "      fill: #174EA6;\n",
              "    }\n",
              "\n",
              "    [theme=dark] .colab-df-convert {\n",
              "      background-color: #3B4455;\n",
              "      fill: #D2E3FC;\n",
              "    }\n",
              "\n",
              "    [theme=dark] .colab-df-convert:hover {\n",
              "      background-color: #434B5C;\n",
              "      box-shadow: 0px 1px 3px 1px rgba(0, 0, 0, 0.15);\n",
              "      filter: drop-shadow(0px 1px 2px rgba(0, 0, 0, 0.3));\n",
              "      fill: #FFFFFF;\n",
              "    }\n",
              "  </style>\n",
              "\n",
              "      <script>\n",
              "        const buttonEl =\n",
              "          document.querySelector('#df-ddfd6973-7176-43bf-8078-0d0ae2e93a90 button.colab-df-convert');\n",
              "        buttonEl.style.display =\n",
              "          google.colab.kernel.accessAllowed ? 'block' : 'none';\n",
              "\n",
              "        async function convertToInteractive(key) {\n",
              "          const element = document.querySelector('#df-ddfd6973-7176-43bf-8078-0d0ae2e93a90');\n",
              "          const dataTable =\n",
              "            await google.colab.kernel.invokeFunction('convertToInteractive',\n",
              "                                                     [key], {});\n",
              "          if (!dataTable) return;\n",
              "\n",
              "          const docLinkHtml = 'Like what you see? Visit the ' +\n",
              "            '<a target=\"_blank\" href=https://colab.research.google.com/notebooks/data_table.ipynb>data table notebook</a>'\n",
              "            + ' to learn more about interactive tables.';\n",
              "          element.innerHTML = '';\n",
              "          dataTable['output_type'] = 'display_data';\n",
              "          await google.colab.output.renderOutput(dataTable, element);\n",
              "          const docLink = document.createElement('div');\n",
              "          docLink.innerHTML = docLinkHtml;\n",
              "          element.appendChild(docLink);\n",
              "        }\n",
              "      </script>\n",
              "    </div>\n",
              "  </div>\n",
              "  "
            ]
          },
          "metadata": {},
          "execution_count": 51
        }
      ]
    },
    {
      "cell_type": "code",
      "source": [],
      "metadata": {
        "id": "QHJovYl7onoV"
      },
      "execution_count": null,
      "outputs": []
    }
  ]
}