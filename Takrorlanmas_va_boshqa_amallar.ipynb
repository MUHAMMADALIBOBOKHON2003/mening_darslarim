{
  "nbformat": 4,
  "nbformat_minor": 0,
  "metadata": {
    "colab": {
      "provenance": [],
      "collapsed_sections": [],
      "authorship_tag": "ABX9TyPxhT0a3nSY53aSqBNhEgF7",
      "include_colab_link": true
    },
    "kernelspec": {
      "name": "python3",
      "display_name": "Python 3"
    },
    "language_info": {
      "name": "python"
    }
  },
  "cells": [
    {
      "cell_type": "markdown",
      "metadata": {
        "id": "view-in-github",
        "colab_type": "text"
      },
      "source": [
        "<a href=\"https://colab.research.google.com/github/MUHAMMADALIBOBOKHON2003/mening_darslarim/blob/main/Takrorlanmas_va_boshqa_amallar.ipynb\" target=\"_parent\"><img src=\"https://colab.research.google.com/assets/colab-badge.svg\" alt=\"Open In Colab\"/></a>"
      ]
    },
    {
      "cell_type": "markdown",
      "source": [
        "# Hello Mukhammadali\n"
      ],
      "metadata": {
        "id": "rjcZPbQq0h0W"
      }
    },
    {
      "cell_type": "code",
      "source": [
        "# arraylarni yaratib olamiz\n",
        "import numpy as np\n",
        "names=np.array([\"Dilorom\",\"Jasur\",\"Hamdam\",\"Doston\",\"Hamdam\",\"Jasur\"])\n",
        "ints=np.random.randint(6, size=(1,6))\n"
      ],
      "metadata": {
        "id": "1LHUq9Wm0muq"
      },
      "execution_count": null,
      "outputs": []
    },
    {
      "cell_type": "code",
      "source": [
        "names"
      ],
      "metadata": {
        "colab": {
          "base_uri": "https://localhost:8080/"
        },
        "id": "UoBvx4jw44pE",
        "outputId": "c36e0558-b242-4886-bbec-fcc6b1c84ad3"
      },
      "execution_count": null,
      "outputs": [
        {
          "output_type": "execute_result",
          "data": {
            "text/plain": [
              "array(['Dilorom', 'Jasur', 'Hamdam', 'Doston', 'Hamdam', 'Jasur'],\n",
              "      dtype='<U7')"
            ]
          },
          "metadata": {},
          "execution_count": 14
        }
      ]
    },
    {
      "cell_type": "code",
      "source": [
        "ints"
      ],
      "metadata": {
        "colab": {
          "base_uri": "https://localhost:8080/"
        },
        "id": "oIHdLQdu45dJ",
        "outputId": "edecee04-20dc-440c-8035-1f4d36eed4c0"
      },
      "execution_count": null,
      "outputs": [
        {
          "output_type": "execute_result",
          "data": {
            "text/plain": [
              "array([[4, 1, 2, 5, 4, 5]])"
            ]
          },
          "metadata": {},
          "execution_count": 15
        }
      ]
    },
    {
      "cell_type": "code",
      "source": [
        "# unique() metodi takrorlangan elementlarni takrorlamasdan konsolga chiqaradi\n",
        "x_arr=np.unique(names)\n",
        "x_arr"
      ],
      "metadata": {
        "colab": {
          "base_uri": "https://localhost:8080/"
        },
        "id": "hQ8nZn2-46H-",
        "outputId": "541aecb0-3ff7-4e54-9470-3a44c05871e4"
      },
      "execution_count": null,
      "outputs": [
        {
          "output_type": "execute_result",
          "data": {
            "text/plain": [
              "array(['Dilorom', 'Doston', 'Hamdam', 'Jasur'], dtype='<U7')"
            ]
          },
          "metadata": {},
          "execution_count": 17
        }
      ]
    },
    {
      "cell_type": "code",
      "source": [
        "x_ints=np.unique(ints)\n",
        "x_ints"
      ],
      "metadata": {
        "colab": {
          "base_uri": "https://localhost:8080/"
        },
        "id": "MirJFoEY57vR",
        "outputId": "8e190bad-bbff-48f9-bbb9-0c667fe085ed"
      },
      "execution_count": null,
      "outputs": [
        {
          "output_type": "execute_result",
          "data": {
            "text/plain": [
              "array([1, 2, 4, 5])"
            ]
          },
          "metadata": {},
          "execution_count": 19
        }
      ]
    },
    {
      "cell_type": "code",
      "source": [
        "sonlar1=np.random.randint(6,size=(1,6))\n",
        "sonlar2=np.random.randint(2,6,size=(1,4))\n"
      ],
      "metadata": {
        "id": "hGWIRxs76El5"
      },
      "execution_count": null,
      "outputs": []
    },
    {
      "cell_type": "code",
      "source": [
        "sonlar1"
      ],
      "metadata": {
        "colab": {
          "base_uri": "https://localhost:8080/"
        },
        "id": "I_Xr6p-V8JNy",
        "outputId": "d21c9601-b0ab-4e98-a695-dd0910a3f9fc"
      },
      "execution_count": null,
      "outputs": [
        {
          "output_type": "execute_result",
          "data": {
            "text/plain": [
              "array([[0, 5, 1, 4, 1, 0]])"
            ]
          },
          "metadata": {},
          "execution_count": 21
        }
      ]
    },
    {
      "cell_type": "code",
      "source": [
        "sonlar2"
      ],
      "metadata": {
        "colab": {
          "base_uri": "https://localhost:8080/"
        },
        "id": "ky97s0Q38KW1",
        "outputId": "7c27e31e-dbfc-426f-b771-c75c242c4f20"
      },
      "execution_count": null,
      "outputs": [
        {
          "output_type": "execute_result",
          "data": {
            "text/plain": [
              "array([[5, 2, 5, 5]])"
            ]
          },
          "metadata": {},
          "execution_count": 22
        }
      ]
    },
    {
      "cell_type": "code",
      "source": [
        "# in1d metodini ishlatamiz agar ikkala arrayda bo'lsa True bo'lmasa False qiymat qaytaradi\n",
        "np.in1d(sonlar1,sonlar2)\n"
      ],
      "metadata": {
        "colab": {
          "base_uri": "https://localhost:8080/"
        },
        "id": "vZ0QzwOt8K-C",
        "outputId": "3866aa65-7d75-4b10-87a9-8677ea5734fa"
      },
      "execution_count": null,
      "outputs": [
        {
          "output_type": "execute_result",
          "data": {
            "text/plain": [
              "array([False,  True, False, False, False, False])"
            ]
          },
          "metadata": {},
          "execution_count": 25
        }
      ]
    },
    {
      "cell_type": "code",
      "source": [
        "names1=np.array([\"Doniyor\", \"Akmal\",\"Anora\",\"Muhlisa\",\"Shovkat\"])\n",
        "names2=np.array([\"Muhlisa\",\"Sanjar\",\"Shoxruh\",\"Doniyor\",\"Akmal\"])\n",
        "# setdiff1d( ) ikkala arr da bo'lmagan elementni chaqirib oladi\n",
        "np.setdiff1d(names1,names2)"
      ],
      "metadata": {
        "colab": {
          "base_uri": "https://localhost:8080/"
        },
        "id": "RZ8vxotI8Njp",
        "outputId": "abcac275-429a-4cb9-80e2-0882c367acec"
      },
      "execution_count": null,
      "outputs": [
        {
          "output_type": "execute_result",
          "data": {
            "text/plain": [
              "array(['Anora', 'Shovkat'], dtype='<U7')"
            ]
          },
          "metadata": {},
          "execution_count": 29
        }
      ]
    },
    {
      "cell_type": "markdown",
      "source": [
        "# Takrorlash oxirgi 2 ta mavzuni."
      ],
      "metadata": {
        "id": "VuLn6aXmM12o"
      }
    },
    {
      "cell_type": "code",
      "source": [
        "# array yaratib olamiz\n",
        "import numpy as np \n",
        "arr1=np.random.rand(6)\n",
        "arr1\n"
      ],
      "metadata": {
        "colab": {
          "base_uri": "https://localhost:8080/"
        },
        "id": "MX54xLCsM8c0",
        "outputId": "060c7af3-71ef-4eed-f07c-e8d925bac6e1"
      },
      "execution_count": 2,
      "outputs": [
        {
          "output_type": "execute_result",
          "data": {
            "text/plain": [
              "array([0.84292126, 0.22902338, 0.1479223 , 0.39752895, 0.29729825,\n",
              "       0.42273743])"
            ]
          },
          "metadata": {},
          "execution_count": 2
        }
      ]
    },
    {
      "cell_type": "code",
      "source": [
        "# arr1 ni o'zgartirmagan xolda sort() metodidan foydalanib tartiblaymiz\n",
        "arr_sort=np.sort(arr1) \n",
        "arr_sort"
      ],
      "metadata": {
        "colab": {
          "base_uri": "https://localhost:8080/"
        },
        "id": "GmLFB_hHNKwy",
        "outputId": "b3173520-bd5e-4c90-99e9-cc08aeee6163"
      },
      "execution_count": 9,
      "outputs": [
        {
          "output_type": "execute_result",
          "data": {
            "text/plain": [
              "array([0.1479223 , 0.22902338, 0.29729825, 0.39752895, 0.42273743,\n",
              "       0.84292126])"
            ]
          },
          "metadata": {},
          "execution_count": 9
        }
      ]
    },
    {
      "cell_type": "code",
      "source": [
        "# arr1 ni o'zgartirmagan xolda sort() metodidan foydalanib teskari tartiblaymiz\n",
        "arr_min=-np.sort(-arr1)\n",
        "arr_min"
      ],
      "metadata": {
        "colab": {
          "base_uri": "https://localhost:8080/"
        },
        "id": "Bhs9eozbNpaR",
        "outputId": "feb9703c-0ef7-4f1a-a282-ce1a89297688"
      },
      "execution_count": 10,
      "outputs": [
        {
          "output_type": "execute_result",
          "data": {
            "text/plain": [
              "array([0.84292126, 0.42273743, 0.39752895, 0.29729825, 0.22902338,\n",
              "       0.1479223 ])"
            ]
          },
          "metadata": {},
          "execution_count": 10
        }
      ]
    },
    {
      "cell_type": "code",
      "source": [
        "# arr1 ni tartiblaymiz\n",
        "arr1.sort()\n",
        "arr1"
      ],
      "metadata": {
        "colab": {
          "base_uri": "https://localhost:8080/"
        },
        "id": "qGUo6L6zN-Kv",
        "outputId": "6fd09547-1709-4272-b7d3-9999c88371b1"
      },
      "execution_count": 12,
      "outputs": [
        {
          "output_type": "execute_result",
          "data": {
            "text/plain": [
              "array([0.1479223 , 0.22902338, 0.29729825, 0.39752895, 0.42273743,\n",
              "       0.84292126])"
            ]
          },
          "metadata": {},
          "execution_count": 12
        }
      ]
    },
    {
      "cell_type": "code",
      "source": [
        "# arr1 ni teskari tartiblaymiz\n",
        "-np.sort(-arr1)"
      ],
      "metadata": {
        "colab": {
          "base_uri": "https://localhost:8080/"
        },
        "id": "RkoqvP9QOD0S",
        "outputId": "f38e792e-bfc4-4ae8-a3ee-d355c36d7f85"
      },
      "execution_count": 13,
      "outputs": [
        {
          "output_type": "execute_result",
          "data": {
            "text/plain": [
              "array([0.84292126, 0.42273743, 0.39752895, 0.29729825, 0.22902338,\n",
              "       0.1479223 ])"
            ]
          },
          "metadata": {},
          "execution_count": 13
        }
      ]
    },
    {
      "cell_type": "code",
      "source": [
        "arr2d=np.random.rand(3,5)\n",
        "arr2d"
      ],
      "metadata": {
        "colab": {
          "base_uri": "https://localhost:8080/"
        },
        "id": "DD_b9m34OYoC",
        "outputId": "f8103032-f052-4cf2-b7ec-bc51e5365a43"
      },
      "execution_count": 15,
      "outputs": [
        {
          "output_type": "execute_result",
          "data": {
            "text/plain": [
              "array([[0.83440836, 0.17060589, 0.57383426, 0.56019333, 0.84455191],\n",
              "       [0.20901283, 0.08247768, 0.82122987, 0.51799855, 0.97164651],\n",
              "       [0.02954106, 0.88109677, 0.43636578, 0.38557462, 0.96661722]])"
            ]
          },
          "metadata": {},
          "execution_count": 15
        }
      ]
    },
    {
      "cell_type": "code",
      "source": [
        "# arr2d  ustunlar bo'yicha tartiblaymiz\n",
        "arr_us=np.sort(arr2d,axis=0)\n",
        "arr_us"
      ],
      "metadata": {
        "colab": {
          "base_uri": "https://localhost:8080/"
        },
        "id": "DAc-Oz3rOos7",
        "outputId": "9a7aa01b-707a-4978-de35-a1daee79910e"
      },
      "execution_count": 16,
      "outputs": [
        {
          "output_type": "execute_result",
          "data": {
            "text/plain": [
              "array([[0.02954106, 0.08247768, 0.43636578, 0.38557462, 0.84455191],\n",
              "       [0.20901283, 0.17060589, 0.57383426, 0.51799855, 0.96661722],\n",
              "       [0.83440836, 0.88109677, 0.82122987, 0.56019333, 0.97164651]])"
            ]
          },
          "metadata": {},
          "execution_count": 16
        }
      ]
    },
    {
      "cell_type": "code",
      "source": [
        "# arr2d ustunlar bo'yicha teskari tartiblaymiz\n",
        "arr_t=-np.sort(-arr2d,axis=0)\n",
        "arr_t  # bu metod pythonda arr_t.sort(reverse=True) shaklida yoziladi\n"
      ],
      "metadata": {
        "colab": {
          "base_uri": "https://localhost:8080/"
        },
        "id": "XkSbq9xsO4fw",
        "outputId": "628b139e-e7b1-4013-9309-a3845e790770"
      },
      "execution_count": 18,
      "outputs": [
        {
          "output_type": "execute_result",
          "data": {
            "text/plain": [
              "array([[0.83440836, 0.88109677, 0.82122987, 0.56019333, 0.97164651],\n",
              "       [0.20901283, 0.17060589, 0.57383426, 0.51799855, 0.96661722],\n",
              "       [0.02954106, 0.08247768, 0.43636578, 0.38557462, 0.84455191]])"
            ]
          },
          "metadata": {},
          "execution_count": 18
        }
      ]
    },
    {
      "cell_type": "code",
      "source": [
        "# arr2d  qatorlar bo'yicha tartiblaymiz\n",
        "arr_q=np.sort(arr2d,axis=1)\n",
        "arr_q"
      ],
      "metadata": {
        "colab": {
          "base_uri": "https://localhost:8080/"
        },
        "id": "b4xaWB6cPJXJ",
        "outputId": "a7031478-88d5-488e-a621-aa007b559496"
      },
      "execution_count": 19,
      "outputs": [
        {
          "output_type": "execute_result",
          "data": {
            "text/plain": [
              "array([[0.17060589, 0.56019333, 0.57383426, 0.83440836, 0.84455191],\n",
              "       [0.08247768, 0.20901283, 0.51799855, 0.82122987, 0.97164651],\n",
              "       [0.02954106, 0.38557462, 0.43636578, 0.88109677, 0.96661722]])"
            ]
          },
          "metadata": {},
          "execution_count": 19
        }
      ]
    },
    {
      "cell_type": "code",
      "source": [
        "## arr2d  ustunlar bo'yicha teskari tartiblaymiz\n",
        "arr_t=-np.sort(-arr2d,axis=1)\n",
        "arr_t"
      ],
      "metadata": {
        "colab": {
          "base_uri": "https://localhost:8080/"
        },
        "id": "XAcW4DK3PgSx",
        "outputId": "c5475555-3d1e-4860-b2f6-9742305fd564"
      },
      "execution_count": 20,
      "outputs": [
        {
          "output_type": "execute_result",
          "data": {
            "text/plain": [
              "array([[0.84455191, 0.83440836, 0.57383426, 0.56019333, 0.17060589],\n",
              "       [0.97164651, 0.82122987, 0.51799855, 0.20901283, 0.08247768],\n",
              "       [0.96661722, 0.88109677, 0.43636578, 0.38557462, 0.02954106]])"
            ]
          },
          "metadata": {},
          "execution_count": 20
        }
      ]
    },
    {
      "cell_type": "code",
      "source": [
        "# unique() metodi set() metodi bilan birhil ishlidi\n",
        "arr_son=np.random.randint(6,size=(1,6))\n",
        "arr_son\n"
      ],
      "metadata": {
        "colab": {
          "base_uri": "https://localhost:8080/"
        },
        "id": "B4IT-_zPPtPP",
        "outputId": "92a58d8c-d882-463a-805e-7451bba79f61"
      },
      "execution_count": 21,
      "outputs": [
        {
          "output_type": "execute_result",
          "data": {
            "text/plain": [
              "array([[5, 5, 2, 4, 3, 0]])"
            ]
          },
          "metadata": {},
          "execution_count": 21
        }
      ]
    },
    {
      "cell_type": "code",
      "source": [
        "np.unique(arr_son)"
      ],
      "metadata": {
        "colab": {
          "base_uri": "https://localhost:8080/"
        },
        "id": "OavrL9PBSk6x",
        "outputId": "0d03d264-2929-42db-e297-5b15fc7bcb4a"
      },
      "execution_count": 22,
      "outputs": [
        {
          "output_type": "execute_result",
          "data": {
            "text/plain": [
              "array([0, 2, 3, 4, 5])"
            ]
          },
          "metadata": {},
          "execution_count": 22
        }
      ]
    },
    {
      "cell_type": "code",
      "source": [
        "names1=np.array([\"Sanjar\",\"Anora\",\"Sojida\",\"Gulsanam\",\"Anora\",\"Saida\",\"Sojida\"])\n",
        "np.unique(names1)"
      ],
      "metadata": {
        "colab": {
          "base_uri": "https://localhost:8080/"
        },
        "id": "20NhgIPPSpeO",
        "outputId": "9a00be36-ef48-41f6-de59-c5fddbd52504"
      },
      "execution_count": 24,
      "outputs": [
        {
          "output_type": "execute_result",
          "data": {
            "text/plain": [
              "array(['Anora', 'Gulsanam', 'Saida', 'Sanjar', 'Sojida'], dtype='<U8')"
            ]
          },
          "metadata": {},
          "execution_count": 24
        }
      ]
    },
    {
      "cell_type": "code",
      "source": [
        "# in1d() ikkita arr ni solishtiradi agar ikkila arr da bir hil element bo'lsa True bo'lmasa False qaytaradi\n",
        "names2=np.array([\"Sanjar\",\"Islom\",\"Temur\",\"Sojida\"])\n",
        "np.in1d(names1,names2)"
      ],
      "metadata": {
        "colab": {
          "base_uri": "https://localhost:8080/"
        },
        "id": "4Z2VbN6cS5_7",
        "outputId": "901c9eab-b889-4240-9663-2e92de85ba92"
      },
      "execution_count": 25,
      "outputs": [
        {
          "output_type": "execute_result",
          "data": {
            "text/plain": [
              "array([ True, False,  True, False, False, False,  True])"
            ]
          },
          "metadata": {},
          "execution_count": 25
        }
      ]
    },
    {
      "cell_type": "code",
      "source": [
        "# setdiff1d() ikkita arr ni solishtiradi agar ikkila arr da bir hil element bo'lmasa o'shani oladi\n",
        "np.setdiff1d(names1,names2)"
      ],
      "metadata": {
        "colab": {
          "base_uri": "https://localhost:8080/"
        },
        "id": "TUMSZMs5TjkZ",
        "outputId": "233439b1-4d7d-4f51-b498-1ec84858cfad"
      },
      "execution_count": 26,
      "outputs": [
        {
          "output_type": "execute_result",
          "data": {
            "text/plain": [
              "array(['Anora', 'Gulsanam', 'Saida'], dtype='<U8')"
            ]
          },
          "metadata": {},
          "execution_count": 26
        }
      ]
    },
    {
      "cell_type": "code",
      "source": [],
      "metadata": {
        "id": "dEHBET0TT5fq"
      },
      "execution_count": null,
      "outputs": []
    }
  ]
}