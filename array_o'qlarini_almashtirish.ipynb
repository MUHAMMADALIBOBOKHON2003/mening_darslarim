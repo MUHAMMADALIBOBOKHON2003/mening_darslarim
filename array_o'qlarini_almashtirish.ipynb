{
  "nbformat": 4,
  "nbformat_minor": 0,
  "metadata": {
    "colab": {
      "provenance": [],
      "authorship_tag": "ABX9TyMf9i6jPaemJqcnJizs6HOR",
      "include_colab_link": true
    },
    "kernelspec": {
      "name": "python3",
      "display_name": "Python 3"
    },
    "language_info": {
      "name": "python"
    }
  },
  "cells": [
    {
      "cell_type": "markdown",
      "metadata": {
        "id": "view-in-github",
        "colab_type": "text"
      },
      "source": [
        "<a href=\"https://colab.research.google.com/github/MUHAMMADALIBOBOKHON2003/mening_darslarim/blob/main/array_o'qlarini_almashtirish.ipynb\" target=\"_parent\"><img src=\"https://colab.research.google.com/assets/colab-badge.svg\" alt=\"Open In Colab\"/></a>"
      ]
    },
    {
      "cell_type": "code",
      "execution_count": null,
      "metadata": {
        "colab": {
          "base_uri": "https://localhost:8080/"
        },
        "id": "4fBrRqw2KrCs",
        "outputId": "8d7d4ffa-95d6-437a-807f-3645b0e655f2"
      },
      "outputs": [
        {
          "output_type": "execute_result",
          "data": {
            "text/plain": [
              "array([[0, 1],\n",
              "       [2, 3],\n",
              "       [4, 5],\n",
              "       [6, 7]])"
            ]
          },
          "metadata": {},
          "execution_count": 4
        }
      ],
      "source": [
        "# amaliyot\n",
        "import numpy as np\n",
        "A=np.arange(8).reshape(4,2)\n",
        "A"
      ]
    },
    {
      "cell_type": "code",
      "source": [
        "A.T"
      ],
      "metadata": {
        "colab": {
          "base_uri": "https://localhost:8080/"
        },
        "id": "KE_LRiGgLEpW",
        "outputId": "433f8532-1c11-49ea-a9d2-4a3d70a5099e"
      },
      "execution_count": null,
      "outputs": [
        {
          "output_type": "execute_result",
          "data": {
            "text/plain": [
              "array([[0, 2, 4, 6],\n",
              "       [1, 3, 5, 7]])"
            ]
          },
          "metadata": {},
          "execution_count": 5
        }
      ]
    },
    {
      "cell_type": "code",
      "source": [
        "B=np.array([[[0, 1],\n",
        "       [2, 3],\n",
        "       [4, 5],\n",
        "       [6, 7]]])\n",
        "B.T"
      ],
      "metadata": {
        "colab": {
          "base_uri": "https://localhost:8080/"
        },
        "id": "ioavtcTWLJCR",
        "outputId": "1352c56f-7c8d-42b7-8d36-9d2a76c8349b"
      },
      "execution_count": null,
      "outputs": [
        {
          "output_type": "execute_result",
          "data": {
            "text/plain": [
              "array([[[0],\n",
              "        [2],\n",
              "        [4],\n",
              "        [6]],\n",
              "\n",
              "       [[1],\n",
              "        [3],\n",
              "        [5],\n",
              "        [7]]])"
            ]
          },
          "metadata": {},
          "execution_count": 6
        }
      ]
    },
    {
      "cell_type": "code",
      "source": [
        "A.swapaxes(0,1)"
      ],
      "metadata": {
        "colab": {
          "base_uri": "https://localhost:8080/"
        },
        "id": "iFw9HJ-MLj8X",
        "outputId": "d5571f8d-dca7-4e89-e8bb-420d66e68c7e"
      },
      "execution_count": null,
      "outputs": [
        {
          "output_type": "execute_result",
          "data": {
            "text/plain": [
              "array([[0, 2, 4, 6],\n",
              "       [1, 3, 5, 7]])"
            ]
          },
          "metadata": {},
          "execution_count": 19
        }
      ]
    },
    {
      "cell_type": "code",
      "source": [
        "np.dot(A, A.T)"
      ],
      "metadata": {
        "colab": {
          "base_uri": "https://localhost:8080/"
        },
        "id": "jHs8RtjBLs5B",
        "outputId": "a18056a5-5d26-41d3-b2e3-d6c732ffaa3a"
      },
      "execution_count": null,
      "outputs": [
        {
          "output_type": "execute_result",
          "data": {
            "text/plain": [
              "array([[ 1,  3,  5,  7],\n",
              "       [ 3, 13, 23, 33],\n",
              "       [ 5, 23, 41, 59],\n",
              "       [ 7, 33, 59, 85]])"
            ]
          },
          "metadata": {},
          "execution_count": 20
        }
      ]
    },
    {
      "cell_type": "code",
      "source": [
        "# arange funksiyasidan foydalangan xolda massiv (array) yaratib olamiz\n",
        "import numpy as np\n",
        "arr_son=np.arange(8)\n",
        "arr_son\n"
      ],
      "metadata": {
        "id": "AbjLxfhjNLvS",
        "colab": {
          "base_uri": "https://localhost:8080/"
        },
        "outputId": "ce52f795-9fd2-45fb-cb45-2407b9006c77"
      },
      "execution_count": null,
      "outputs": [
        {
          "output_type": "execute_result",
          "data": {
            "text/plain": [
              "array([0, 1, 2, 3, 4, 5, 6, 7])"
            ]
          },
          "metadata": {},
          "execution_count": 1
        }
      ]
    },
    {
      "cell_type": "code",
      "source": [
        "# yuqoridagi massivimizni reshape funksiyasidan foydalangan xolatda shape=(q,u) larini berib olamiz\n",
        "arr_kl=arr_son.reshape(4,2) # o'zimizga kerakli natijani oldik\n",
        "arr_kl"
      ],
      "metadata": {
        "colab": {
          "base_uri": "https://localhost:8080/"
        },
        "id": "SD9ct4qFice7",
        "outputId": "dcce28f2-44d6-4484-ed7e-01f6edd71628"
      },
      "execution_count": null,
      "outputs": [
        {
          "output_type": "execute_result",
          "data": {
            "text/plain": [
              "array([[0, 1],\n",
              "       [2, 3],\n",
              "       [4, 5],\n",
              "       [6, 7]])"
            ]
          },
          "metadata": {},
          "execution_count": 8
        }
      ]
    },
    {
      "cell_type": "code",
      "source": [
        "\n",
        "# vertikal xolatda turgan arrayimizni gorizontal xolatga o'tkazamiz\n",
        "arr_kl.T # Trasnpose metodidan foydalanamiz\n"
      ],
      "metadata": {
        "colab": {
          "base_uri": "https://localhost:8080/"
        },
        "id": "aGDYQ-fbiyEW",
        "outputId": "f7cc0a6e-4ce0-43d4-d17a-bf573cf0cdf2"
      },
      "execution_count": null,
      "outputs": [
        {
          "output_type": "execute_result",
          "data": {
            "text/plain": [
              "array([[0, 2, 4, 6],\n",
              "       [1, 3, 5, 7]])"
            ]
          },
          "metadata": {},
          "execution_count": 10
        }
      ]
    },
    {
      "cell_type": "code",
      "source": [
        "# swaping axes metodidan foydalanamiz\n",
        "arr_kl.swapaxes(1,0)"
      ],
      "metadata": {
        "colab": {
          "base_uri": "https://localhost:8080/"
        },
        "id": "Hm8fqwLOjccH",
        "outputId": "e6010b04-82da-4198-96d1-df3707b1b33d"
      },
      "execution_count": null,
      "outputs": [
        {
          "output_type": "execute_result",
          "data": {
            "text/plain": [
              "array([[0, 2, 4, 6],\n",
              "       [1, 3, 5, 7]])"
            ]
          },
          "metadata": {},
          "execution_count": 16
        }
      ]
    },
    {
      "cell_type": "code",
      "source": [
        "# dot() funksiyasidan foydalanamiz. Bu funksiya arraylarni ko'paytirish uchun ishlatiladi\n",
        "np.dot(arr_kl, arr_kl.T) # ko'ribturganingizdek arraylarni ko'paytirib berdi\n"
      ],
      "metadata": {
        "colab": {
          "base_uri": "https://localhost:8080/"
        },
        "id": "huhie0a4qOAh",
        "outputId": "9c61a968-83a1-4c8f-ae02-6e5f6b68941e"
      },
      "execution_count": null,
      "outputs": [
        {
          "output_type": "execute_result",
          "data": {
            "text/plain": [
              "array([[ 1,  3,  5,  7],\n",
              "       [ 3, 13, 23, 33],\n",
              "       [ 5, 23, 41, 59],\n",
              "       [ 7, 33, 59, 85]])"
            ]
          },
          "metadata": {},
          "execution_count": 17
        }
      ]
    },
    {
      "cell_type": "code",
      "source": [],
      "metadata": {
        "id": "KCpTUeldqvE8"
      },
      "execution_count": null,
      "outputs": []
    },
    {
      "cell_type": "markdown",
      "source": [
        "# TAKRORLASH"
      ],
      "metadata": {
        "id": "lf36B_xDq7_o"
      }
    },
    {
      "cell_type": "code",
      "source": [
        "# array yaratamiz: reshape(q,u) \n",
        "arr=np.arange(10).reshape(2,5)\n",
        "arr"
      ],
      "metadata": {
        "colab": {
          "base_uri": "https://localhost:8080/"
        },
        "id": "RGdqaAfurBHv",
        "outputId": "c8c94fd3-9b60-443c-adbf-8270d666d795"
      },
      "execution_count": null,
      "outputs": [
        {
          "output_type": "execute_result",
          "data": {
            "text/plain": [
              "array([[0, 1, 2, 3, 4],\n",
              "       [5, 6, 7, 8, 9]])"
            ]
          },
          "metadata": {},
          "execution_count": 19
        }
      ]
    },
    {
      "cell_type": "code",
      "source": [
        "# Trasnsope metodidan foydalanamiz\n",
        "arr.T"
      ],
      "metadata": {
        "colab": {
          "base_uri": "https://localhost:8080/"
        },
        "id": "fjrZTnf2rRUD",
        "outputId": "c82769b6-cc23-412c-a4a7-1df223d5b1cd"
      },
      "execution_count": null,
      "outputs": [
        {
          "output_type": "execute_result",
          "data": {
            "text/plain": [
              "array([[0, 5],\n",
              "       [1, 6],\n",
              "       [2, 7],\n",
              "       [3, 8],\n",
              "       [4, 9]])"
            ]
          },
          "metadata": {},
          "execution_count": 20
        }
      ]
    },
    {
      "cell_type": "code",
      "source": [
        "# yuqorida ko'rishingiz mumkin arr ni vertikal xolatga o'tkazib oldik\n"
      ],
      "metadata": {
        "id": "uNwcLSFArf6D"
      },
      "execution_count": null,
      "outputs": []
    },
    {
      "cell_type": "code",
      "source": [
        "# arr massivimizni swaping axes metodidan foydalangan xolda pozitsiyasini ko'chiramiz\n",
        "arr.swapaxes(0,1)"
      ],
      "metadata": {
        "colab": {
          "base_uri": "https://localhost:8080/"
        },
        "id": "rDtdOHSur1P3",
        "outputId": "3109b059-6cd4-4d1a-a605-f3a7630d1e27"
      },
      "execution_count": null,
      "outputs": [
        {
          "output_type": "execute_result",
          "data": {
            "text/plain": [
              "array([[0, 5],\n",
              "       [1, 6],\n",
              "       [2, 7],\n",
              "       [3, 8],\n",
              "       [4, 9]])"
            ]
          },
          "metadata": {},
          "execution_count": 23
        }
      ]
    },
    {
      "cell_type": "code",
      "source": [
        "# ko'ribturganingizdek arrayning pozitsiyasini o'zgartirdik\n"
      ],
      "metadata": {
        "id": "YiLAiFX9sIVs"
      },
      "execution_count": null,
      "outputs": []
    },
    {
      "cell_type": "code",
      "source": [
        "# arraylarni ko'paytirish\n",
        "np.dot(arr, arr.T)"
      ],
      "metadata": {
        "colab": {
          "base_uri": "https://localhost:8080/"
        },
        "id": "LStEoySNsUHl",
        "outputId": "75ce08f6-d7a9-426c-f166-749098684f5b"
      },
      "execution_count": null,
      "outputs": [
        {
          "output_type": "execute_result",
          "data": {
            "text/plain": [
              "array([[ 30,  80],\n",
              "       [ 80, 255]])"
            ]
          },
          "metadata": {},
          "execution_count": 25
        }
      ]
    },
    {
      "cell_type": "code",
      "source": [],
      "metadata": {
        "id": "LjMG1vvvsbwI"
      },
      "execution_count": null,
      "outputs": []
    }
  ]
}