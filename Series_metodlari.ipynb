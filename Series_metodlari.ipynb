{
  "nbformat": 4,
  "nbformat_minor": 0,
  "metadata": {
    "colab": {
      "provenance": [],
      "authorship_tag": "ABX9TyM3t7SrDDLA0OwgUqslOpWc",
      "include_colab_link": true
    },
    "kernelspec": {
      "name": "python3",
      "display_name": "Python 3"
    },
    "language_info": {
      "name": "python"
    }
  },
  "cells": [
    {
      "cell_type": "markdown",
      "metadata": {
        "id": "view-in-github",
        "colab_type": "text"
      },
      "source": [
        "<a href=\"https://colab.research.google.com/github/MUHAMMADALIBOBOKHON2003/mening_darslarim/blob/main/Series_metodlari.ipynb\" target=\"_parent\"><img src=\"https://colab.research.google.com/assets/colab-badge.svg\" alt=\"Open In Colab\"/></a>"
      ]
    },
    {
      "cell_type": "code",
      "execution_count": null,
      "metadata": {
        "id": "Su-MmZdVyXcZ"
      },
      "outputs": [],
      "source": [
        "import numpy as np\n",
        "from pandas import Series\n"
      ]
    },
    {
      "cell_type": "code",
      "source": [
        "shop=Series({\"mayka\":10000,\"futbolka\":150000,\"krosovka\":500000,\"jeans\":250000})\n",
        "shop"
      ],
      "metadata": {
        "colab": {
          "base_uri": "https://localhost:8080/"
        },
        "id": "_JP_RoDryqYw",
        "outputId": "fd1867bf-2773-40f0-8665-194ea5883443"
      },
      "execution_count": null,
      "outputs": [
        {
          "output_type": "execute_result",
          "data": {
            "text/plain": [
              "mayka        10000\n",
              "futbolka    150000\n",
              "krosovka    500000\n",
              "jeans       250000\n",
              "dtype: int64"
            ]
          },
          "metadata": {},
          "execution_count": 4
        }
      ]
    },
    {
      "cell_type": "code",
      "source": [
        "shop.index"
      ],
      "metadata": {
        "colab": {
          "base_uri": "https://localhost:8080/"
        },
        "id": "KpwWEcjkzhzA",
        "outputId": "ffff2f84-f7b0-47ad-f8b0-06ea76131079"
      },
      "execution_count": null,
      "outputs": [
        {
          "output_type": "execute_result",
          "data": {
            "text/plain": [
              "Index(['mayka', 'futbolka', 'krosovka', 'jeans'], dtype='object')"
            ]
          },
          "metadata": {},
          "execution_count": 7
        }
      ]
    },
    {
      "cell_type": "code",
      "source": [
        "shop1=Series(shop, index=[\"kalish\", 'jeans',\"naski\",'mayka', 'futbolka', 'krosovka'])\n",
        "shop1"
      ],
      "metadata": {
        "colab": {
          "base_uri": "https://localhost:8080/"
        },
        "id": "hPUecl3fzQGd",
        "outputId": "9a66e684-1231-464b-9063-b14d2b1ead63"
      },
      "execution_count": null,
      "outputs": [
        {
          "output_type": "execute_result",
          "data": {
            "text/plain": [
              "kalish           NaN\n",
              "jeans       250000.0\n",
              "naski            NaN\n",
              "mayka        10000.0\n",
              "futbolka    150000.0\n",
              "krosovka    500000.0\n",
              "dtype: float64"
            ]
          },
          "metadata": {},
          "execution_count": 8
        }
      ]
    },
    {
      "cell_type": "code",
      "source": [
        "shop1.isnull()# Series ni ichida NaN  bo'lsa True qaytaradi\n"
      ],
      "metadata": {
        "colab": {
          "base_uri": "https://localhost:8080/"
        },
        "id": "2J6-THzrzjF5",
        "outputId": "f25b67a0-1212-4571-8a0a-5759d9b3f1af"
      },
      "execution_count": null,
      "outputs": [
        {
          "output_type": "execute_result",
          "data": {
            "text/plain": [
              "kalish       True\n",
              "jeans       False\n",
              "naski        True\n",
              "mayka       False\n",
              "futbolka    False\n",
              "krosovka    False\n",
              "dtype: bool"
            ]
          },
          "metadata": {},
          "execution_count": 10
        }
      ]
    },
    {
      "cell_type": "code",
      "source": [
        "shop1.notnull() # Seriesni ichida NaN  bo'lsa False qaytaradi"
      ],
      "metadata": {
        "colab": {
          "base_uri": "https://localhost:8080/"
        },
        "id": "_cOr1qewz_-0",
        "outputId": "40e0a783-f0f7-487a-b243-7f4bdef3c2de"
      },
      "execution_count": null,
      "outputs": [
        {
          "output_type": "execute_result",
          "data": {
            "text/plain": [
              "kalish      False\n",
              "jeans        True\n",
              "naski       False\n",
              "mayka        True\n",
              "futbolka     True\n",
              "krosovka     True\n",
              "dtype: bool"
            ]
          },
          "metadata": {},
          "execution_count": 11
        }
      ]
    },
    {
      "cell_type": "code",
      "source": [
        "shop+shop1 # hos elementlarini qo'shadi"
      ],
      "metadata": {
        "colab": {
          "base_uri": "https://localhost:8080/"
        },
        "id": "nxw1Mt890QEi",
        "outputId": "9a6c414a-2dbb-4d70-e996-6e8c9aad300f"
      },
      "execution_count": null,
      "outputs": [
        {
          "output_type": "execute_result",
          "data": {
            "text/plain": [
              "futbolka     300000.0\n",
              "jeans        500000.0\n",
              "kalish            NaN\n",
              "krosovka    1000000.0\n",
              "mayka         20000.0\n",
              "naski             NaN\n",
              "dtype: float64"
            ]
          },
          "metadata": {},
          "execution_count": 12
        }
      ]
    },
    {
      "cell_type": "code",
      "source": [
        "# shop ga nom beramiz .name\n",
        "shop.name=\"Kolizey\""
      ],
      "metadata": {
        "id": "dsUl8Bei0aA-"
      },
      "execution_count": null,
      "outputs": []
    },
    {
      "cell_type": "code",
      "source": [
        "# shop ning indexsiga nom beramiz \n",
        "shop"
      ],
      "metadata": {
        "colab": {
          "base_uri": "https://localhost:8080/"
        },
        "id": "cBmxANCu0rO-",
        "outputId": "d915633f-3cda-4416-e3c2-5e41b3b2ff73"
      },
      "execution_count": null,
      "outputs": [
        {
          "output_type": "execute_result",
          "data": {
            "text/plain": [
              "mayka        10000\n",
              "futbolka    150000\n",
              "krosovka    500000\n",
              "jeans       250000\n",
              "Name: Kolizey, dtype: int64"
            ]
          },
          "metadata": {},
          "execution_count": 14
        }
      ]
    },
    {
      "cell_type": "code",
      "source": [
        "shop.index.name=\"Tovarlar\""
      ],
      "metadata": {
        "id": "27vRS5UI0xZc"
      },
      "execution_count": null,
      "outputs": []
    },
    {
      "cell_type": "code",
      "source": [
        "shop # indexlarga nom berdik"
      ],
      "metadata": {
        "colab": {
          "base_uri": "https://localhost:8080/"
        },
        "id": "N65ze3ra01JJ",
        "outputId": "90289acc-adbf-4ef9-ff8f-1e052a498cc1"
      },
      "execution_count": null,
      "outputs": [
        {
          "output_type": "execute_result",
          "data": {
            "text/plain": [
              "Tovarlar\n",
              "mayka        10000\n",
              "futbolka    150000\n",
              "krosovka    500000\n",
              "jeans       250000\n",
              "Name: Kolizey, dtype: int64"
            ]
          },
          "metadata": {},
          "execution_count": 17
        }
      ]
    },
    {
      "cell_type": "markdown",
      "source": [
        "# TAKRORLASH"
      ],
      "metadata": {
        "id": "SfwJJw6WxKk_"
      }
    },
    {
      "cell_type": "code",
      "source": [
        "import pandas\n",
        "import numpy as np\n",
        "from pandas import Series\n"
      ],
      "metadata": {
        "id": "-LnEhMc5xOCz"
      },
      "execution_count": null,
      "outputs": []
    },
    {
      "cell_type": "code",
      "source": [
        "en_uz={\"banana\":\"olma\",\n",
        "       \"band\":\"avtomobil\",\n",
        "       \"apple\":\"olma\",\n",
        "       \"they\":\"ular\"}\n",
        "       "
      ],
      "metadata": {
        "id": "JPTKGNPdxtxk"
      },
      "execution_count": null,
      "outputs": []
    },
    {
      "cell_type": "code",
      "source": [
        "# Series yaratib uning ichida NaN qiymat bor yo'qligini tekshiramiz\n",
        "ser1=Series(en_uz)"
      ],
      "metadata": {
        "id": "bbcMNJk1xgQh"
      },
      "execution_count": null,
      "outputs": []
    },
    {
      "cell_type": "code",
      "source": [
        "ser1"
      ],
      "metadata": {
        "colab": {
          "base_uri": "https://localhost:8080/"
        },
        "id": "OEGnzQzWybwK",
        "outputId": "69b3ac17-eb83-4151-b983-258b1a32e13d"
      },
      "execution_count": null,
      "outputs": [
        {
          "output_type": "execute_result",
          "data": {
            "text/plain": [
              "banana         olma\n",
              "band      avtomobil\n",
              "apple          olma\n",
              "they           ular\n",
              "dtype: object"
            ]
          },
          "metadata": {},
          "execution_count": 4
        }
      ]
    },
    {
      "cell_type": "code",
      "source": [
        "# ser1 da 1 va 2 elementlar xato yozilgan shularni to'g'irlaymiz\n",
        "ser1[\"banana\"]=\"banan\"\n",
        "ser1[\"band\"]=\"guruh\""
      ],
      "metadata": {
        "id": "5Lw-JV6qyfEF"
      },
      "execution_count": null,
      "outputs": []
    },
    {
      "cell_type": "code",
      "source": [
        "ser1"
      ],
      "metadata": {
        "colab": {
          "base_uri": "https://localhost:8080/"
        },
        "id": "ZqkHI8Gkyzee",
        "outputId": "f7ced949-18af-47f0-cdab-83b51c958a50"
      },
      "execution_count": null,
      "outputs": [
        {
          "output_type": "execute_result",
          "data": {
            "text/plain": [
              "banana    banan\n",
              "band      guruh\n",
              "apple      olma\n",
              "they       ular\n",
              "dtype: object"
            ]
          },
          "metadata": {},
          "execution_count": 6
        }
      ]
    },
    {
      "cell_type": "code",
      "source": [
        "# yuqorida ko'rishingiz mumkin ser1 ni qiymatlarini to'g'irlab qo'ydik\n",
        "# ser1 ga nom beramiz\n",
        "ser1.name=\"Lug'at\""
      ],
      "metadata": {
        "id": "fcvKPNj8y0fz"
      },
      "execution_count": null,
      "outputs": []
    },
    {
      "cell_type": "code",
      "source": [
        "ser1"
      ],
      "metadata": {
        "colab": {
          "base_uri": "https://localhost:8080/"
        },
        "id": "YKDb9EKkzDsc",
        "outputId": "134401d3-44d6-470e-f669-77eaf3a19eb5"
      },
      "execution_count": null,
      "outputs": [
        {
          "output_type": "execute_result",
          "data": {
            "text/plain": [
              "banana    banan\n",
              "band      guruh\n",
              "apple      olma\n",
              "they       ular\n",
              "Name: Lug'at, dtype: object"
            ]
          },
          "metadata": {},
          "execution_count": 8
        }
      ]
    },
    {
      "cell_type": "code",
      "source": [
        "#ser1 ning indexsiga nom beramiz\n",
        "ser1.index.name=\"en_words\""
      ],
      "metadata": {
        "id": "f9pQRTFRzEXg"
      },
      "execution_count": null,
      "outputs": []
    },
    {
      "cell_type": "code",
      "source": [
        "ser1"
      ],
      "metadata": {
        "colab": {
          "base_uri": "https://localhost:8080/"
        },
        "id": "wFrDRfXxzRht",
        "outputId": "94a28860-a81a-4d5b-a717-a2d36741042e"
      },
      "execution_count": null,
      "outputs": [
        {
          "output_type": "execute_result",
          "data": {
            "text/plain": [
              "en_words\n",
              "banana    banan\n",
              "band      guruh\n",
              "apple      olma\n",
              "they       ular\n",
              "Name: Lug'at, dtype: object"
            ]
          },
          "metadata": {},
          "execution_count": 17
        }
      ]
    },
    {
      "cell_type": "code",
      "source": [
        "ser1.dtype"
      ],
      "metadata": {
        "colab": {
          "base_uri": "https://localhost:8080/"
        },
        "id": "-_JrP8alzSSH",
        "outputId": "1ec1f5c4-b343-4898-ba2a-4ae37ff4e1b7"
      },
      "execution_count": null,
      "outputs": [
        {
          "output_type": "execute_result",
          "data": {
            "text/plain": [
              "dtype('O')"
            ]
          },
          "metadata": {},
          "execution_count": 18
        }
      ]
    },
    {
      "cell_type": "code",
      "source": [
        "# ser1  ni index berib chaqiramiz va yo'q index ham beramiz\n",
        "ser2=Series(ser1,[\"banana\",\"band\",\"apple\",\"they\",\"car\",'money'])\n",
        "ser2"
      ],
      "metadata": {
        "colab": {
          "base_uri": "https://localhost:8080/"
        },
        "id": "sIKRt2hEzgSf",
        "outputId": "ad12921e-22fa-4654-88f9-c0f98e2a12db"
      },
      "execution_count": null,
      "outputs": [
        {
          "output_type": "execute_result",
          "data": {
            "text/plain": [
              "banana    banan\n",
              "band      guruh\n",
              "apple      olma\n",
              "they       ular\n",
              "car         NaN\n",
              "money       NaN\n",
              "Name: Lug'at, dtype: object"
            ]
          },
          "metadata": {},
          "execution_count": 23
        }
      ]
    },
    {
      "cell_type": "code",
      "source": [
        "# ser2 ning ichida NaN qiymatlar bor biz shularni aniqlashimiz kerak bo'lmas bo'lmaydi :)\n",
        "ser2.isnull() # .isnull() metodi nan qiymat bo'lsa True bo'lmasa false qaytaradi"
      ],
      "metadata": {
        "colab": {
          "base_uri": "https://localhost:8080/"
        },
        "id": "9NUHs8zo0Hfe",
        "outputId": "64178a5b-0071-4212-97b0-86016e7d5d39"
      },
      "execution_count": null,
      "outputs": [
        {
          "output_type": "execute_result",
          "data": {
            "text/plain": [
              "banana    False\n",
              "band      False\n",
              "apple     False\n",
              "they      False\n",
              "car        True\n",
              "money      True\n",
              "Name: Lug'at, dtype: bool"
            ]
          },
          "metadata": {},
          "execution_count": 25
        }
      ]
    },
    {
      "cell_type": "code",
      "source": [
        "# .notnull() bu metod objda nan qiymat bo'lsa False qaytaradi\n",
        "ser2.notnull()"
      ],
      "metadata": {
        "colab": {
          "base_uri": "https://localhost:8080/"
        },
        "id": "_hy7rdRY0peH",
        "outputId": "5fb90da0-1616-4183-958b-a273522ff737"
      },
      "execution_count": null,
      "outputs": [
        {
          "output_type": "execute_result",
          "data": {
            "text/plain": [
              "banana     True\n",
              "band       True\n",
              "apple      True\n",
              "they       True\n",
              "car       False\n",
              "money     False\n",
              "Name: Lug'at, dtype: bool"
            ]
          },
          "metadata": {},
          "execution_count": 26
        }
      ]
    },
    {
      "cell_type": "code",
      "source": [
        "# series ning icihida bizga kerakli ma'lumot bor yoki yo'qligini tekshiramiz\n",
        "\"apple\"in ser2 # indexsida turgan ma'lumotni solishtiradi"
      ],
      "metadata": {
        "colab": {
          "base_uri": "https://localhost:8080/"
        },
        "id": "7u8jSNmf0-GI",
        "outputId": "5e0cca87-8b98-4b5b-b9e2-106dd82758dd"
      },
      "execution_count": null,
      "outputs": [
        {
          "output_type": "execute_result",
          "data": {
            "text/plain": [
              "True"
            ]
          },
          "metadata": {},
          "execution_count": 29
        }
      ]
    },
    {
      "cell_type": "code",
      "source": [
        "\"gun\"in ser2"
      ],
      "metadata": {
        "colab": {
          "base_uri": "https://localhost:8080/"
        },
        "id": "zYqnHiUh1n-O",
        "outputId": "90a2d845-7096-4d22-9559-23aff8571b9b"
      },
      "execution_count": null,
      "outputs": [
        {
          "output_type": "execute_result",
          "data": {
            "text/plain": [
              "False"
            ]
          },
          "metadata": {},
          "execution_count": 30
        }
      ]
    },
    {
      "cell_type": "code",
      "source": [
        "# yuqoridagi ko'dimiz False degan qiymat qaytardi demak bizga kerakli ma'lumot yo'q"
      ],
      "metadata": {
        "id": "5-D4v9VG1zWo"
      },
      "execution_count": null,
      "outputs": []
    },
    {
      "cell_type": "code",
      "source": [
        "sonlar=np.random.randint(1,7,size=(2,3))\n",
        "sonlar"
      ],
      "metadata": {
        "colab": {
          "base_uri": "https://localhost:8080/"
        },
        "id": "NyjinME-18ZL",
        "outputId": "8eb54438-d43c-4e9e-ce85-2ab97eace415"
      },
      "execution_count": null,
      "outputs": [
        {
          "output_type": "execute_result",
          "data": {
            "text/plain": [
              "array([[1, 6, 2],\n",
              "       [1, 2, 3]])"
            ]
          },
          "metadata": {},
          "execution_count": 36
        }
      ]
    },
    {
      "cell_type": "code",
      "source": [
        "ser3=Series([1, 6, 2,1, 2, 3],index=[1,2,3,4,5,6])\n",
        "ser3"
      ],
      "metadata": {
        "colab": {
          "base_uri": "https://localhost:8080/"
        },
        "id": "jF6hKKbh4eS0",
        "outputId": "13841fe0-10c6-44ef-c525-ed14305c5801"
      },
      "execution_count": null,
      "outputs": [
        {
          "output_type": "execute_result",
          "data": {
            "text/plain": [
              "1    1\n",
              "2    6\n",
              "3    2\n",
              "4    1\n",
              "5    2\n",
              "6    3\n",
              "dtype: int64"
            ]
          },
          "metadata": {},
          "execution_count": 44
        }
      ]
    },
    {
      "cell_type": "code",
      "source": [
        "ser3.is_unique  # agar seriesda takrorlanuvchi qiymat bo'lsa False bo'lamsa Ture qiymat qaytaradi"
      ],
      "metadata": {
        "colab": {
          "base_uri": "https://localhost:8080/"
        },
        "id": "X5Z1-4Qe4jY5",
        "outputId": "b72b9990-4a5c-41ac-e619-5ba28a6e6352"
      },
      "execution_count": null,
      "outputs": [
        {
          "output_type": "execute_result",
          "data": {
            "text/plain": [
              "False"
            ]
          },
          "metadata": {},
          "execution_count": 45
        }
      ]
    },
    {
      "cell_type": "code",
      "source": [
        "ser4=Series([1, 6, 2, 3],index=[1,2,3,4])"
      ],
      "metadata": {
        "id": "OGRVq7ZT47KC"
      },
      "execution_count": null,
      "outputs": []
    },
    {
      "cell_type": "code",
      "source": [
        "ser4.is_unique"
      ],
      "metadata": {
        "colab": {
          "base_uri": "https://localhost:8080/"
        },
        "id": "ESMho90v5Yn8",
        "outputId": "de26e2dc-324f-47b6-9611-a7eeef778e79"
      },
      "execution_count": null,
      "outputs": [
        {
          "output_type": "execute_result",
          "data": {
            "text/plain": [
              "True"
            ]
          },
          "metadata": {},
          "execution_count": 47
        }
      ]
    },
    {
      "cell_type": "code",
      "source": [
        "ser3.shape # series hajmi"
      ],
      "metadata": {
        "colab": {
          "base_uri": "https://localhost:8080/"
        },
        "id": "Jng5T8lx5aqN",
        "outputId": "b08c6a1b-f6d4-42af-e272-dcd46a2f459c"
      },
      "execution_count": null,
      "outputs": [
        {
          "output_type": "execute_result",
          "data": {
            "text/plain": [
              "(6,)"
            ]
          },
          "metadata": {},
          "execution_count": 51
        }
      ]
    },
    {
      "cell_type": "code",
      "source": [
        "ser3.size"
      ],
      "metadata": {
        "colab": {
          "base_uri": "https://localhost:8080/"
        },
        "id": "DVZe-1JZ6ELi",
        "outputId": "967cfe7d-6f49-4572-ac65-f4b3565626d7"
      },
      "execution_count": null,
      "outputs": [
        {
          "output_type": "execute_result",
          "data": {
            "text/plain": [
              "6"
            ]
          },
          "metadata": {},
          "execution_count": 52
        }
      ]
    },
    {
      "cell_type": "code",
      "source": [
        "ser2.iloc[1]# series ma'lunmotlar tartib raqam bo'yicha muroja't qilish"
      ],
      "metadata": {
        "colab": {
          "base_uri": "https://localhost:8080/",
          "height": 36
        },
        "id": "h83fwY4v6N6p",
        "outputId": "f112e37b-907d-44c6-c9f9-8fd144187cd8"
      },
      "execution_count": null,
      "outputs": [
        {
          "output_type": "execute_result",
          "data": {
            "text/plain": [
              "'guruh'"
            ],
            "application/vnd.google.colaboratory.intrinsic+json": {
              "type": "string"
            }
          },
          "metadata": {},
          "execution_count": 56
        }
      ]
    },
    {
      "cell_type": "code",
      "source": [
        "ser3.iloc[-1]"
      ],
      "metadata": {
        "colab": {
          "base_uri": "https://localhost:8080/"
        },
        "id": "x-YjRvXn60Pp",
        "outputId": "8623be7d-06ab-462d-8ff0-aa23fbb09e20"
      },
      "execution_count": null,
      "outputs": [
        {
          "output_type": "execute_result",
          "data": {
            "text/plain": [
              "3"
            ]
          },
          "metadata": {},
          "execution_count": 61
        }
      ]
    },
    {
      "cell_type": "code",
      "source": [
        "ser3.max()"
      ],
      "metadata": {
        "colab": {
          "base_uri": "https://localhost:8080/"
        },
        "id": "WUwAQhj264TG",
        "outputId": "f36fe3bd-b11e-4423-83e6-72e06eb68a3f"
      },
      "execution_count": null,
      "outputs": [
        {
          "output_type": "execute_result",
          "data": {
            "text/plain": [
              "6"
            ]
          },
          "metadata": {},
          "execution_count": 62
        }
      ]
    },
    {
      "cell_type": "code",
      "source": [
        "ser3.min()"
      ],
      "metadata": {
        "colab": {
          "base_uri": "https://localhost:8080/"
        },
        "id": "jrjHSb8_7Jon",
        "outputId": "2cb229f2-4075-4d2b-bfec-e96bee20086d"
      },
      "execution_count": null,
      "outputs": [
        {
          "output_type": "execute_result",
          "data": {
            "text/plain": [
              "1"
            ]
          },
          "metadata": {},
          "execution_count": 63
        }
      ]
    },
    {
      "cell_type": "code",
      "source": [
        " ser3.mean() # o'rta arifmetigini topamiz"
      ],
      "metadata": {
        "colab": {
          "base_uri": "https://localhost:8080/"
        },
        "id": "G1BNWz-57MVs",
        "outputId": "1231e36e-c916-4345-9717-6d02ed9615bf"
      },
      "execution_count": null,
      "outputs": [
        {
          "output_type": "execute_result",
          "data": {
            "text/plain": [
              "2.5"
            ]
          },
          "metadata": {},
          "execution_count": 66
        }
      ]
    },
    {
      "cell_type": "code",
      "source": [
        "ser2[\"band\"]"
      ],
      "metadata": {
        "colab": {
          "base_uri": "https://localhost:8080/",
          "height": 36
        },
        "id": "LED79cw77deI",
        "outputId": "0433984f-acbd-43b7-b374-1a6f27d16cd3"
      },
      "execution_count": null,
      "outputs": [
        {
          "output_type": "execute_result",
          "data": {
            "text/plain": [
              "'guruh'"
            ],
            "application/vnd.google.colaboratory.intrinsic+json": {
              "type": "string"
            }
          },
          "metadata": {},
          "execution_count": 70
        }
      ]
    },
    {
      "cell_type": "code",
      "source": [],
      "metadata": {
        "id": "R___Mvqb7xFd"
      },
      "execution_count": null,
      "outputs": []
    }
  ]
}