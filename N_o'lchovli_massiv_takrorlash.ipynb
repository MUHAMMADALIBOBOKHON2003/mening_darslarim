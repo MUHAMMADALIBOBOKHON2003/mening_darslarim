{
  "nbformat": 4,
  "nbformat_minor": 0,
  "metadata": {
    "colab": {
      "provenance": [],
      "authorship_tag": "ABX9TyMt9KCQuk5s4t7FVBf+wMHo",
      "include_colab_link": true
    },
    "kernelspec": {
      "name": "python3",
      "display_name": "Python 3"
    },
    "language_info": {
      "name": "python"
    },
    "accelerator": "GPU"
  },
  "cells": [
    {
      "cell_type": "markdown",
      "metadata": {
        "id": "view-in-github",
        "colab_type": "text"
      },
      "source": [
        "<a href=\"https://colab.research.google.com/github/MUHAMMADALIBOBOKHON2003/mening_darslarim/blob/main/N_o'lchovli_massiv_takrorlash.ipynb\" target=\"_parent\"><img src=\"https://colab.research.google.com/assets/colab-badge.svg\" alt=\"Open In Colab\"/></a>"
      ]
    },
    {
      "cell_type": "code",
      "execution_count": null,
      "metadata": {
        "colab": {
          "base_uri": "https://localhost:8080/"
        },
        "id": "Q4OdNPi3HsCd",
        "outputId": "9e0d0c9e-6090-485f-9dc2-cef1c6269e73"
      },
      "outputs": [
        {
          "output_type": "stream",
          "name": "stdout",
          "text": [
            "Bismillah.\n"
          ]
        }
      ],
      "source": [
        "print(\"Bismillah.\")"
      ]
    },
    {
      "cell_type": "code",
      "source": [
        "import pandas as pd\n",
        "import numpy  as np\n",
        "import tensorflow as tf\n",
        "import keras\n",
        "import sklearn\n",
        "import matplotlib.pyplot as plt\n"
      ],
      "metadata": {
        "id": "-WVCiaZZIWIg"
      },
      "execution_count": null,
      "outputs": []
    },
    {
      "cell_type": "code",
      "source": [
        "import pandas \n",
        "read_file=pandas.read_excel(\"./read_ex/info_talabalar.xlsx\")"
      ],
      "metadata": {
        "id": "4k-38vF_In6p"
      },
      "execution_count": 3,
      "outputs": []
    },
    {
      "cell_type": "code",
      "source": [
        "read_file"
      ],
      "metadata": {
        "colab": {
          "base_uri": "https://localhost:8080/",
          "height": 614
        },
        "id": "M2NHpvQ1QIcw",
        "outputId": "8f84eac7-1148-42ee-a5bc-211c2b0c86bd"
      },
      "execution_count": 4,
      "outputs": [
        {
          "output_type": "execute_result",
          "data": {
            "text/plain": [
              "     №                  F.I.O  Bosqich   Hulqi  oraliq %  yakuniy %\n",
              "0    1          Husanov Bobur      2.0    a'lo      66.0       88.0\n",
              "1    2  Boboxonov Muhammadali      2.0  yaxshi     100.0      100.0\n",
              "2    3   Mirfayziyeva Muhlisa      2.0  yaxshi     100.0      100.0\n",
              "3    4        Hazratov Sanjar      2.0  yaxshi     100.0      100.0\n",
              "4    5         Ungalov Farxod      2.0    a'lo     100.0      100.0\n",
              "5    6       Komilova Dilnoza      2.0    a'lo     100.0      100.0\n",
              "6    7      Karimova Dilafruz      2.0    a'lo     100.0      100.0\n",
              "7    8                    NaN      NaN     NaN       NaN        NaN\n",
              "8    9                    NaN      NaN     NaN       NaN        NaN\n",
              "9   10                    NaN      NaN     NaN       NaN        NaN\n",
              "10  11                    NaN      NaN     NaN       NaN        NaN\n",
              "11  12                    NaN      NaN     NaN       NaN        NaN\n",
              "12  13                    NaN      NaN     NaN       NaN        NaN\n",
              "13  14                    NaN      NaN     NaN       NaN        NaN\n",
              "14  15                    NaN      NaN     NaN       NaN        NaN\n",
              "15  16                    NaN      NaN     NaN       NaN        NaN\n",
              "16  17                    NaN      NaN     NaN       NaN        NaN\n",
              "17  18                    NaN      NaN     NaN       NaN        NaN"
            ],
            "text/html": [
              "\n",
              "  <div id=\"df-047f82f7-0ded-4e8c-a58b-14874702650f\">\n",
              "    <div class=\"colab-df-container\">\n",
              "      <div>\n",
              "<style scoped>\n",
              "    .dataframe tbody tr th:only-of-type {\n",
              "        vertical-align: middle;\n",
              "    }\n",
              "\n",
              "    .dataframe tbody tr th {\n",
              "        vertical-align: top;\n",
              "    }\n",
              "\n",
              "    .dataframe thead th {\n",
              "        text-align: right;\n",
              "    }\n",
              "</style>\n",
              "<table border=\"1\" class=\"dataframe\">\n",
              "  <thead>\n",
              "    <tr style=\"text-align: right;\">\n",
              "      <th></th>\n",
              "      <th>№</th>\n",
              "      <th>F.I.O</th>\n",
              "      <th>Bosqich</th>\n",
              "      <th>Hulqi</th>\n",
              "      <th>oraliq %</th>\n",
              "      <th>yakuniy %</th>\n",
              "    </tr>\n",
              "  </thead>\n",
              "  <tbody>\n",
              "    <tr>\n",
              "      <th>0</th>\n",
              "      <td>1</td>\n",
              "      <td>Husanov Bobur</td>\n",
              "      <td>2.0</td>\n",
              "      <td>a'lo</td>\n",
              "      <td>66.0</td>\n",
              "      <td>88.0</td>\n",
              "    </tr>\n",
              "    <tr>\n",
              "      <th>1</th>\n",
              "      <td>2</td>\n",
              "      <td>Boboxonov Muhammadali</td>\n",
              "      <td>2.0</td>\n",
              "      <td>yaxshi</td>\n",
              "      <td>100.0</td>\n",
              "      <td>100.0</td>\n",
              "    </tr>\n",
              "    <tr>\n",
              "      <th>2</th>\n",
              "      <td>3</td>\n",
              "      <td>Mirfayziyeva Muhlisa</td>\n",
              "      <td>2.0</td>\n",
              "      <td>yaxshi</td>\n",
              "      <td>100.0</td>\n",
              "      <td>100.0</td>\n",
              "    </tr>\n",
              "    <tr>\n",
              "      <th>3</th>\n",
              "      <td>4</td>\n",
              "      <td>Hazratov Sanjar</td>\n",
              "      <td>2.0</td>\n",
              "      <td>yaxshi</td>\n",
              "      <td>100.0</td>\n",
              "      <td>100.0</td>\n",
              "    </tr>\n",
              "    <tr>\n",
              "      <th>4</th>\n",
              "      <td>5</td>\n",
              "      <td>Ungalov Farxod</td>\n",
              "      <td>2.0</td>\n",
              "      <td>a'lo</td>\n",
              "      <td>100.0</td>\n",
              "      <td>100.0</td>\n",
              "    </tr>\n",
              "    <tr>\n",
              "      <th>5</th>\n",
              "      <td>6</td>\n",
              "      <td>Komilova Dilnoza</td>\n",
              "      <td>2.0</td>\n",
              "      <td>a'lo</td>\n",
              "      <td>100.0</td>\n",
              "      <td>100.0</td>\n",
              "    </tr>\n",
              "    <tr>\n",
              "      <th>6</th>\n",
              "      <td>7</td>\n",
              "      <td>Karimova Dilafruz</td>\n",
              "      <td>2.0</td>\n",
              "      <td>a'lo</td>\n",
              "      <td>100.0</td>\n",
              "      <td>100.0</td>\n",
              "    </tr>\n",
              "    <tr>\n",
              "      <th>7</th>\n",
              "      <td>8</td>\n",
              "      <td>NaN</td>\n",
              "      <td>NaN</td>\n",
              "      <td>NaN</td>\n",
              "      <td>NaN</td>\n",
              "      <td>NaN</td>\n",
              "    </tr>\n",
              "    <tr>\n",
              "      <th>8</th>\n",
              "      <td>9</td>\n",
              "      <td>NaN</td>\n",
              "      <td>NaN</td>\n",
              "      <td>NaN</td>\n",
              "      <td>NaN</td>\n",
              "      <td>NaN</td>\n",
              "    </tr>\n",
              "    <tr>\n",
              "      <th>9</th>\n",
              "      <td>10</td>\n",
              "      <td>NaN</td>\n",
              "      <td>NaN</td>\n",
              "      <td>NaN</td>\n",
              "      <td>NaN</td>\n",
              "      <td>NaN</td>\n",
              "    </tr>\n",
              "    <tr>\n",
              "      <th>10</th>\n",
              "      <td>11</td>\n",
              "      <td>NaN</td>\n",
              "      <td>NaN</td>\n",
              "      <td>NaN</td>\n",
              "      <td>NaN</td>\n",
              "      <td>NaN</td>\n",
              "    </tr>\n",
              "    <tr>\n",
              "      <th>11</th>\n",
              "      <td>12</td>\n",
              "      <td>NaN</td>\n",
              "      <td>NaN</td>\n",
              "      <td>NaN</td>\n",
              "      <td>NaN</td>\n",
              "      <td>NaN</td>\n",
              "    </tr>\n",
              "    <tr>\n",
              "      <th>12</th>\n",
              "      <td>13</td>\n",
              "      <td>NaN</td>\n",
              "      <td>NaN</td>\n",
              "      <td>NaN</td>\n",
              "      <td>NaN</td>\n",
              "      <td>NaN</td>\n",
              "    </tr>\n",
              "    <tr>\n",
              "      <th>13</th>\n",
              "      <td>14</td>\n",
              "      <td>NaN</td>\n",
              "      <td>NaN</td>\n",
              "      <td>NaN</td>\n",
              "      <td>NaN</td>\n",
              "      <td>NaN</td>\n",
              "    </tr>\n",
              "    <tr>\n",
              "      <th>14</th>\n",
              "      <td>15</td>\n",
              "      <td>NaN</td>\n",
              "      <td>NaN</td>\n",
              "      <td>NaN</td>\n",
              "      <td>NaN</td>\n",
              "      <td>NaN</td>\n",
              "    </tr>\n",
              "    <tr>\n",
              "      <th>15</th>\n",
              "      <td>16</td>\n",
              "      <td>NaN</td>\n",
              "      <td>NaN</td>\n",
              "      <td>NaN</td>\n",
              "      <td>NaN</td>\n",
              "      <td>NaN</td>\n",
              "    </tr>\n",
              "    <tr>\n",
              "      <th>16</th>\n",
              "      <td>17</td>\n",
              "      <td>NaN</td>\n",
              "      <td>NaN</td>\n",
              "      <td>NaN</td>\n",
              "      <td>NaN</td>\n",
              "      <td>NaN</td>\n",
              "    </tr>\n",
              "    <tr>\n",
              "      <th>17</th>\n",
              "      <td>18</td>\n",
              "      <td>NaN</td>\n",
              "      <td>NaN</td>\n",
              "      <td>NaN</td>\n",
              "      <td>NaN</td>\n",
              "      <td>NaN</td>\n",
              "    </tr>\n",
              "  </tbody>\n",
              "</table>\n",
              "</div>\n",
              "      <button class=\"colab-df-convert\" onclick=\"convertToInteractive('df-047f82f7-0ded-4e8c-a58b-14874702650f')\"\n",
              "              title=\"Convert this dataframe to an interactive table.\"\n",
              "              style=\"display:none;\">\n",
              "        \n",
              "  <svg xmlns=\"http://www.w3.org/2000/svg\" height=\"24px\"viewBox=\"0 0 24 24\"\n",
              "       width=\"24px\">\n",
              "    <path d=\"M0 0h24v24H0V0z\" fill=\"none\"/>\n",
              "    <path d=\"M18.56 5.44l.94 2.06.94-2.06 2.06-.94-2.06-.94-.94-2.06-.94 2.06-2.06.94zm-11 1L8.5 8.5l.94-2.06 2.06-.94-2.06-.94L8.5 2.5l-.94 2.06-2.06.94zm10 10l.94 2.06.94-2.06 2.06-.94-2.06-.94-.94-2.06-.94 2.06-2.06.94z\"/><path d=\"M17.41 7.96l-1.37-1.37c-.4-.4-.92-.59-1.43-.59-.52 0-1.04.2-1.43.59L10.3 9.45l-7.72 7.72c-.78.78-.78 2.05 0 2.83L4 21.41c.39.39.9.59 1.41.59.51 0 1.02-.2 1.41-.59l7.78-7.78 2.81-2.81c.8-.78.8-2.07 0-2.86zM5.41 20L4 18.59l7.72-7.72 1.47 1.35L5.41 20z\"/>\n",
              "  </svg>\n",
              "      </button>\n",
              "      \n",
              "  <style>\n",
              "    .colab-df-container {\n",
              "      display:flex;\n",
              "      flex-wrap:wrap;\n",
              "      gap: 12px;\n",
              "    }\n",
              "\n",
              "    .colab-df-convert {\n",
              "      background-color: #E8F0FE;\n",
              "      border: none;\n",
              "      border-radius: 50%;\n",
              "      cursor: pointer;\n",
              "      display: none;\n",
              "      fill: #1967D2;\n",
              "      height: 32px;\n",
              "      padding: 0 0 0 0;\n",
              "      width: 32px;\n",
              "    }\n",
              "\n",
              "    .colab-df-convert:hover {\n",
              "      background-color: #E2EBFA;\n",
              "      box-shadow: 0px 1px 2px rgba(60, 64, 67, 0.3), 0px 1px 3px 1px rgba(60, 64, 67, 0.15);\n",
              "      fill: #174EA6;\n",
              "    }\n",
              "\n",
              "    [theme=dark] .colab-df-convert {\n",
              "      background-color: #3B4455;\n",
              "      fill: #D2E3FC;\n",
              "    }\n",
              "\n",
              "    [theme=dark] .colab-df-convert:hover {\n",
              "      background-color: #434B5C;\n",
              "      box-shadow: 0px 1px 3px 1px rgba(0, 0, 0, 0.15);\n",
              "      filter: drop-shadow(0px 1px 2px rgba(0, 0, 0, 0.3));\n",
              "      fill: #FFFFFF;\n",
              "    }\n",
              "  </style>\n",
              "\n",
              "      <script>\n",
              "        const buttonEl =\n",
              "          document.querySelector('#df-047f82f7-0ded-4e8c-a58b-14874702650f button.colab-df-convert');\n",
              "        buttonEl.style.display =\n",
              "          google.colab.kernel.accessAllowed ? 'block' : 'none';\n",
              "\n",
              "        async function convertToInteractive(key) {\n",
              "          const element = document.querySelector('#df-047f82f7-0ded-4e8c-a58b-14874702650f');\n",
              "          const dataTable =\n",
              "            await google.colab.kernel.invokeFunction('convertToInteractive',\n",
              "                                                     [key], {});\n",
              "          if (!dataTable) return;\n",
              "\n",
              "          const docLinkHtml = 'Like what you see? Visit the ' +\n",
              "            '<a target=\"_blank\" href=https://colab.research.google.com/notebooks/data_table.ipynb>data table notebook</a>'\n",
              "            + ' to learn more about interactive tables.';\n",
              "          element.innerHTML = '';\n",
              "          dataTable['output_type'] = 'display_data';\n",
              "          await google.colab.output.renderOutput(dataTable, element);\n",
              "          const docLink = document.createElement('div');\n",
              "          docLink.innerHTML = docLinkHtml;\n",
              "          element.appendChild(docLink);\n",
              "        }\n",
              "      </script>\n",
              "    </div>\n",
              "  </div>\n",
              "  "
            ]
          },
          "metadata": {},
          "execution_count": 4
        }
      ]
    },
    {
      "cell_type": "code",
      "source": [
        "! ls\n"
      ],
      "metadata": {
        "colab": {
          "base_uri": "https://localhost:8080/"
        },
        "id": "0h4Huhe4QLUQ",
        "outputId": "8fe9f10d-64ae-407c-a2a5-93ffe0595854"
      },
      "execution_count": 5,
      "outputs": [
        {
          "output_type": "stream",
          "name": "stdout",
          "text": [
            "read_ex  sample_data\n"
          ]
        }
      ]
    },
    {
      "cell_type": "code",
      "source": [
        "import torch\n",
        "torch.cuda.is_available()"
      ],
      "metadata": {
        "colab": {
          "base_uri": "https://localhost:8080/"
        },
        "id": "Qw3sjenPQafl",
        "outputId": "537a3ae1-5da7-4d45-e28a-1795b3708700"
      },
      "execution_count": 6,
      "outputs": [
        {
          "output_type": "execute_result",
          "data": {
            "text/plain": [
              "False"
            ]
          },
          "metadata": {},
          "execution_count": 6
        }
      ]
    },
    {
      "cell_type": "code",
      "source": [
        "import torch\n",
        "torch.cuda.is_available()"
      ],
      "metadata": {
        "colab": {
          "base_uri": "https://localhost:8080/"
        },
        "id": "pNoJVz9NQh7P",
        "outputId": "b095b0ac-6d71-42eb-da7b-99b994ee8b6f"
      },
      "execution_count": 1,
      "outputs": [
        {
          "output_type": "execute_result",
          "data": {
            "text/plain": [
              "True"
            ]
          },
          "metadata": {},
          "execution_count": 1
        }
      ]
    },
    {
      "cell_type": "code",
      "source": [
        "# listni arrayga o'tkazamiz\n",
        "import numpy\n",
        "son_list=list(range(5000))\n",
        "son_array=numpy.array(son_list)"
      ],
      "metadata": {
        "id": "k0SjhKnjQqB6"
      },
      "execution_count": 4,
      "outputs": []
    },
    {
      "cell_type": "code",
      "source": [
        "# list yoki array qaysi biri tez ishlaydi\n",
        "%time for k in range(10): [kl**2 for kl in son_list]\n",
        "%time for s in range(10): son_array**2"
      ],
      "metadata": {
        "colab": {
          "base_uri": "https://localhost:8080/"
        },
        "id": "B2yCZ34NQ92k",
        "outputId": "edef7600-64bc-44dd-8d11-cad5f2ff9ca0"
      },
      "execution_count": 6,
      "outputs": [
        {
          "output_type": "stream",
          "name": "stdout",
          "text": [
            "CPU times: user 13.2 ms, sys: 643 µs, total: 13.9 ms\n",
            "Wall time: 16.5 ms\n",
            "CPU times: user 1.95 ms, sys: 0 ns, total: 1.95 ms\n",
            "Wall time: 1.64 ms\n"
          ]
        }
      ]
    },
    {
      "cell_type": "code",
      "source": [
        "#ularning orasidagi farqni topamiz\n",
        "16.5/1.64"
      ],
      "metadata": {
        "colab": {
          "base_uri": "https://localhost:8080/"
        },
        "id": "ZhPk7dsvRmy-",
        "outputId": "943f3d09-37d6-4e17-d0b2-3cafceadfcfd"
      },
      "execution_count": 8,
      "outputs": [
        {
          "output_type": "execute_result",
          "data": {
            "text/plain": [
              "10.060975609756099"
            ]
          },
          "metadata": {},
          "execution_count": 8
        }
      ]
    },
    {
      "cell_type": "code",
      "source": [
        "# array listdan 10 marotaba tezroq ishladi"
      ],
      "metadata": {
        "id": "ZRFtLYnQRzlu"
      },
      "execution_count": 9,
      "outputs": []
    },
    {
      "cell_type": "code",
      "source": [
        "# 1 o'lchamli massiv(array) larni yaratishni o'rganamiz\n",
        "import numpy as np\n",
        "sonlar_1=[1,21,45,22,32]\n",
        "arr0=np.array(sonlar_1)\n"
      ],
      "metadata": {
        "id": "q92keWFYSAyU"
      },
      "execution_count": 10,
      "outputs": []
    },
    {
      "cell_type": "code",
      "source": [
        "# massivni nechchi o'lchamdaligini aniqlaymiz\n",
        "arr0.ndim"
      ],
      "metadata": {
        "colab": {
          "base_uri": "https://localhost:8080/"
        },
        "id": "LZtaTPsBShm9",
        "outputId": "d75d3aa9-83fe-4be5-d0f4-b96ecfd6ad47"
      },
      "execution_count": 14,
      "outputs": [
        {
          "output_type": "execute_result",
          "data": {
            "text/plain": [
              "1"
            ]
          },
          "metadata": {},
          "execution_count": 14
        }
      ]
    },
    {
      "cell_type": "code",
      "source": [
        "# massivni nechta qato, ustundan iboratligini aniqlaymiz\n",
        "arr0.shape"
      ],
      "metadata": {
        "colab": {
          "base_uri": "https://localhost:8080/"
        },
        "id": "akK1w6zuSjpT",
        "outputId": "537d18b8-5bfc-4e08-cee4-9cf7b88e2934"
      },
      "execution_count": 12,
      "outputs": [
        {
          "output_type": "execute_result",
          "data": {
            "text/plain": [
              "(5,)"
            ]
          },
          "metadata": {},
          "execution_count": 12
        }
      ]
    },
    {
      "cell_type": "code",
      "source": [
        "# massivda nechta elementi borligini ko'ramiz\n",
        "arr0.size\n"
      ],
      "metadata": {
        "colab": {
          "base_uri": "https://localhost:8080/"
        },
        "id": "CgHe46yGSnU1",
        "outputId": "340ba2f0-172d-4dd6-da9a-b7ab1da9b764"
      },
      "execution_count": 15,
      "outputs": [
        {
          "output_type": "execute_result",
          "data": {
            "text/plain": [
              "5"
            ]
          },
          "metadata": {},
          "execution_count": 15
        }
      ]
    },
    {
      "cell_type": "code",
      "source": [
        "# 0 dan iborat bo'lgan massiv(array) larni yaratamiz\n",
        "arr_0=np.zeros((4,3))"
      ],
      "metadata": {
        "id": "Wxn22WGJSrtQ"
      },
      "execution_count": 17,
      "outputs": []
    },
    {
      "cell_type": "code",
      "source": [
        "arr_0"
      ],
      "metadata": {
        "colab": {
          "base_uri": "https://localhost:8080/"
        },
        "id": "WPEYUjyfTku8",
        "outputId": "d2ce08ad-ca06-4a4a-b878-f0f123cf3cca"
      },
      "execution_count": 18,
      "outputs": [
        {
          "output_type": "execute_result",
          "data": {
            "text/plain": [
              "array([[0., 0., 0.],\n",
              "       [0., 0., 0.],\n",
              "       [0., 0., 0.],\n",
              "       [0., 0., 0.]])"
            ]
          },
          "metadata": {},
          "execution_count": 18
        }
      ]
    },
    {
      "cell_type": "code",
      "source": [
        "# tepadagi ko'dimizni quyidagicha yozishimiz mumkin\n",
        "arr_1=np.zeros(shape=(5,2))"
      ],
      "metadata": {
        "id": "lN1OSjZsToPf"
      },
      "execution_count": 19,
      "outputs": []
    },
    {
      "cell_type": "code",
      "source": [
        "arr_1\n"
      ],
      "metadata": {
        "colab": {
          "base_uri": "https://localhost:8080/"
        },
        "id": "GDd23EKmT24r",
        "outputId": "83f8d0e4-3a7a-42ed-cb2f-3a29a18ce985"
      },
      "execution_count": 20,
      "outputs": [
        {
          "output_type": "execute_result",
          "data": {
            "text/plain": [
              "array([[0., 0.],\n",
              "       [0., 0.],\n",
              "       [0., 0.],\n",
              "       [0., 0.],\n",
              "       [0., 0.]])"
            ]
          },
          "metadata": {},
          "execution_count": 20
        }
      ]
    },
    {
      "cell_type": "code",
      "source": [
        "# 1 dan iborat bo'lgan massiv(array)ni yaratamiz\n",
        "arr_one=np.ones(shape=(5,9))\n",
        "arr_one\n"
      ],
      "metadata": {
        "colab": {
          "base_uri": "https://localhost:8080/"
        },
        "id": "pb9Q-nGMT4WR",
        "outputId": "251e7d35-67a0-462a-f52d-b945ca3c7d64"
      },
      "execution_count": 21,
      "outputs": [
        {
          "output_type": "execute_result",
          "data": {
            "text/plain": [
              "array([[1., 1., 1., 1., 1., 1., 1., 1., 1.],\n",
              "       [1., 1., 1., 1., 1., 1., 1., 1., 1.],\n",
              "       [1., 1., 1., 1., 1., 1., 1., 1., 1.],\n",
              "       [1., 1., 1., 1., 1., 1., 1., 1., 1.],\n",
              "       [1., 1., 1., 1., 1., 1., 1., 1., 1.]])"
            ]
          },
          "metadata": {},
          "execution_count": 21
        }
      ]
    },
    {
      "cell_type": "code",
      "source": [
        "# yuqoridagi ko'dni quyidagi tartibda yozishimiz mumkin\n",
        "arr_ones=np.ones((4,8))"
      ],
      "metadata": {
        "id": "Ot8A82uVUH1R"
      },
      "execution_count": 22,
      "outputs": []
    },
    {
      "cell_type": "code",
      "source": [
        "arr_ones"
      ],
      "metadata": {
        "colab": {
          "base_uri": "https://localhost:8080/"
        },
        "id": "qOrKX8X1US_c",
        "outputId": "20fd5352-0b03-44e6-8e15-958bba8d0a5a"
      },
      "execution_count": 23,
      "outputs": [
        {
          "output_type": "execute_result",
          "data": {
            "text/plain": [
              "array([[1., 1., 1., 1., 1., 1., 1., 1.],\n",
              "       [1., 1., 1., 1., 1., 1., 1., 1.],\n",
              "       [1., 1., 1., 1., 1., 1., 1., 1.],\n",
              "       [1., 1., 1., 1., 1., 1., 1., 1.]])"
            ]
          },
          "metadata": {},
          "execution_count": 23
        }
      ]
    },
    {
      "cell_type": "code",
      "source": [
        "#  sonlarni ketma-ket tartibda massiv(array) yaratamiz.\n",
        "son_array=np.arange(45)\n",
        "son_array"
      ],
      "metadata": {
        "colab": {
          "base_uri": "https://localhost:8080/"
        },
        "id": "DOwW_P4WUUJq",
        "outputId": "adb03d0e-8b37-41dd-e0da-8de3d2e38177"
      },
      "execution_count": 24,
      "outputs": [
        {
          "output_type": "execute_result",
          "data": {
            "text/plain": [
              "array([ 0,  1,  2,  3,  4,  5,  6,  7,  8,  9, 10, 11, 12, 13, 14, 15, 16,\n",
              "       17, 18, 19, 20, 21, 22, 23, 24, 25, 26, 27, 28, 29, 30, 31, 32, 33,\n",
              "       34, 35, 36, 37, 38, 39, 40, 41, 42, 43, 44])"
            ]
          },
          "metadata": {},
          "execution_count": 24
        }
      ]
    },
    {
      "cell_type": "code",
      "source": [
        "# numpy kutubxonasini random funksiyasi ishlatamiz\n",
        "ran_array=np.random.randint(45, size=(2,100))\n",
        "ran_array"
      ],
      "metadata": {
        "colab": {
          "base_uri": "https://localhost:8080/"
        },
        "id": "fvcDXt8ZVj2U",
        "outputId": "8b1a20ed-ab0c-4f74-8ff6-e1c4c01eeac3"
      },
      "execution_count": 25,
      "outputs": [
        {
          "output_type": "execute_result",
          "data": {
            "text/plain": [
              "array([[24, 12, 18, 33, 19, 22,  7, 19,  9, 16, 26, 22, 42, 22, 13, 25,\n",
              "        30, 40, 31, 33,  5, 44, 14, 38,  9, 43, 34, 26, 33, 12, 11,  6,\n",
              "        15,  4,  5, 36, 41,  5, 14,  6, 13, 29, 44, 12, 24, 16, 40, 23,\n",
              "         4, 42, 33, 28, 29,  7, 31, 29,  7, 27,  7, 21, 43, 35,  3,  7,\n",
              "        31, 17,  2, 32, 31, 17, 44, 38, 42, 25, 44, 36, 42, 15, 29,  2,\n",
              "         3, 23, 22, 44,  0, 22,  5, 21, 28,  3, 42, 33, 33,  5, 42, 14,\n",
              "        11,  2,  3, 36],\n",
              "       [38, 35, 44, 35, 36, 12, 14,  4, 35, 38,  4,  3,  5, 13, 19, 19,\n",
              "        29, 38, 42, 21,  4, 22, 39, 16, 19, 40, 35,  0, 32, 17, 29, 44,\n",
              "         4, 11, 32,  8, 19,  0,  1,  3, 21, 17, 29, 22, 44,  4, 24, 30,\n",
              "        22, 16,  8,  7, 39, 39,  6, 18, 22, 30,  7, 41,  0, 25, 23, 42,\n",
              "         5, 25,  6, 39,  1, 33, 36, 33, 21, 28, 42, 21, 39, 15, 18, 26,\n",
              "        31, 36,  6,  8, 13, 34, 42, 28, 44,  0, 40, 20,  6, 22, 13, 21,\n",
              "        40,  1, 16, 36]])"
            ]
          },
          "metadata": {},
          "execution_count": 25
        }
      ]
    },
    {
      "cell_type": "code",
      "source": [
        "randn_arr=np.random.randn(4,12)"
      ],
      "metadata": {
        "id": "MX66erzmWXw6"
      },
      "execution_count": 26,
      "outputs": []
    },
    {
      "cell_type": "code",
      "source": [
        "randn_arr"
      ],
      "metadata": {
        "colab": {
          "base_uri": "https://localhost:8080/"
        },
        "id": "3msyIK_jWsxl",
        "outputId": "30efc25b-c17a-4cc8-ce01-d287f2ea6a94"
      },
      "execution_count": 27,
      "outputs": [
        {
          "output_type": "execute_result",
          "data": {
            "text/plain": [
              "array([[ 0.05405596,  0.08232516, -0.45884063,  0.54875438,  0.68629876,\n",
              "        -0.29522789,  0.14956601, -0.71694712, -0.37161814,  0.65446263,\n",
              "         1.51417352, -0.14396492],\n",
              "       [-0.625012  , -0.80657455, -1.60087367,  0.42758443, -0.82578525,\n",
              "         0.30138193,  1.07533632,  0.88036036,  1.12477332,  0.6167966 ,\n",
              "         1.03253156, -0.0079389 ],\n",
              "       [ 0.9999919 , -0.45613065,  0.08273149, -1.58544417, -1.13209192,\n",
              "         0.29974216, -0.8618677 ,  0.85624603,  0.69568934, -0.12905118,\n",
              "         0.28863194,  2.46280322],\n",
              "       [-1.98170906,  0.25432713,  0.11433171, -0.5182722 , -0.57899897,\n",
              "         1.796521  ,  0.89063986,  1.23636531,  2.35969512, -1.10049405,\n",
              "         0.66006967, -0.12594016]])"
            ]
          },
          "metadata": {},
          "execution_count": 27
        }
      ]
    },
    {
      "cell_type": "code",
      "source": [
        "rand_arr=np.random.rand(4,10) # 0 va 1 orasidagi sonlarni oladi"
      ],
      "metadata": {
        "id": "se1749UZWuPe"
      },
      "execution_count": 30,
      "outputs": []
    },
    {
      "cell_type": "code",
      "source": [
        "rand_arr\n"
      ],
      "metadata": {
        "colab": {
          "base_uri": "https://localhost:8080/"
        },
        "id": "UuczXSu-XcN2",
        "outputId": "d0276cb4-75cd-4640-fd1c-046027f7d068"
      },
      "execution_count": 31,
      "outputs": [
        {
          "output_type": "execute_result",
          "data": {
            "text/plain": [
              "array([[0.33320282, 0.62384891, 0.38176889, 0.61759361, 0.36945359,\n",
              "        0.86188393, 0.11972924, 0.57114011, 0.28362469, 0.07723421],\n",
              "       [0.14417813, 0.85496199, 0.3807745 , 0.79682945, 0.94918117,\n",
              "        0.18686788, 0.70002636, 0.52387051, 0.53070853, 0.44819293],\n",
              "       [0.49821328, 0.41230087, 0.78639644, 0.35785816, 0.84983365,\n",
              "        0.52586467, 0.04053799, 0.510596  , 0.45010341, 0.12682702],\n",
              "       [0.56800058, 0.0172846 , 0.73629178, 0.25082852, 0.12023715,\n",
              "        0.99578266, 0.89536924, 0.61130373, 0.17918532, 0.10603075]])"
            ]
          },
          "metadata": {},
          "execution_count": 31
        }
      ]
    },
    {
      "cell_type": "code",
      "source": [
        "# massiv(array) mizni turini aniqlash uchun .dtype metodidan foydalanamiz\n",
        "rand_arr.dtype\n"
      ],
      "metadata": {
        "colab": {
          "base_uri": "https://localhost:8080/"
        },
        "id": "gxM1wXMrXeNu",
        "outputId": "01b77b15-6a16-454d-f933-508cedcde435"
      },
      "execution_count": 35,
      "outputs": [
        {
          "output_type": "execute_result",
          "data": {
            "text/plain": [
              "dtype('float64')"
            ]
          },
          "metadata": {},
          "execution_count": 35
        }
      ]
    },
    {
      "cell_type": "code",
      "source": [
        "son_array.dtype\n",
        "\n"
      ],
      "metadata": {
        "colab": {
          "base_uri": "https://localhost:8080/"
        },
        "id": "pdzvBvG6X_SI",
        "outputId": "9aff00e9-48d9-4107-df69-c451d6e40321"
      },
      "execution_count": 36,
      "outputs": [
        {
          "output_type": "execute_result",
          "data": {
            "text/plain": [
              "dtype('int64')"
            ]
          },
          "metadata": {},
          "execution_count": 36
        }
      ]
    },
    {
      "cell_type": "code",
      "source": [
        "# arrayimizda nechta element qatnashganini len () funksiyasi orqali bilishimiz mumkin\n",
        "len (son_array)"
      ],
      "metadata": {
        "colab": {
          "base_uri": "https://localhost:8080/"
        },
        "id": "zKJ6VULIasSt",
        "outputId": "4ba61c8b-5c5c-4fdf-9771-10d06a4f51c9"
      },
      "execution_count": 39,
      "outputs": [
        {
          "output_type": "execute_result",
          "data": {
            "text/plain": [
              "45"
            ]
          },
          "metadata": {},
          "execution_count": 39
        }
      ]
    },
    {
      "cell_type": "code",
      "source": [
        "son_array.size"
      ],
      "metadata": {
        "colab": {
          "base_uri": "https://localhost:8080/"
        },
        "id": "V6yjfzYja99m",
        "outputId": "869fc26c-883e-4505-8aee-2039ac045f66"
      },
      "execution_count": 38,
      "outputs": [
        {
          "output_type": "execute_result",
          "data": {
            "text/plain": [
              "45"
            ]
          },
          "metadata": {},
          "execution_count": 38
        }
      ]
    },
    {
      "cell_type": "code",
      "source": [
        "# massiv yaratganimizda arrayimizni float ko'rinishda yaratishimiz mumkin\n",
        "int_son=[2,32,656,545,78]\n",
        "float_son=np.array(int_son, dtype=np.float)"
      ],
      "metadata": {
        "colab": {
          "base_uri": "https://localhost:8080/"
        },
        "id": "1p-u7N1KbEyJ",
        "outputId": "ce807891-04bc-4b82-af6e-aff31a84ff63"
      },
      "execution_count": 42,
      "outputs": [
        {
          "output_type": "stream",
          "name": "stderr",
          "text": [
            "/usr/local/lib/python3.7/dist-packages/ipykernel_launcher.py:3: DeprecationWarning: `np.float` is a deprecated alias for the builtin `float`. To silence this warning, use `float` by itself. Doing this will not modify any behavior and is safe. If you specifically wanted the numpy scalar type, use `np.float64` here.\n",
            "Deprecated in NumPy 1.20; for more details and guidance: https://numpy.org/devdocs/release/1.20.0-notes.html#deprecations\n",
            "  This is separate from the ipykernel package so we can avoid doing imports until\n"
          ]
        }
      ]
    },
    {
      "cell_type": "code",
      "source": [
        "float_son"
      ],
      "metadata": {
        "colab": {
          "base_uri": "https://localhost:8080/"
        },
        "id": "jhWkm1UHb0rq",
        "outputId": "82465507-8f3c-4001-e449-a3756936cd54"
      },
      "execution_count": 43,
      "outputs": [
        {
          "output_type": "execute_result",
          "data": {
            "text/plain": [
              "array([  2.,  32., 656., 545.,  78.])"
            ]
          },
          "metadata": {},
          "execution_count": 43
        }
      ]
    },
    {
      "cell_type": "code",
      "source": [
        "float_son.dtype"
      ],
      "metadata": {
        "colab": {
          "base_uri": "https://localhost:8080/"
        },
        "id": "JHxoICjSb_-x",
        "outputId": "f30962ee-ae3c-454f-c746-b545148de89a"
      },
      "execution_count": 45,
      "outputs": [
        {
          "output_type": "execute_result",
          "data": {
            "text/plain": [
              "dtype('float64')"
            ]
          },
          "metadata": {},
          "execution_count": 45
        }
      ]
    },
    {
      "cell_type": "code",
      "source": [
        "# yuqorida ko'rishingiz mumkin butun sonlarni float shakliga o'tkazdik.\n"
      ],
      "metadata": {
        "id": "EnzedzWrcEGx"
      },
      "execution_count": 47,
      "outputs": []
    },
    {
      "cell_type": "code",
      "source": [
        "# numpy kutubxonasida yana bir ajoyib metod linspace\n",
        "arr_lins=np.linspace(2,3,5) # bu metod 2 dan 3  sonlar orasidan 5 ta sonni oladi\n"
      ],
      "metadata": {
        "id": "bG8BIdhTcNU7"
      },
      "execution_count": 53,
      "outputs": []
    },
    {
      "cell_type": "code",
      "source": [
        "arr_lins"
      ],
      "metadata": {
        "colab": {
          "base_uri": "https://localhost:8080/"
        },
        "id": "1jf9UWMkdROB",
        "outputId": "8b534a5d-9563-4374-f052-e7a07db565bf"
      },
      "execution_count": 54,
      "outputs": [
        {
          "output_type": "execute_result",
          "data": {
            "text/plain": [
              "array([2.  , 2.25, 2.5 , 2.75, 3.  ])"
            ]
          },
          "metadata": {},
          "execution_count": 54
        }
      ]
    },
    {
      "cell_type": "code",
      "source": [],
      "metadata": {
        "id": "vZC_kL4cdSvs"
      },
      "execution_count": 51,
      "outputs": []
    }
  ]
}