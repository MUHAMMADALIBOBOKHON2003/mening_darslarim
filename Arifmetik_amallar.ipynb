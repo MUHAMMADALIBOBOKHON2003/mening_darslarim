{
  "nbformat": 4,
  "nbformat_minor": 0,
  "metadata": {
    "colab": {
      "provenance": [],
      "authorship_tag": "ABX9TyPWWqG/uCdfYoGqs/IctsGd",
      "include_colab_link": true
    },
    "kernelspec": {
      "name": "python3",
      "display_name": "Python 3"
    },
    "language_info": {
      "name": "python"
    }
  },
  "cells": [
    {
      "cell_type": "markdown",
      "metadata": {
        "id": "view-in-github",
        "colab_type": "text"
      },
      "source": [
        "<a href=\"https://colab.research.google.com/github/MUHAMMADALIBOBOKHON2003/mening_darslarim/blob/main/Arifmetik_amallar.ipynb\" target=\"_parent\"><img src=\"https://colab.research.google.com/assets/colab-badge.svg\" alt=\"Open In Colab\"/></a>"
      ]
    },
    {
      "cell_type": "code",
      "execution_count": 3,
      "metadata": {
        "id": "M97Z7Js9Ycam"
      },
      "outputs": [],
      "source": [
        "# Arifmetik ammallar\n",
        "import numpy as np\n",
        "arr=np.arange(8).reshape(2,4)\n",
        "arr1=np.arange(11,19).reshape(2,4)\n",
        "\n"
      ]
    },
    {
      "cell_type": "code",
      "source": [
        "arr"
      ],
      "metadata": {
        "colab": {
          "base_uri": "https://localhost:8080/"
        },
        "id": "eeoTSmfHY_sJ",
        "outputId": "ee5c8f9e-2133-4600-f983-12ce8af5e742"
      },
      "execution_count": 4,
      "outputs": [
        {
          "output_type": "execute_result",
          "data": {
            "text/plain": [
              "array([[0, 1, 2, 3],\n",
              "       [4, 5, 6, 7]])"
            ]
          },
          "metadata": {},
          "execution_count": 4
        }
      ]
    },
    {
      "cell_type": "code",
      "source": [
        "arr1"
      ],
      "metadata": {
        "colab": {
          "base_uri": "https://localhost:8080/"
        },
        "id": "F-QKaSnFZAI0",
        "outputId": "58127265-7990-4738-97bc-b9a3fcc7a00c"
      },
      "execution_count": 5,
      "outputs": [
        {
          "output_type": "execute_result",
          "data": {
            "text/plain": [
              "array([[11, 12, 13, 14],\n",
              "       [15, 16, 17, 18]])"
            ]
          },
          "metadata": {},
          "execution_count": 5
        }
      ]
    },
    {
      "cell_type": "code",
      "source": [
        "arr+arr1 # arr ning elementlarini arr1 ning elementlariga mos ravishda qo'shadi"
      ],
      "metadata": {
        "colab": {
          "base_uri": "https://localhost:8080/"
        },
        "id": "8vqD7zatZA5i",
        "outputId": "567643c3-f9a6-4263-d223-01d8d44ad37b"
      },
      "execution_count": 6,
      "outputs": [
        {
          "output_type": "execute_result",
          "data": {
            "text/plain": [
              "array([[11, 13, 15, 17],\n",
              "       [19, 21, 23, 25]])"
            ]
          },
          "metadata": {},
          "execution_count": 6
        }
      ]
    },
    {
      "cell_type": "code",
      "source": [
        "arr*arr1 # arr ning elementlarini arr1 ning elementlariga mos ravishda  ko'paytiradi\n"
      ],
      "metadata": {
        "colab": {
          "base_uri": "https://localhost:8080/"
        },
        "id": "-FHdNuiwZDLx",
        "outputId": "5e48fa37-6a17-4555-fbba-41adf0c2faf1"
      },
      "execution_count": 7,
      "outputs": [
        {
          "output_type": "execute_result",
          "data": {
            "text/plain": [
              "array([[  0,  12,  26,  42],\n",
              "       [ 60,  80, 102, 126]])"
            ]
          },
          "metadata": {},
          "execution_count": 7
        }
      ]
    },
    {
      "cell_type": "code",
      "source": [
        "arr/arr1 # arr ning elementlarini arr1 ning elementlariga mos ravishda bo'ladi\n"
      ],
      "metadata": {
        "colab": {
          "base_uri": "https://localhost:8080/"
        },
        "id": "5YaEthq6ZfW2",
        "outputId": "aa685b32-3289-46cc-8d0a-460abfb3f661"
      },
      "execution_count": 8,
      "outputs": [
        {
          "output_type": "execute_result",
          "data": {
            "text/plain": [
              "array([[0.        , 0.08333333, 0.15384615, 0.21428571],\n",
              "       [0.26666667, 0.3125    , 0.35294118, 0.38888889]])"
            ]
          },
          "metadata": {},
          "execution_count": 8
        }
      ]
    },
    {
      "cell_type": "code",
      "source": [
        "arr**arr1 # arr ning elementlarini arr1 ning elementlariga mos ravishda darajaga oshiradi"
      ],
      "metadata": {
        "colab": {
          "base_uri": "https://localhost:8080/"
        },
        "id": "e1so0B7AZk8e",
        "outputId": "cfe24a2e-26a9-490a-dca5-5cae0dc4e708"
      },
      "execution_count": 9,
      "outputs": [
        {
          "output_type": "execute_result",
          "data": {
            "text/plain": [
              "array([[               0,                1,             8192,\n",
              "                 4782969],\n",
              "       [      1073741824,     152587890625,   16926659444736,\n",
              "        1628413597910449]])"
            ]
          },
          "metadata": {},
          "execution_count": 9
        }
      ]
    },
    {
      "cell_type": "code",
      "source": [
        "arr**(1/2) # arr ning elementlarini  kvadrat ildizini hisoblaydi\n"
      ],
      "metadata": {
        "colab": {
          "base_uri": "https://localhost:8080/"
        },
        "id": "fT5ksqFEZsWL",
        "outputId": "9f30e7b7-e42e-4b62-d560-9f88717927d0"
      },
      "execution_count": 11,
      "outputs": [
        {
          "output_type": "execute_result",
          "data": {
            "text/plain": [
              "array([[0.        , 1.        , 1.41421356, 1.73205081],\n",
              "       [2.        , 2.23606798, 2.44948974, 2.64575131]])"
            ]
          },
          "metadata": {},
          "execution_count": 11
        }
      ]
    },
    {
      "cell_type": "code",
      "source": [
        "arr1**2 # arr1 ning0 elementlarini kvadratga oshiradi"
      ],
      "metadata": {
        "colab": {
          "base_uri": "https://localhost:8080/"
        },
        "id": "qMd7aSrSZ2qN",
        "outputId": "eda7d088-f4f0-459e-8d55-d3e1e9e0f941"
      },
      "execution_count": 12,
      "outputs": [
        {
          "output_type": "execute_result",
          "data": {
            "text/plain": [
              "array([[121, 144, 169, 196],\n",
              "       [225, 256, 289, 324]])"
            ]
          },
          "metadata": {},
          "execution_count": 12
        }
      ]
    },
    {
      "cell_type": "code",
      "source": [
        "# substract() funksiyasi ham ayirish amalini bajaradi bu funk. binary funksiya hisoblanadi\n",
        "ayirish=np.subtract(arr,arr1)\n",
        "ayirish"
      ],
      "metadata": {
        "colab": {
          "base_uri": "https://localhost:8080/"
        },
        "id": "K5gD4mq3aNXM",
        "outputId": "a37ab82f-710d-430c-f478-cb49e2f925ff"
      },
      "execution_count": 16,
      "outputs": [
        {
          "output_type": "execute_result",
          "data": {
            "text/plain": [
              "array([[-11, -11, -11, -11],\n",
              "       [-11, -11, -11, -11]])"
            ]
          },
          "metadata": {},
          "execution_count": 16
        }
      ]
    },
    {
      "cell_type": "code",
      "source": [
        "mo=np.mod(arr,arr1)\n",
        "mo"
      ],
      "metadata": {
        "colab": {
          "base_uri": "https://localhost:8080/"
        },
        "id": "IXBoSpmubk0W",
        "outputId": "e9d09071-2d54-4306-d398-3c342c554546"
      },
      "execution_count": 18,
      "outputs": [
        {
          "output_type": "execute_result",
          "data": {
            "text/plain": [
              "array([[0, 1, 2, 3],\n",
              "       [4, 5, 6, 7]])"
            ]
          },
          "metadata": {},
          "execution_count": 18
        }
      ]
    },
    {
      "cell_type": "code",
      "source": [
        "exp_arr=np.exp(arr)\n",
        "exp_arr"
      ],
      "metadata": {
        "colab": {
          "base_uri": "https://localhost:8080/"
        },
        "id": "qEUKktzicp8-",
        "outputId": "32a171c7-48c3-41d4-f751-1012cfca22be"
      },
      "execution_count": 20,
      "outputs": [
        {
          "output_type": "execute_result",
          "data": {
            "text/plain": [
              "array([[1.00000000e+00, 2.71828183e+00, 7.38905610e+00, 2.00855369e+01],\n",
              "       [5.45981500e+01, 1.48413159e+02, 4.03428793e+02, 1.09663316e+03]])"
            ]
          },
          "metadata": {},
          "execution_count": 20
        }
      ]
    },
    {
      "cell_type": "code",
      "source": [
        "# qo'shish funksiyasi add()\n",
        "plus=np.add(arr,arr1)\n",
        "plus"
      ],
      "metadata": {
        "colab": {
          "base_uri": "https://localhost:8080/"
        },
        "id": "Vd0qHVCoc9wY",
        "outputId": "f5bab012-b7fb-4e50-cc78-5b3f78776301"
      },
      "execution_count": 22,
      "outputs": [
        {
          "output_type": "execute_result",
          "data": {
            "text/plain": [
              "array([[11, 13, 15, 17],\n",
              "       [19, 21, 23, 25]])"
            ]
          },
          "metadata": {},
          "execution_count": 22
        }
      ]
    },
    {
      "cell_type": "code",
      "source": [
        "# power() funk. ham arr ning elementlarini arr1 ning elementlariga mos ravishda darajaga oshiradi\n",
        "daraja_o=np.power(arr,arr1)\n",
        "daraja_o"
      ],
      "metadata": {
        "colab": {
          "base_uri": "https://localhost:8080/"
        },
        "id": "7N4f9_1BdUKO",
        "outputId": "e90ab4b7-fbd0-4a92-f675-9a10d3a5ba8d"
      },
      "execution_count": 23,
      "outputs": [
        {
          "output_type": "execute_result",
          "data": {
            "text/plain": [
              "array([[               0,                1,             8192,\n",
              "                 4782969],\n",
              "       [      1073741824,     152587890625,   16926659444736,\n",
              "        1628413597910449]])"
            ]
          },
          "metadata": {},
          "execution_count": 23
        }
      ]
    },
    {
      "cell_type": "code",
      "source": [
        "# multiply() funksiyasi arr*arr1 ga teng\n",
        "kopaytir=np.multiply(arr,arr1)\n",
        "kopaytir"
      ],
      "metadata": {
        "colab": {
          "base_uri": "https://localhost:8080/"
        },
        "id": "hFA2PkXHd19D",
        "outputId": "59d847a7-7e43-4e1f-a876-50cdd1c5101c"
      },
      "execution_count": 25,
      "outputs": [
        {
          "output_type": "execute_result",
          "data": {
            "text/plain": [
              "array([[  0,  12,  26,  42],\n",
              "       [ 60,  80, 102, 126]])"
            ]
          },
          "metadata": {},
          "execution_count": 25
        }
      ]
    },
    {
      "cell_type": "code",
      "source": [],
      "metadata": {
        "id": "edLeKFF9eTCE"
      },
      "execution_count": null,
      "outputs": []
    }
  ]
}