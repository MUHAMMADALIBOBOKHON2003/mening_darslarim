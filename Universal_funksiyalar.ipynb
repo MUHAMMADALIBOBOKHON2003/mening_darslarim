{
  "nbformat": 4,
  "nbformat_minor": 0,
  "metadata": {
    "colab": {
      "provenance": [],
      "collapsed_sections": [],
      "authorship_tag": "ABX9TyMNPPu1rZFF1mUHP647yLnO",
      "include_colab_link": true
    },
    "kernelspec": {
      "name": "python3",
      "display_name": "Python 3"
    },
    "language_info": {
      "name": "python"
    }
  },
  "cells": [
    {
      "cell_type": "markdown",
      "metadata": {
        "id": "view-in-github",
        "colab_type": "text"
      },
      "source": [
        "<a href=\"https://colab.research.google.com/github/MUHAMMADALIBOBOKHON2003/mening_darslarim/blob/main/Universal_funksiyalar.ipynb\" target=\"_parent\"><img src=\"https://colab.research.google.com/assets/colab-badge.svg\" alt=\"Open In Colab\"/></a>"
      ]
    },
    {
      "cell_type": "markdown",
      "source": [
        "# UNARY (faqat bitta element qabul qiluchi) funksiyalar."
      ],
      "metadata": {
        "id": "ObHhOT1E6jVI"
      }
    },
    {
      "cell_type": "code",
      "source": [
        "# sqrt() funksiyasi. Kvadrat ildiz hisoblaydi\n",
        "import numpy as np \n",
        "arr1=np.arange(8)\n",
        "np.sqrt(arr1)"
      ],
      "metadata": {
        "colab": {
          "base_uri": "https://localhost:8080/"
        },
        "id": "VpUAnUPv64gw",
        "outputId": "a8e5a996-d0e0-4fc9-8241-ecd9a608f04f"
      },
      "execution_count": null,
      "outputs": [
        {
          "output_type": "execute_result",
          "data": {
            "text/plain": [
              "array([0.        , 1.        , 1.41421356, 1.73205081, 2.        ,\n",
              "       2.23606798, 2.44948974, 2.64575131])"
            ]
          },
          "metadata": {},
          "execution_count": 3
        }
      ]
    },
    {
      "cell_type": "markdown",
      "source": [
        "# square() funksiyasi berilgan elementni kvadrat ildizga oshiradi\n",
        " "
      ],
      "metadata": {
        "id": "BFHaXHAk7ZtE"
      }
    },
    {
      "cell_type": "code",
      "source": [
        "np.square(arr1) "
      ],
      "metadata": {
        "colab": {
          "base_uri": "https://localhost:8080/"
        },
        "id": "88wto8aV7qj9",
        "outputId": "218f1513-ecf6-4a4b-90bc-4a6cd7b62112"
      },
      "execution_count": null,
      "outputs": [
        {
          "output_type": "execute_result",
          "data": {
            "text/plain": [
              "array([ 0,  1,  4,  9, 16, 25, 36, 49])"
            ]
          },
          "metadata": {},
          "execution_count": 4
        }
      ]
    },
    {
      "cell_type": "markdown",
      "source": [
        "# exp() funksiya berilgan qiymatni  exponentini qaytaradi\n"
      ],
      "metadata": {
        "id": "PhrK0JFp7v9d"
      }
    },
    {
      "cell_type": "code",
      "source": [
        "arr1"
      ],
      "metadata": {
        "colab": {
          "base_uri": "https://localhost:8080/"
        },
        "id": "iLAViVGA8ZP1",
        "outputId": "2981d0cf-def9-4c8e-b0d1-89821441fe5d"
      },
      "execution_count": null,
      "outputs": [
        {
          "output_type": "execute_result",
          "data": {
            "text/plain": [
              "array([0, 1, 2, 3, 4, 5, 6, 7])"
            ]
          },
          "metadata": {},
          "execution_count": 5
        }
      ]
    },
    {
      "cell_type": "code",
      "source": [
        "np.exp(arr1)"
      ],
      "metadata": {
        "colab": {
          "base_uri": "https://localhost:8080/"
        },
        "id": "6ZjnBkNf8aRj",
        "outputId": "8a00deaa-2f9c-407b-928d-53d1797a1535"
      },
      "execution_count": null,
      "outputs": [
        {
          "output_type": "execute_result",
          "data": {
            "text/plain": [
              "array([1.00000000e+00, 2.71828183e+00, 7.38905610e+00, 2.00855369e+01,\n",
              "       5.45981500e+01, 1.48413159e+02, 4.03428793e+02, 1.09663316e+03])"
            ]
          },
          "metadata": {},
          "execution_count": 6
        }
      ]
    },
    {
      "cell_type": "markdown",
      "source": [
        "# log() funksiyasi logorifmni hisoblaydi (loge)\n"
      ],
      "metadata": {
        "id": "E7MUsCWn88Uk"
      }
    },
    {
      "cell_type": "markdown",
      "source": [],
      "metadata": {
        "id": "4iBe5yL6dHSr"
      }
    },
    {
      "cell_type": "code",
      "source": [
        "np.log(arr1[1:]) # 0 dan tashqari barcha elementlarni logosini hisoblab beradi\n"
      ],
      "metadata": {
        "colab": {
          "base_uri": "https://localhost:8080/"
        },
        "id": "1CesaLQ39JLF",
        "outputId": "ea511cbb-b9de-4586-b0f6-0f9109a82c5c"
      },
      "execution_count": null,
      "outputs": [
        {
          "output_type": "execute_result",
          "data": {
            "text/plain": [
              "array([0.        , 0.69314718, 1.09861229, 1.38629436, 1.60943791,\n",
              "       1.79175947, 1.94591015])"
            ]
          },
          "metadata": {},
          "execution_count": 7
        }
      ]
    },
    {
      "cell_type": "markdown",
      "source": [
        "# modf() bu funksiya haqiqiy sonni butun va o'nlik qismini ajratib beradi\n",
        " "
      ],
      "metadata": {
        "id": "gbX--Epj_Tn9"
      }
    },
    {
      "cell_type": "code",
      "source": [
        "arr1=np.random.randn(5)"
      ],
      "metadata": {
        "id": "Vxq41rLN_fAz"
      },
      "execution_count": null,
      "outputs": []
    },
    {
      "cell_type": "code",
      "source": [
        "arr1"
      ],
      "metadata": {
        "colab": {
          "base_uri": "https://localhost:8080/"
        },
        "id": "oGz3E5GL_q0X",
        "outputId": "8ac1ca4c-259a-40f7-e46e-854edc941245"
      },
      "execution_count": null,
      "outputs": [
        {
          "output_type": "execute_result",
          "data": {
            "text/plain": [
              "array([-0.82407195,  1.18970309, -0.05733944, -0.63652807, -0.59063345])"
            ]
          },
          "metadata": {},
          "execution_count": 9
        }
      ]
    },
    {
      "cell_type": "code",
      "source": [
        "qoldiq, butun=np.modf(arr1)"
      ],
      "metadata": {
        "id": "nj8uglN2_r_M"
      },
      "execution_count": null,
      "outputs": []
    },
    {
      "cell_type": "code",
      "source": [
        "print(butun)\n",
        "print(qoldiq)"
      ],
      "metadata": {
        "colab": {
          "base_uri": "https://localhost:8080/"
        },
        "id": "5VRRMG8o_zCN",
        "outputId": "7d042189-85cc-4be7-905c-5ac10ec61561"
      },
      "execution_count": null,
      "outputs": [
        {
          "output_type": "stream",
          "name": "stdout",
          "text": [
            "[-0.  1. -0. -0. -0.]\n",
            "[-0.82407195  0.18970309 -0.05733944 -0.63652807 -0.59063345]\n"
          ]
        }
      ]
    },
    {
      "cell_type": "code",
      "source": [
        "# bu funksiya nuqtadan oldin qanday son turgan bo'lsa shuni butun deb qabul qilar ekan\n"
      ],
      "metadata": {
        "id": "Ojz8JgSK_2Rz"
      },
      "execution_count": null,
      "outputs": []
    },
    {
      "cell_type": "markdown",
      "source": [
        "# sign() bu funksiya agar berilgan qiymat musbat bo'lsa 1 ni manfiy bo'lsa -1 ni qaytaradi"
      ],
      "metadata": {
        "id": "oN7TMpYAAP3N"
      }
    },
    {
      "cell_type": "code",
      "source": [
        "arr1"
      ],
      "metadata": {
        "colab": {
          "base_uri": "https://localhost:8080/"
        },
        "id": "sGubgT__AgBK",
        "outputId": "807667f9-4832-4180-87d5-b894dbbc6c32"
      },
      "execution_count": null,
      "outputs": [
        {
          "output_type": "execute_result",
          "data": {
            "text/plain": [
              "array([-0.82407195,  1.18970309, -0.05733944, -0.63652807, -0.59063345])"
            ]
          },
          "metadata": {},
          "execution_count": 14
        }
      ]
    },
    {
      "cell_type": "code",
      "source": [
        "np.sign(arr1)"
      ],
      "metadata": {
        "colab": {
          "base_uri": "https://localhost:8080/"
        },
        "id": "3RvrsGIAAjKg",
        "outputId": "b96ef606-b15a-47b9-c43b-2f000e24d0d2"
      },
      "execution_count": null,
      "outputs": [
        {
          "output_type": "execute_result",
          "data": {
            "text/plain": [
              "array([-1.,  1., -1., -1., -1.])"
            ]
          },
          "metadata": {},
          "execution_count": 15
        }
      ]
    },
    {
      "cell_type": "code",
      "source": [
        "# yuqoridagi natijalarni solishtirishingiz mumkin"
      ],
      "metadata": {
        "id": "5L90GlutAmmm"
      },
      "execution_count": null,
      "outputs": []
    },
    {
      "cell_type": "markdown",
      "source": [
        "# isnan() bu funksiya array da NaN element bo'lsa True qaytaradi bo'lmasa False"
      ],
      "metadata": {
        "id": "AitM73KxBYD_"
      }
    },
    {
      "cell_type": "code",
      "source": [
        "# isnan() tekshirib ko'ramiz\n",
        "np.isnan(arr1) # quyida ko'rishingiz mumkin NaN yo'q demak hammasi False qaytdi"
      ],
      "metadata": {
        "colab": {
          "base_uri": "https://localhost:8080/"
        },
        "id": "-v9cYOzTBlh6",
        "outputId": "156840e7-1432-4ccc-a628-0655ee6499c1"
      },
      "execution_count": null,
      "outputs": [
        {
          "output_type": "execute_result",
          "data": {
            "text/plain": [
              "array([False, False, False, False, False])"
            ]
          },
          "metadata": {},
          "execution_count": 18
        }
      ]
    },
    {
      "cell_type": "code",
      "source": [
        "arr1[2]=np.NaN # arr1 ning 2 elementini NaN ga o'tkazdik\n",
        "\n"
      ],
      "metadata": {
        "id": "jMrAenENBsm8"
      },
      "execution_count": null,
      "outputs": []
    },
    {
      "cell_type": "code",
      "source": [
        "np.isnan(arr1) # quyida ko'rishingiz mumkin 2 qiymatni True qaytardi"
      ],
      "metadata": {
        "colab": {
          "base_uri": "https://localhost:8080/"
        },
        "id": "664nxnWlB-Qw",
        "outputId": "626b86d7-5009-46fc-d108-5cc21dbac64d"
      },
      "execution_count": null,
      "outputs": [
        {
          "output_type": "execute_result",
          "data": {
            "text/plain": [
              "array([False, False,  True, False, False])"
            ]
          },
          "metadata": {},
          "execution_count": 23
        }
      ]
    },
    {
      "cell_type": "markdown",
      "source": [
        "# binary funksiyalar (ikkita element qabul qiluvchi funksiya)"
      ],
      "metadata": {
        "id": "j7F6V9AOS-vo"
      }
    },
    {
      "cell_type": "code",
      "source": [
        "# add funksiaysi massivlarni hos ravishda qo'shuvchi funksiya\n",
        "\n",
        "import numpy as np\n",
        "arr1=np.random.randn(5)\n",
        "arr2=np.random.randn(5)\n",
        "print(arr1)\n",
        "print(arr2)"
      ],
      "metadata": {
        "colab": {
          "base_uri": "https://localhost:8080/"
        },
        "id": "49STQ6bYTNjR",
        "outputId": "04d063c7-57e4-4eb2-b320-d741785a62a1"
      },
      "execution_count": null,
      "outputs": [
        {
          "output_type": "stream",
          "name": "stdout",
          "text": [
            "[ 1.39292735 -0.58897938 -0.59216083 -0.13221513  0.7709612 ]\n",
            "[-0.4964056  -1.0911137   1.21537128 -0.14411794  0.46662775]\n"
          ]
        }
      ]
    },
    {
      "cell_type": "code",
      "source": [
        "np.add(arr1, arr2) # arr1 ni arr2 ga qo'shdi"
      ],
      "metadata": {
        "colab": {
          "base_uri": "https://localhost:8080/"
        },
        "id": "Gh7mLDTxTjDM",
        "outputId": "2b403f9e-f1a3-4ea8-f539-1816c881ee9c"
      },
      "execution_count": null,
      "outputs": [
        {
          "output_type": "execute_result",
          "data": {
            "text/plain": [
              "array([ 0.89652175, -1.68009307,  0.62321045, -0.27633307,  1.23758895])"
            ]
          },
          "metadata": {},
          "execution_count": 4
        }
      ]
    },
    {
      "cell_type": "code",
      "source": [
        "sa= arr1+arr2 # <-mashi kodham yuqoridagi kodning qiymati bilan teng.\n",
        "\n",
        "sa"
      ],
      "metadata": {
        "colab": {
          "base_uri": "https://localhost:8080/"
        },
        "id": "iWPAsnPLT11A",
        "outputId": "af64432d-46d7-426c-cf68-d6096e743b92"
      },
      "execution_count": null,
      "outputs": [
        {
          "output_type": "execute_result",
          "data": {
            "text/plain": [
              "array([ 0.89652175, -1.68009307,  0.62321045, -0.27633307,  1.23758895])"
            ]
          },
          "metadata": {},
          "execution_count": 6
        }
      ]
    },
    {
      "cell_type": "markdown",
      "source": [
        "# multiply() ikkita massivning mos elementlari bir biriga "
      ],
      "metadata": {
        "id": "R4g7jEOEbAWj"
      }
    },
    {
      "cell_type": "code",
      "source": [
        "np.multiply(arr1, arr2) "
      ],
      "metadata": {
        "colab": {
          "base_uri": "https://localhost:8080/"
        },
        "id": "fePbignCbbZ2",
        "outputId": "06688054-d69d-4afa-a26f-b94ff192aa94"
      },
      "execution_count": null,
      "outputs": [
        {
          "output_type": "execute_result",
          "data": {
            "text/plain": [
              "array([-0.69145694,  0.64264346, -0.71969527,  0.01905457,  0.35975189])"
            ]
          },
          "metadata": {},
          "execution_count": 7
        }
      ]
    },
    {
      "cell_type": "markdown",
      "source": [
        "# maximum() bu funksiya 2 ta arrayning ichidagi elementlarni kattasini ajratib oladi"
      ],
      "metadata": {
        "id": "NI3qhz4scLZI"
      }
    },
    {
      "cell_type": "code",
      "source": [
        "arr1"
      ],
      "metadata": {
        "colab": {
          "base_uri": "https://localhost:8080/"
        },
        "id": "uqyV5TRdcYa0",
        "outputId": "8983b905-811d-4cd1-8cb2-c2476929b4c0"
      },
      "execution_count": null,
      "outputs": [
        {
          "output_type": "execute_result",
          "data": {
            "text/plain": [
              "array([ 1.39292735, -0.58897938, -0.59216083, -0.13221513,  0.7709612 ])"
            ]
          },
          "metadata": {},
          "execution_count": 8
        }
      ]
    },
    {
      "cell_type": "code",
      "source": [
        "arr2"
      ],
      "metadata": {
        "colab": {
          "base_uri": "https://localhost:8080/"
        },
        "id": "yscac4-9cab4",
        "outputId": "c6318fa1-53a4-43d5-d1f7-ca914819887e"
      },
      "execution_count": null,
      "outputs": [
        {
          "output_type": "execute_result",
          "data": {
            "text/plain": [
              "array([-0.4964056 , -1.0911137 ,  1.21537128, -0.14411794,  0.46662775])"
            ]
          },
          "metadata": {},
          "execution_count": 9
        }
      ]
    },
    {
      "cell_type": "code",
      "source": [
        "np.maximum(arr1,arr2)"
      ],
      "metadata": {
        "colab": {
          "base_uri": "https://localhost:8080/"
        },
        "id": "Av2SYqvxcbfR",
        "outputId": "b20f6e43-0f77-405e-cb2b-44eb4c070320"
      },
      "execution_count": null,
      "outputs": [
        {
          "output_type": "execute_result",
          "data": {
            "text/plain": [
              "array([ 1.39292735, -0.58897938,  1.21537128, -0.13221513,  0.7709612 ])"
            ]
          },
          "metadata": {},
          "execution_count": 10
        }
      ]
    },
    {
      "cell_type": "code",
      "source": [
        "# yuqoridagi qiymatlarni ko'rib chiqing tashlab qo'ying"
      ],
      "metadata": {
        "id": "nx2QNOXzchwM"
      },
      "execution_count": null,
      "outputs": []
    },
    {
      "cell_type": "markdown",
      "source": [
        "# UNIVERSAL FUNKSIYAGACHA O'TILGAN MAVZULARNI TAKRORLIMIZ\n"
      ],
      "metadata": {
        "id": "RfkaJuGDqfhw"
      }
    },
    {
      "cell_type": "code",
      "source": [
        "# Testin qilishni  GPU ga  o'tkazamiz va ishlayotganini tekshiramiz\n",
        "import torch\n",
        "torch.cuda.is_available() # True qiymat qaytardi\n"
      ],
      "metadata": {
        "colab": {
          "base_uri": "https://localhost:8080/"
        },
        "id": "Fvf0d6nIqnTQ",
        "outputId": "a93a99fd-4d57-44e8-cee5-67139dbe0104"
      },
      "execution_count": null,
      "outputs": [
        {
          "output_type": "execute_result",
          "data": {
            "text/plain": [
              "True"
            ]
          },
          "metadata": {},
          "execution_count": 1
        }
      ]
    },
    {
      "cell_type": "markdown",
      "source": [
        "# arraylarni yaratishni o'rganamiz"
      ],
      "metadata": {
        "id": "PiCKSDLosFtj"
      }
    },
    {
      "cell_type": "code",
      "source": [
        "sonlar_list=list(range(10))\n",
        "sonlar_list"
      ],
      "metadata": {
        "colab": {
          "base_uri": "https://localhost:8080/"
        },
        "id": "bcsODFLysG1r",
        "outputId": "a8a3ff71-356e-46f6-9761-950f85302bff"
      },
      "execution_count": null,
      "outputs": [
        {
          "output_type": "execute_result",
          "data": {
            "text/plain": [
              "[0, 1, 2, 3, 4, 5, 6, 7, 8, 9]"
            ]
          },
          "metadata": {},
          "execution_count": 3
        }
      ]
    },
    {
      "cell_type": "code",
      "source": [
        "import numpy as np\n",
        "son_arr=np.array(sonlar_list)\n",
        "son_arr"
      ],
      "metadata": {
        "colab": {
          "base_uri": "https://localhost:8080/"
        },
        "id": "UsaPlnxCsSCV",
        "outputId": "0cfbd74e-cb2c-4b30-9c8c-7a6f22c49a4e"
      },
      "execution_count": null,
      "outputs": [
        {
          "output_type": "execute_result",
          "data": {
            "text/plain": [
              "array([0, 1, 2, 3, 4, 5, 6, 7, 8, 9])"
            ]
          },
          "metadata": {},
          "execution_count": 4
        }
      ]
    },
    {
      "cell_type": "code",
      "source": [
        "\n",
        "# yuqorida ko'rishingiz mumkin listdan array (massiv) ga o'tkazib oldik\n"
      ],
      "metadata": {
        "id": "mR5YRNSusdEt"
      },
      "execution_count": null,
      "outputs": []
    },
    {
      "cell_type": "code",
      "source": [
        "# massiv va list ning hisoblash tezligini ko'ramiz\n",
        "son_list=list(range(10000000))\n",
        "son_arr=np.array(son_list)\n",
        "%time for marta in range(10): [tt*2 for tt in sonlar_list]\n",
        "%time for marta in range(10): son_arr*2"
      ],
      "metadata": {
        "colab": {
          "base_uri": "https://localhost:8080/"
        },
        "id": "45QYng02snC_",
        "outputId": "f24fbd93-aaf7-405a-d1c8-623bd3be8536"
      },
      "execution_count": null,
      "outputs": [
        {
          "output_type": "stream",
          "name": "stdout",
          "text": [
            "CPU times: user 16 µs, sys: 0 ns, total: 16 µs\n",
            "Wall time: 18.6 µs\n",
            "CPU times: user 222 ms, sys: 13.6 ms, total: 236 ms\n",
            "Wall time: 235 ms\n"
          ]
        }
      ]
    },
    {
      "cell_type": "code",
      "source": [
        "# arrayning o'lchamini tekshirish uchun .ndim metodidan foydalanamiz\n",
        "arrd=np.array([1,3,132,15,1321,321,32])\n",
        "arrd.ndim"
      ],
      "metadata": {
        "colab": {
          "base_uri": "https://localhost:8080/"
        },
        "id": "IbCQwXUXtBFY",
        "outputId": "053a9cbb-2727-4ec6-9df5-90cf03bb00bd"
      },
      "execution_count": null,
      "outputs": [
        {
          "output_type": "execute_result",
          "data": {
            "text/plain": [
              "1"
            ]
          },
          "metadata": {},
          "execution_count": 8
        }
      ]
    },
    {
      "cell_type": "code",
      "source": [
        "# ikki o'lchamli massiv (array) yaratish\n",
        "arr1=np.array([[1,2,3,3,4],[5,4,4,2,5]])\n",
        "arr1"
      ],
      "metadata": {
        "colab": {
          "base_uri": "https://localhost:8080/"
        },
        "id": "BzV76FzXvHI9",
        "outputId": "a721c807-e5b9-4803-949e-f5b80d11ef79"
      },
      "execution_count": null,
      "outputs": [
        {
          "output_type": "execute_result",
          "data": {
            "text/plain": [
              "array([[1, 2, 3, 3, 4],\n",
              "       [5, 4, 4, 2, 5]])"
            ]
          },
          "metadata": {},
          "execution_count": 13
        }
      ]
    },
    {
      "cell_type": "code",
      "source": [
        "arr1.ndim"
      ],
      "metadata": {
        "colab": {
          "base_uri": "https://localhost:8080/"
        },
        "id": "cFt7OjT6vhvJ",
        "outputId": "03256cf8-a13f-4b5e-af49-322521ec344b"
      },
      "execution_count": null,
      "outputs": [
        {
          "output_type": "execute_result",
          "data": {
            "text/plain": [
              "2"
            ]
          },
          "metadata": {},
          "execution_count": 14
        }
      ]
    },
    {
      "cell_type": "code",
      "source": [
        "# yuqorida 2 o'lchamlik deb chiqardi\n"
      ],
      "metadata": {
        "id": "QtEnyRaAvyak"
      },
      "execution_count": null,
      "outputs": []
    },
    {
      "cell_type": "code",
      "source": [
        "# arrayni nechta qator va ustundan iborat ekanini tekshirish\n",
        "arr1.shape  # 2 ta qator va 5 ustundan iborat ekan"
      ],
      "metadata": {
        "colab": {
          "base_uri": "https://localhost:8080/"
        },
        "id": "MGvWttqov4ah",
        "outputId": "e9348482-72ea-421c-b31e-d015a99b3d6e"
      },
      "execution_count": null,
      "outputs": [
        {
          "output_type": "execute_result",
          "data": {
            "text/plain": [
              "(2, 5)"
            ]
          },
          "metadata": {},
          "execution_count": 17
        }
      ]
    },
    {
      "cell_type": "code",
      "source": [
        "# 0 dan iborat bo'lgan array yaratish\n",
        "arr0=np.zeros(shape=(4,4)) # 4 ta qator va 4ta ustundan iborat bo'lsin dedik\n",
        "arr0"
      ],
      "metadata": {
        "colab": {
          "base_uri": "https://localhost:8080/"
        },
        "id": "bN0vXz2twAwP",
        "outputId": "9bc070a2-1630-4f36-8465-92992f8354e0"
      },
      "execution_count": null,
      "outputs": [
        {
          "output_type": "execute_result",
          "data": {
            "text/plain": [
              "array([[0., 0., 0., 0.],\n",
              "       [0., 0., 0., 0.],\n",
              "       [0., 0., 0., 0.],\n",
              "       [0., 0., 0., 0.]])"
            ]
          },
          "metadata": {},
          "execution_count": 18
        }
      ]
    },
    {
      "cell_type": "code",
      "source": [
        "# 1 dan iborat bo'lgan array yaratish\n",
        "arr_one=np.ones(shape=(2,3)) # 2 ta qator va 3 ta ustundan iborat bo'lsin dedik\n",
        "arr_one"
      ],
      "metadata": {
        "colab": {
          "base_uri": "https://localhost:8080/"
        },
        "id": "JXZS7OWywbzW",
        "outputId": "3dba270b-1108-4d7c-84a8-aa1491daeff0"
      },
      "execution_count": null,
      "outputs": [
        {
          "output_type": "execute_result",
          "data": {
            "text/plain": [
              "array([[1., 1., 1.],\n",
              "       [1., 1., 1.]])"
            ]
          },
          "metadata": {},
          "execution_count": 19
        }
      ]
    },
    {
      "cell_type": "code",
      "source": [
        "# yuqoridagi ko'dni qisqaroq yozsak ham bo'ladi \n",
        "arr_one=np.ones((2,3))\n",
        "arr_one"
      ],
      "metadata": {
        "colab": {
          "base_uri": "https://localhost:8080/"
        },
        "id": "QZDLKyovwzr5",
        "outputId": "49ff4efa-7dd0-4bd6-d918-fee20fc10b9a"
      },
      "execution_count": null,
      "outputs": [
        {
          "output_type": "execute_result",
          "data": {
            "text/plain": [
              "array([[1., 1., 1.],\n",
              "       [1., 1., 1.]])"
            ]
          },
          "metadata": {},
          "execution_count": 20
        }
      ]
    },
    {
      "cell_type": "code",
      "source": [
        "#numpy kutubxonasining  random funksiyasiyasidan foydalamiz\n",
        "arr_randn=np.random.randn(6) # 6 ta ixtiyor sonni oladi\n",
        "arr_randn"
      ],
      "metadata": {
        "colab": {
          "base_uri": "https://localhost:8080/"
        },
        "id": "XijV-lDcw_-N",
        "outputId": "5a6ad2fe-9fb9-47bb-cecc-7963536f44bc"
      },
      "execution_count": null,
      "outputs": [
        {
          "output_type": "execute_result",
          "data": {
            "text/plain": [
              "array([ 0.92481536,  0.7819918 , -1.96372276, -0.4749119 ,  1.07338907,\n",
              "        0.44538348])"
            ]
          },
          "metadata": {},
          "execution_count": 24
        }
      ]
    },
    {
      "cell_type": "code",
      "source": [
        "arr_rand=np.random.rand(2,6) # 2 ta qator va 6 ta ustundan iborat bo'lgan ixtiyoriy sonlarni chiqaradi\n",
        "arr_rand"
      ],
      "metadata": {
        "colab": {
          "base_uri": "https://localhost:8080/"
        },
        "id": "QRw-awkexShX",
        "outputId": "a9999abb-8a63-4702-ca30-09418ff1e925"
      },
      "execution_count": null,
      "outputs": [
        {
          "output_type": "execute_result",
          "data": {
            "text/plain": [
              "array([[0.77980924, 0.90485936, 0.11027746, 0.57350681, 0.65426812,\n",
              "        0.10581611],\n",
              "       [0.91236175, 0.77694032, 0.15051163, 0.16276933, 0.8102417 ,\n",
              "        0.12588564]])"
            ]
          },
          "metadata": {},
          "execution_count": 30
        }
      ]
    },
    {
      "cell_type": "code",
      "source": [
        "arr_randint=np.random.randint(10,size=(6,6)) # maximum 10 gacha bo'lgan sonlardan iborat 6 qatot va 6 ustundan iborat bo'lgan array yaratish\n",
        "arr_randint"
      ],
      "metadata": {
        "colab": {
          "base_uri": "https://localhost:8080/"
        },
        "id": "qrkNvfdgxeY0",
        "outputId": "7a742afd-218a-448f-ac7c-cdf5be7559eb"
      },
      "execution_count": null,
      "outputs": [
        {
          "output_type": "execute_result",
          "data": {
            "text/plain": [
              "array([[1, 5, 1, 6, 6, 7],\n",
              "       [7, 1, 9, 0, 8, 2],\n",
              "       [8, 9, 8, 3, 1, 9],\n",
              "       [7, 4, 1, 0, 4, 6],\n",
              "       [1, 6, 1, 0, 1, 0],\n",
              "       [4, 4, 9, 7, 2, 5]])"
            ]
          },
          "metadata": {},
          "execution_count": 31
        }
      ]
    },
    {
      "cell_type": "code",
      "source": [
        " # arrayni elementlar sonini aniqlash\n",
        " arr_randint.size"
      ],
      "metadata": {
        "colab": {
          "base_uri": "https://localhost:8080/"
        },
        "id": "ojGUQiboyKI4",
        "outputId": "1382555b-5cb2-4154-98dd-382e17277f1c"
      },
      "execution_count": null,
      "outputs": [
        {
          "output_type": "execute_result",
          "data": {
            "text/plain": [
              "36"
            ]
          },
          "metadata": {},
          "execution_count": 48
        }
      ]
    },
    {
      "cell_type": "code",
      "source": [
        "# 3 o'lchamli array yaratish va kerakli qismini kesib olish\n",
        "arr3d=np.array([[[12,45,12],\n",
        "                 [24,45,1],\n",
        "                 [78,66,4]],\n",
        "                \n",
        "                [[45,778,454],\n",
        "                 [45,54565,4],\n",
        "                 [45,45487,84545]],\n",
        "                \n",
        "                [[45,12,45],\n",
        "                 [21,2456,54654],\n",
        "                 [45,46,56]]])\n",
        "arrsl=arr3d[2]\n",
        "ss=arrsl[1:3,:2]\n",
        "ss"
      ],
      "metadata": {
        "colab": {
          "base_uri": "https://localhost:8080/"
        },
        "id": "RZEp5Cha0CGu",
        "outputId": "28a8d154-3617-4021-9648-de7a627b307b"
      },
      "execution_count": null,
      "outputs": [
        {
          "output_type": "execute_result",
          "data": {
            "text/plain": [
              "array([[  21, 2456],\n",
              "       [  45,   46]])"
            ]
          },
          "metadata": {},
          "execution_count": 59
        }
      ]
    },
    {
      "cell_type": "code",
      "source": [
        "# array yaratganda ularning ma'lumot turlarini berish (int16-64, float16-64,string,uint16_64)\n",
        "arr3=np.array([21,245,21,5412,55])"
      ],
      "metadata": {
        "id": "nWZKxqJF0ewD"
      },
      "execution_count": null,
      "outputs": []
    },
    {
      "cell_type": "code",
      "source": [
        "# arr3 ning ma'lumot turini tekshiramiz\n",
        "arr3.dtype"
      ],
      "metadata": {
        "colab": {
          "base_uri": "https://localhost:8080/"
        },
        "id": "u5syq77z63aT",
        "outputId": "c6959fcc-7dc9-4358-e402-594cf1ee8291"
      },
      "execution_count": null,
      "outputs": [
        {
          "output_type": "execute_result",
          "data": {
            "text/plain": [
              "dtype('int64')"
            ]
          },
          "metadata": {},
          "execution_count": 61
        }
      ]
    },
    {
      "cell_type": "code",
      "source": [
        "# arr3 ni float32 ga o'tkazamiz\n",
        "arr3.astype(np.float32)\n"
      ],
      "metadata": {
        "colab": {
          "base_uri": "https://localhost:8080/"
        },
        "id": "7xRKp2ld-lne",
        "outputId": "44869d18-7f87-41a7-e32b-b8e28c04530c"
      },
      "execution_count": null,
      "outputs": [
        {
          "output_type": "execute_result",
          "data": {
            "text/plain": [
              "array([  21.,  245.,   21., 5412.,   55.], dtype=float32)"
            ]
          },
          "metadata": {},
          "execution_count": 64
        }
      ]
    },
    {
      "cell_type": "code",
      "source": [],
      "metadata": {
        "id": "iCUJX07k-3wn"
      },
      "execution_count": null,
      "outputs": []
    },
    {
      "cell_type": "code",
      "source": [
        "#boolean indekslash\n",
        "ismlar=np.array([\"Halima\",\"Jaxongir\",\"Salim\",\"Sunnat\",\"Kamron\",\"Baxrom\"])\n",
        "info=np.random.randn(6,3)\n"
      ],
      "metadata": {
        "id": "jVWFAVVk--fQ"
      },
      "execution_count": null,
      "outputs": []
    },
    {
      "cell_type": "code",
      "source": [
        "print(ismlar)\n",
        "print(info)\n"
      ],
      "metadata": {
        "colab": {
          "base_uri": "https://localhost:8080/"
        },
        "id": "_dyx_4yF_OtQ",
        "outputId": "24fca78a-5efc-4e09-86fc-e5f9bbf7b6df"
      },
      "execution_count": null,
      "outputs": [
        {
          "output_type": "stream",
          "name": "stdout",
          "text": [
            "['Halima' 'Jaxongir' 'Salim' 'Sunnat' 'Kamron' 'Baxrom']\n",
            "[[ 0.29564427  1.82258825  1.11053584]\n",
            " [-1.40817095  1.13279956  1.40500972]\n",
            " [ 0.3292685   0.20246705  0.80719134]\n",
            " [-1.90677334  1.96868009  1.16836254]\n",
            " [ 1.10213095  1.57867841 -0.68848261]\n",
            " [ 0.25560456  0.70692688  1.19954814]]\n"
          ]
        }
      ]
    },
    {
      "cell_type": "code",
      "source": [
        "# yuqorida ko'rib turgan ikki o'lchamli massivlarning har bir qatori har bir ismlarga tegishli"
      ],
      "metadata": {
        "colab": {
          "base_uri": "https://localhost:8080/"
        },
        "id": "YvChLcMl_yTR",
        "outputId": "be3e9f79-dcb8-4f36-fa13-4b57b24a4b17"
      },
      "execution_count": null,
      "outputs": [
        {
          "output_type": "execute_result",
          "data": {
            "text/plain": [
              "array([[0.29564427, 1.82258825, 1.11053584]])"
            ]
          },
          "metadata": {},
          "execution_count": 71
        }
      ]
    },
    {
      "cell_type": "code",
      "source": [
        "# Halimaning ma'lumotini chiqaramiz\n",
        "info[ismlar==\"Halima\"]"
      ],
      "metadata": {
        "colab": {
          "base_uri": "https://localhost:8080/"
        },
        "id": "FiTCi_Bn__Rd",
        "outputId": "f9a37fc3-fc4d-4800-f573-ed0b225df6a5"
      },
      "execution_count": null,
      "outputs": [
        {
          "output_type": "execute_result",
          "data": {
            "text/plain": [
              "array([[0.29564427, 1.82258825, 1.11053584]])"
            ]
          },
          "metadata": {},
          "execution_count": 73
        }
      ]
    },
    {
      "cell_type": "code",
      "source": [
        "ismlar==\"Salim\" # quyida ko'rishingiz mumkin 2 element True qiymatni qaytardi"
      ],
      "metadata": {
        "colab": {
          "base_uri": "https://localhost:8080/"
        },
        "id": "_DNsuIACAhRc",
        "outputId": "f7717757-99a1-4c94-e941-0752dcd2bb8c"
      },
      "execution_count": null,
      "outputs": [
        {
          "output_type": "execute_result",
          "data": {
            "text/plain": [
              "array([False, False,  True, False, False, False])"
            ]
          },
          "metadata": {},
          "execution_count": 74
        }
      ]
    },
    {
      "cell_type": "code",
      "source": [
        "# info dagi manfiy sonlarni 0 ga ten qilish\n",
        "info[info<0]=0"
      ],
      "metadata": {
        "id": "lbAhDY0NAsQj"
      },
      "execution_count": null,
      "outputs": []
    },
    {
      "cell_type": "code",
      "source": [
        "info # quyida ko'rishingiz mumkin manfiy qiymatlar 0 ga teng bo'ldi"
      ],
      "metadata": {
        "colab": {
          "base_uri": "https://localhost:8080/"
        },
        "id": "Y1Gv4lR1A_E2",
        "outputId": "80b23c95-c7c6-40da-ffaa-07904e044843"
      },
      "execution_count": null,
      "outputs": [
        {
          "output_type": "execute_result",
          "data": {
            "text/plain": [
              "array([[0.29564427, 1.82258825, 1.11053584],\n",
              "       [0.        , 1.13279956, 1.40500972],\n",
              "       [0.3292685 , 0.20246705, 0.80719134],\n",
              "       [0.        , 1.96868009, 1.16836254],\n",
              "       [1.10213095, 1.57867841, 0.        ],\n",
              "       [0.25560456, 0.70692688, 1.19954814]])"
            ]
          },
          "metadata": {},
          "execution_count": 76
        }
      ]
    },
    {
      "cell_type": "code",
      "source": [
        "# ismlardan ikkitasini ma'lumotini chiqarish\n",
        "ism2=(ismlar==\"Baxrom\") | (ismlar==\"Sunnat\")\n",
        "info[ism2]"
      ],
      "metadata": {
        "colab": {
          "base_uri": "https://localhost:8080/"
        },
        "id": "FoPhUdWxBBGk",
        "outputId": "9da67ca1-dcae-4b1d-f5c2-e4f41997bcc7"
      },
      "execution_count": null,
      "outputs": [
        {
          "output_type": "execute_result",
          "data": {
            "text/plain": [
              "array([[0.        , 1.96868009, 1.16836254],\n",
              "       [0.25560456, 0.70692688, 1.19954814]])"
            ]
          },
          "metadata": {},
          "execution_count": 77
        }
      ]
    },
    {
      "cell_type": "code",
      "source": [
        "# unversal funksiyalar\n",
        "# unary (bitta element qabul qiluvchi funksiyala)\n",
        "haqiqiy_son=np.array([12.2,54.4,121.1,54.5,-0.15])\n",
        "onlik,butun=np.modf(haqiqiy_son)"
      ],
      "metadata": {
        "id": "ycjE-pHoB1cf"
      },
      "execution_count": null,
      "outputs": []
    },
    {
      "cell_type": "code",
      "source": [
        "onlik"
      ],
      "metadata": {
        "colab": {
          "base_uri": "https://localhost:8080/"
        },
        "id": "70ZPIsTVGsNg",
        "outputId": "aaa8881a-aa4e-4363-8ecf-b687e6090396"
      },
      "execution_count": null,
      "outputs": [
        {
          "output_type": "execute_result",
          "data": {
            "text/plain": [
              "array([ 0.2 ,  0.4 ,  0.1 ,  0.5 , -0.15])"
            ]
          },
          "metadata": {},
          "execution_count": 93
        }
      ]
    },
    {
      "cell_type": "code",
      "source": [
        "butun"
      ],
      "metadata": {
        "colab": {
          "base_uri": "https://localhost:8080/"
        },
        "id": "lgnqwDH1HDHT",
        "outputId": "0cebedec-883e-4fd2-f8a7-ff79eacb4434"
      },
      "execution_count": null,
      "outputs": [
        {
          "output_type": "execute_result",
          "data": {
            "text/plain": [
              "array([ 12.,  54., 121.,  54.,  -0.])"
            ]
          },
          "metadata": {},
          "execution_count": 94
        }
      ]
    },
    {
      "cell_type": "code",
      "source": [
        "# yuqoridagi butun degan o'zgaruvchining oxirgi elementiga e'tibor bering. modf() funksiyasi  nuqtadan oldingi sonlarni ajratadi"
      ],
      "metadata": {
        "id": "EV437C_aHNqH"
      },
      "execution_count": null,
      "outputs": []
    },
    {
      "cell_type": "code",
      "source": [
        "kvadrat_o=np.square(haqiqiy_son) \n",
        "kvadrat_o # square funksiyasi elementlarni kvadratga oshiradi"
      ],
      "metadata": {
        "colab": {
          "base_uri": "https://localhost:8080/"
        },
        "id": "NzFr5hQgHhXb",
        "outputId": "7490533a-cb9d-4937-b17e-ed230b90e507"
      },
      "execution_count": null,
      "outputs": [
        {
          "output_type": "execute_result",
          "data": {
            "text/plain": [
              "array([1.488400e+02, 2.959360e+03, 1.466521e+04, 2.970250e+03,\n",
              "       2.250000e-02])"
            ]
          },
          "metadata": {},
          "execution_count": 99
        }
      ]
    },
    {
      "cell_type": "code",
      "source": [
        "# sqrt() kvadrat ildiz hisoblovchi funksiya\n",
        "kvadrat_f=np.sqrt(haqiqiy_son)\n",
        "kvadrat_f\n"
      ],
      "metadata": {
        "colab": {
          "base_uri": "https://localhost:8080/"
        },
        "id": "2VbJ-FsjH7IP",
        "outputId": "45aa33f9-808b-4359-ac68-330358f10565"
      },
      "execution_count": null,
      "outputs": [
        {
          "output_type": "stream",
          "name": "stderr",
          "text": [
            "/usr/local/lib/python3.7/dist-packages/ipykernel_launcher.py:2: RuntimeWarning: invalid value encountered in sqrt\n",
            "  \n"
          ]
        },
        {
          "output_type": "execute_result",
          "data": {
            "text/plain": [
              "array([ 3.49284984,  7.37563557, 11.00454452,  7.38241153,         nan])"
            ]
          },
          "metadata": {},
          "execution_count": 100
        }
      ]
    },
    {
      "cell_type": "code",
      "source": [
        "# isnan() funksiyasi  (Not a  Number)\n",
        "isn_kv=np.isnan(kvadrat_f)\n",
        "isn_kv"
      ],
      "metadata": {
        "colab": {
          "base_uri": "https://localhost:8080/"
        },
        "id": "KhunAnDdIdY5",
        "outputId": "b43a31c4-810b-49f9-d017-49c65d489c99"
      },
      "execution_count": null,
      "outputs": [
        {
          "output_type": "execute_result",
          "data": {
            "text/plain": [
              "array([False, False, False, False,  True])"
            ]
          },
          "metadata": {},
          "execution_count": 102
        }
      ]
    },
    {
      "cell_type": "code",
      "source": [
        "# rint metodi\n",
        "import numpy as np\n",
        "rand=np.random.rand(5)\n",
        "rand"
      ],
      "metadata": {
        "id": "k-ue7SXFI29O",
        "colab": {
          "base_uri": "https://localhost:8080/"
        },
        "outputId": "2106720e-dafc-4a04-c03e-542c2fd4b019"
      },
      "execution_count": 1,
      "outputs": [
        {
          "output_type": "execute_result",
          "data": {
            "text/plain": [
              "array([0.40466195, 0.92492213, 0.82501661, 0.77829752, 0.97160967])"
            ]
          },
          "metadata": {},
          "execution_count": 1
        }
      ]
    },
    {
      "cell_type": "code",
      "source": [
        "np.rint(rand)"
      ],
      "metadata": {
        "colab": {
          "base_uri": "https://localhost:8080/"
        },
        "id": "Qdw6dA2KaIdr",
        "outputId": "f6c9989c-7ba8-4953-8511-6f448bf6bf96"
      },
      "execution_count": 3,
      "outputs": [
        {
          "output_type": "execute_result",
          "data": {
            "text/plain": [
              "array([0., 1., 1., 1., 1.])"
            ]
          },
          "metadata": {},
          "execution_count": 3
        }
      ]
    },
    {
      "cell_type": "code",
      "source": [
        "rand[1:4]=np.NaN"
      ],
      "metadata": {
        "id": "0PUx3-pbaR3o"
      },
      "execution_count": 7,
      "outputs": []
    },
    {
      "cell_type": "code",
      "source": [
        "rand"
      ],
      "metadata": {
        "colab": {
          "base_uri": "https://localhost:8080/"
        },
        "id": "3fAQ-nLHagy4",
        "outputId": "688683b4-5976-47a4-b9e5-95316ebb0d3c"
      },
      "execution_count": 8,
      "outputs": [
        {
          "output_type": "execute_result",
          "data": {
            "text/plain": [
              "array([0.40466195,        nan,        nan,        nan, 0.97160967])"
            ]
          },
          "metadata": {},
          "execution_count": 8
        }
      ]
    },
    {
      "cell_type": "code",
      "source": [
        "# fmax funksiyasi\n",
        "rand2=np.random.rand(5)\n",
        "rand2"
      ],
      "metadata": {
        "colab": {
          "base_uri": "https://localhost:8080/"
        },
        "id": "MQICiLdYahoL",
        "outputId": "97ce6ca3-144f-4563-abd3-1574bbbd7c26"
      },
      "execution_count": 11,
      "outputs": [
        {
          "output_type": "execute_result",
          "data": {
            "text/plain": [
              "array([0.74945885, 0.99440275, 0.83204773, 0.70139309, 0.09121771])"
            ]
          },
          "metadata": {},
          "execution_count": 11
        }
      ]
    },
    {
      "cell_type": "code",
      "source": [
        "np.fmax(rand,rand2)"
      ],
      "metadata": {
        "colab": {
          "base_uri": "https://localhost:8080/"
        },
        "id": "pBnQ5VpOazQl",
        "outputId": "da38d66e-b177-418e-bfa9-f4cc7d749ec7"
      },
      "execution_count": 14,
      "outputs": [
        {
          "output_type": "execute_result",
          "data": {
            "text/plain": [
              "array([0.74945885, 0.99440275, 0.83204773, 0.70139309, 0.97160967])"
            ]
          },
          "metadata": {},
          "execution_count": 14
        }
      ]
    },
    {
      "cell_type": "code",
      "source": [
        "arr1=np.array([2,3,4])\n",
        "arr1"
      ],
      "metadata": {
        "colab": {
          "base_uri": "https://localhost:8080/"
        },
        "id": "3FAlbeN8b-Ku",
        "outputId": "ac133087-0a80-494e-b000-3c731547fe10"
      },
      "execution_count": 21,
      "outputs": [
        {
          "output_type": "execute_result",
          "data": {
            "text/plain": [
              "array([2, 3, 4])"
            ]
          },
          "metadata": {},
          "execution_count": 21
        }
      ]
    },
    {
      "cell_type": "code",
      "source": [
        "arr2=np.array([7,1,5])\n",
        "arr2"
      ],
      "metadata": {
        "colab": {
          "base_uri": "https://localhost:8080/"
        },
        "id": "J3c2Jq1zcCDT",
        "outputId": "c74acf7a-4930-4bcc-95b1-6ba4d0328381"
      },
      "execution_count": 20,
      "outputs": [
        {
          "output_type": "execute_result",
          "data": {
            "text/plain": [
              "array([7, 1, 5])"
            ]
          },
          "metadata": {},
          "execution_count": 20
        }
      ]
    },
    {
      "cell_type": "code",
      "source": [
        "np.power(arr1,arr2) # power() birinchi arrayning elementlarini ikkinchi arrdagi elementlar darajasiga oshiradi"
      ],
      "metadata": {
        "colab": {
          "base_uri": "https://localhost:8080/"
        },
        "id": "Ru4eA6VpcNVz",
        "outputId": "852fe45d-311d-4b01-de93-2cfeb042809d"
      },
      "execution_count": 24,
      "outputs": [
        {
          "output_type": "execute_result",
          "data": {
            "text/plain": [
              "array([ 128,    3, 1024])"
            ]
          },
          "metadata": {},
          "execution_count": 24
        }
      ]
    },
    {
      "cell_type": "code",
      "source": [
        "np.subtract(arr1,arr2) # subtract() birinchi arrayning elementlarini ikkinchi arrdagi elementlardan ayiradi "
      ],
      "metadata": {
        "colab": {
          "base_uri": "https://localhost:8080/"
        },
        "id": "wCjOe1oNcUzo",
        "outputId": "59687060-9e60-4fd4-f13d-cb4721795f07"
      },
      "execution_count": 26,
      "outputs": [
        {
          "output_type": "execute_result",
          "data": {
            "text/plain": [
              "array([-5,  2, -1])"
            ]
          },
          "metadata": {},
          "execution_count": 26
        }
      ]
    },
    {
      "cell_type": "code",
      "source": [
        "np.multiply(arr1,arr2) # multiply birinchi arrayning elementlarini ikkinchi arrdagi elementlarga ko'paytiradi"
      ],
      "metadata": {
        "colab": {
          "base_uri": "https://localhost:8080/"
        },
        "id": "lrX9U8Y7diSV",
        "outputId": "5c00cb70-f2ed-49bd-e684-50532b6235f8"
      },
      "execution_count": 29,
      "outputs": [
        {
          "output_type": "execute_result",
          "data": {
            "text/plain": [
              "array([14,  3, 20])"
            ]
          },
          "metadata": {},
          "execution_count": 29
        }
      ]
    },
    {
      "cell_type": "code",
      "source": [
        "np.mod(arr1,arr2) # ?????"
      ],
      "metadata": {
        "colab": {
          "base_uri": "https://localhost:8080/"
        },
        "id": "Dz0JbAu5d3oK",
        "outputId": "ca2a3978-8246-46f3-a3ba-2d2e009555cf"
      },
      "execution_count": 28,
      "outputs": [
        {
          "output_type": "execute_result",
          "data": {
            "text/plain": [
              "array([2, 0, 4])"
            ]
          },
          "metadata": {},
          "execution_count": 28
        }
      ]
    },
    {
      "cell_type": "code",
      "source": [],
      "metadata": {
        "id": "13r7oXFzeBsL"
      },
      "execution_count": null,
      "outputs": []
    }
  ]
}