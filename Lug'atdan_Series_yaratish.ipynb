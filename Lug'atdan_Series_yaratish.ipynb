{
  "nbformat": 4,
  "nbformat_minor": 0,
  "metadata": {
    "colab": {
      "provenance": [],
      "collapsed_sections": [],
      "authorship_tag": "ABX9TyOLES44Af/+P948rt8WVBya",
      "include_colab_link": true
    },
    "kernelspec": {
      "name": "python3",
      "display_name": "Python 3"
    },
    "language_info": {
      "name": "python"
    }
  },
  "cells": [
    {
      "cell_type": "markdown",
      "metadata": {
        "id": "view-in-github",
        "colab_type": "text"
      },
      "source": [
        "<a href=\"https://colab.research.google.com/github/MUHAMMADALIBOBOKHON2003/mening_darslarim/blob/main/Lug'atdan_Series_yaratish.ipynb\" target=\"_parent\"><img src=\"https://colab.research.google.com/assets/colab-badge.svg\" alt=\"Open In Colab\"/></a>"
      ]
    },
    {
      "cell_type": "code",
      "execution_count": 44,
      "metadata": {
        "id": "sbQErvlHGNew"
      },
      "outputs": [],
      "source": [
        "import numpy as np\n",
        "import pandas as pd\n",
        "from pandas import Series"
      ]
    },
    {
      "cell_type": "code",
      "source": [
        "# lug'atni Seriesga o'tkazish\n",
        "dic={\"Kanareyka\":250000,\n",
        "     \"Shegol\":120000,\n",
        "     \"Sedogoloviy shegol\":500000,\n",
        "     \"Karella\":150000,\n",
        "     \"Rozella\":15000}\n",
        "\n",
        "ser_dic=Series(dic)"
      ],
      "metadata": {
        "id": "6vb8N6w5Gc15"
      },
      "execution_count": 45,
      "outputs": []
    },
    {
      "cell_type": "code",
      "source": [
        "ser_dic"
      ],
      "metadata": {
        "colab": {
          "base_uri": "https://localhost:8080/"
        },
        "id": "98PX3rEqHKwN",
        "outputId": "6193d42f-e305-4f83-88b7-0b64869bc9bb"
      },
      "execution_count": 46,
      "outputs": [
        {
          "output_type": "execute_result",
          "data": {
            "text/plain": [
              "Kanareyka             250000\n",
              "Shegol                120000\n",
              "Sedogoloviy shegol    500000\n",
              "Karella               150000\n",
              "Rozella                15000\n",
              "dtype: int64"
            ]
          },
          "metadata": {},
          "execution_count": 46
        }
      ]
    },
    {
      "cell_type": "code",
      "source": [
        "ser_dic.index"
      ],
      "metadata": {
        "colab": {
          "base_uri": "https://localhost:8080/"
        },
        "id": "Dc5dOZ_lHfEe",
        "outputId": "cad5dc84-f725-4c16-b39e-a61df8a291e1"
      },
      "execution_count": 47,
      "outputs": [
        {
          "output_type": "execute_result",
          "data": {
            "text/plain": [
              "Index(['Kanareyka', 'Shegol', 'Sedogoloviy shegol', 'Karella', 'Rozella'], dtype='object')"
            ]
          },
          "metadata": {},
          "execution_count": 47
        }
      ]
    },
    {
      "cell_type": "code",
      "source": [
        "# ko'ribturganingizdek Series ga o'tkazdik\n",
        "# Seriesni ichiga lug'atni joylash\n",
        "ser_dic2=Series({\"Kanareyka\":250000,\n",
        "     \"Shegol\":120000,\n",
        "     \"Sedogoloviy shegol\":500000,\n",
        "     \"Karella\":150000,\n",
        "     \"Rozella\":15000}\n",
        "               )"
      ],
      "metadata": {
        "id": "E-z3CwLjHMXW"
      },
      "execution_count": 48,
      "outputs": []
    },
    {
      "cell_type": "code",
      "source": [
        "ser_dic2 # ko'ribturganingizdek kutilgan natijaga erishdik\n"
      ],
      "metadata": {
        "colab": {
          "base_uri": "https://localhost:8080/"
        },
        "id": "QR2JqQdGHpvR",
        "outputId": "ed7a9535-0663-48d0-bb0a-fa49ab1b421f"
      },
      "execution_count": 49,
      "outputs": [
        {
          "output_type": "execute_result",
          "data": {
            "text/plain": [
              "Kanareyka             250000\n",
              "Shegol                120000\n",
              "Sedogoloviy shegol    500000\n",
              "Karella               150000\n",
              "Rozella                15000\n",
              "dtype: int64"
            ]
          },
          "metadata": {},
          "execution_count": 49
        }
      ]
    },
    {
      "cell_type": "code",
      "source": [
        "# ser_dic2 ni indexsini o'zimizga yoqadigan qilib o'zgartirshimiz mumkin\n",
        "ser_dic3=Series(ser_dic2, index=['Rozella','Karella','Kanareyka','Sedogoloviy shegol', 'Shegol'  ])"
      ],
      "metadata": {
        "id": "M5Eibb-ZHq1i"
      },
      "execution_count": 50,
      "outputs": []
    },
    {
      "cell_type": "code",
      "source": [
        "ser_dic3\n"
      ],
      "metadata": {
        "colab": {
          "base_uri": "https://localhost:8080/"
        },
        "id": "nukMqqLoIQDN",
        "outputId": "31beccbc-7451-4354-84a0-1435e6674e73"
      },
      "execution_count": 51,
      "outputs": [
        {
          "output_type": "execute_result",
          "data": {
            "text/plain": [
              "Rozella                15000\n",
              "Karella               150000\n",
              "Kanareyka             250000\n",
              "Sedogoloviy shegol    500000\n",
              "Shegol                120000\n",
              "dtype: int64"
            ]
          },
          "metadata": {},
          "execution_count": 51
        }
      ]
    },
    {
      "cell_type": "code",
      "source": [
        "# agar yuqoridagidek indexni o'zgartirganda mavjud bo'lmagan qiymat bersak NaN qiymatni qaytaradi\n",
        "ser_dic4=Series(ser_dic2, index=['Rozella','Karella',\"Solovey\",\"Barxatniy tkach\",'Kanareyka','Sedogoloviy shegol', 'Shegol',\"Pevchiy\"] )\n",
        "ser_dic4"
      ],
      "metadata": {
        "colab": {
          "base_uri": "https://localhost:8080/"
        },
        "id": "bUj5OxdSIiA3",
        "outputId": "a7d4be9c-f4b8-4e3f-abcc-61327c1debd6"
      },
      "execution_count": 52,
      "outputs": [
        {
          "output_type": "execute_result",
          "data": {
            "text/plain": [
              "Rozella                15000.0\n",
              "Karella               150000.0\n",
              "Solovey                    NaN\n",
              "Barxatniy tkach            NaN\n",
              "Kanareyka             250000.0\n",
              "Sedogoloviy shegol    500000.0\n",
              "Shegol                120000.0\n",
              "Pevchiy                    NaN\n",
              "dtype: float64"
            ]
          },
          "metadata": {},
          "execution_count": 52
        }
      ]
    },
    {
      "cell_type": "markdown",
      "source": [
        "#TAKRORLASH\n",
        "import numpy as np\n",
        "import pandas as pd\n",
        "from pandas import Series\n",
        "dict1=[1,2,2.5,4]\n",
        "dict1"
      ],
      "metadata": {
        "id": "HKoaPkSQJNS8"
      }
    },
    {
      "cell_type": "code",
      "source": [
        "ismlar={1:\"Sardor\",\n",
        "        2:\"Muhammadali\",\n",
        "        3:\"Ali\"}\n",
        "ismlar\n"
      ],
      "metadata": {
        "colab": {
          "base_uri": "https://localhost:8080/"
        },
        "id": "yYA_PtTvY6PE",
        "outputId": "719c5862-68a7-43e9-cd4e-d3ad6dbf9164"
      },
      "execution_count": 73,
      "outputs": [
        {
          "output_type": "execute_result",
          "data": {
            "text/plain": [
              "{1: 'Sardor', 2: 'Muhammadali', 3: 'Ali'}"
            ]
          },
          "metadata": {},
          "execution_count": 73
        }
      ]
    },
    {
      "cell_type": "code",
      "source": [
        "# sonlarni Seriesga o'tkazamiz\n",
        "ser_sonn=Series(ismlar)\n",
        "ser_sonn\n"
      ],
      "metadata": {
        "colab": {
          "base_uri": "https://localhost:8080/"
        },
        "id": "VSpoMwHSZQNW",
        "outputId": "c295e44b-6a91-4d3e-ba02-72827eb1648c"
      },
      "execution_count": 74,
      "outputs": [
        {
          "output_type": "execute_result",
          "data": {
            "text/plain": [
              "1         Sardor\n",
              "2    Muhammadali\n",
              "3            Ali\n",
              "dtype: object"
            ]
          },
          "metadata": {},
          "execution_count": 74
        }
      ]
    },
    {
      "cell_type": "code",
      "source": [
        "ser_sonn.index"
      ],
      "metadata": {
        "colab": {
          "base_uri": "https://localhost:8080/"
        },
        "id": "sUHbuQJrZaCC",
        "outputId": "50ecdfa5-9f91-4b50-c897-1993d8c5c0fc"
      },
      "execution_count": 75,
      "outputs": [
        {
          "output_type": "execute_result",
          "data": {
            "text/plain": [
              "Int64Index([1, 2, 3], dtype='int64')"
            ]
          },
          "metadata": {},
          "execution_count": 75
        }
      ]
    },
    {
      "cell_type": "code",
      "source": [
        "ser_sonn.values"
      ],
      "metadata": {
        "colab": {
          "base_uri": "https://localhost:8080/"
        },
        "id": "Rb_k2bfNZdo4",
        "outputId": "8a234961-1592-46a6-bf40-41e6d46626d3"
      },
      "execution_count": 76,
      "outputs": [
        {
          "output_type": "execute_result",
          "data": {
            "text/plain": [
              "array(['Sardor', 'Muhammadali', 'Ali'], dtype=object)"
            ]
          },
          "metadata": {},
          "execution_count": 76
        }
      ]
    },
    {
      "cell_type": "code",
      "source": [
        "ser_sonn.dtype"
      ],
      "metadata": {
        "colab": {
          "base_uri": "https://localhost:8080/"
        },
        "id": "sxQR7yANZgLb",
        "outputId": "c6cc6de5-ca06-444d-a4f3-061b1f40515f"
      },
      "execution_count": 77,
      "outputs": [
        {
          "output_type": "execute_result",
          "data": {
            "text/plain": [
              "dtype('O')"
            ]
          },
          "metadata": {},
          "execution_count": 77
        }
      ]
    },
    {
      "cell_type": "code",
      "source": [
        "ser_=Series(ser_sonn, [1,2,'x'])\n",
        "ser_"
      ],
      "metadata": {
        "colab": {
          "base_uri": "https://localhost:8080/"
        },
        "id": "6jw34dAmZqZI",
        "outputId": "b146df0b-32ca-4b3e-fd19-61b3acc0fcf0"
      },
      "execution_count": 81,
      "outputs": [
        {
          "output_type": "execute_result",
          "data": {
            "text/plain": [
              "1         Sardor\n",
              "2    Muhammadali\n",
              "x            NaN\n",
              "dtype: object"
            ]
          },
          "metadata": {},
          "execution_count": 81
        }
      ]
    },
    {
      "cell_type": "code",
      "source": [
        "sonlar=list(range(5))"
      ],
      "metadata": {
        "id": "UIzPZrZNbH7Q"
      },
      "execution_count": 82,
      "outputs": []
    },
    {
      "cell_type": "code",
      "source": [
        "ser_diccc=Series(sonlar, index=['q','w','e','r','t'])"
      ],
      "metadata": {
        "id": "H89c_fX8Z-QY"
      },
      "execution_count": 83,
      "outputs": []
    },
    {
      "cell_type": "code",
      "source": [
        "ser_diccc"
      ],
      "metadata": {
        "colab": {
          "base_uri": "https://localhost:8080/"
        },
        "id": "hBtWjQNwbL7f",
        "outputId": "f5713dbb-3a4d-44bb-f0c2-a2fac820901b"
      },
      "execution_count": 84,
      "outputs": [
        {
          "output_type": "execute_result",
          "data": {
            "text/plain": [
              "q    0\n",
              "w    1\n",
              "e    2\n",
              "r    3\n",
              "t    4\n",
              "dtype: int64"
            ]
          },
          "metadata": {},
          "execution_count": 84
        }
      ]
    },
    {
      "cell_type": "code",
      "source": [],
      "metadata": {
        "id": "s_jm2fBgbNIN"
      },
      "execution_count": null,
      "outputs": []
    }
  ]
}