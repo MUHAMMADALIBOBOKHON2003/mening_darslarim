{
  "nbformat": 4,
  "nbformat_minor": 0,
  "metadata": {
    "colab": {
      "provenance": [],
      "authorship_tag": "ABX9TyOrh8itxnoLiKoaN/vr5xOJ",
      "include_colab_link": true
    },
    "kernelspec": {
      "name": "python3",
      "display_name": "Python 3"
    },
    "language_info": {
      "name": "python"
    }
  },
  "cells": [
    {
      "cell_type": "markdown",
      "metadata": {
        "id": "view-in-github",
        "colab_type": "text"
      },
      "source": [
        "<a href=\"https://colab.research.google.com/github/MUHAMMADALIBOBOKHON2003/mening_darslarim/blob/main/Numpy_Full_repeat.ipynb\" target=\"_parent\"><img src=\"https://colab.research.google.com/assets/colab-badge.svg\" alt=\"Open In Colab\"/></a>"
      ]
    },
    {
      "cell_type": "code",
      "execution_count": null,
      "metadata": {
        "id": "ZL-a-Sc_u9tz"
      },
      "outputs": [],
      "source": [
        "# array yaratamiz\n",
        "ints=list(range(14))\n"
      ]
    },
    {
      "cell_type": "code",
      "source": [
        "import numpy as np"
      ],
      "metadata": {
        "id": "aMqOIrHcv8BZ"
      },
      "execution_count": null,
      "outputs": []
    },
    {
      "cell_type": "code",
      "source": [
        "arr1=np.array(ints)\n",
        "arr1"
      ],
      "metadata": {
        "colab": {
          "base_uri": "https://localhost:8080/"
        },
        "id": "Xy1uvcqBv9pV",
        "outputId": "14e7b65d-c3cf-4a4f-96bb-5ddee46a30a4"
      },
      "execution_count": null,
      "outputs": [
        {
          "output_type": "execute_result",
          "data": {
            "text/plain": [
              "array([ 0,  1,  2,  3,  4,  5,  6,  7,  8,  9, 10, 11, 12, 13])"
            ]
          },
          "metadata": {},
          "execution_count": 6
        }
      ]
    },
    {
      "cell_type": "code",
      "source": [
        "# arr1 ni o'lchamini tekshiramiz\n",
        "arr1.ndim"
      ],
      "metadata": {
        "colab": {
          "base_uri": "https://localhost:8080/"
        },
        "id": "2MGYXZtTwBMt",
        "outputId": "02743d4b-a82d-45ea-ca16-5952c834148b"
      },
      "execution_count": null,
      "outputs": [
        {
          "output_type": "execute_result",
          "data": {
            "text/plain": [
              "1"
            ]
          },
          "metadata": {},
          "execution_count": 7
        }
      ]
    },
    {
      "cell_type": "code",
      "source": [
        "# arr1 ni elementlar sonini tekshiramiz\n",
        "arr1.size"
      ],
      "metadata": {
        "colab": {
          "base_uri": "https://localhost:8080/"
        },
        "id": "pDqI_iU_wRV2",
        "outputId": "c71e9938-8393-48ae-d318-ddbcb9c98018"
      },
      "execution_count": null,
      "outputs": [
        {
          "output_type": "execute_result",
          "data": {
            "text/plain": [
              "14"
            ]
          },
          "metadata": {},
          "execution_count": 8
        }
      ]
    },
    {
      "cell_type": "code",
      "source": [
        "# arr1 ni reshape() metodi yordamida ikki o'lchamli array qilib olamiz\n",
        "arr2= arr1.reshape(2,7)"
      ],
      "metadata": {
        "id": "boxQ2XFjwYPg"
      },
      "execution_count": null,
      "outputs": []
    },
    {
      "cell_type": "code",
      "source": [
        "arr2.ndim # arr2 o'lchamini tekshiramiz\n"
      ],
      "metadata": {
        "colab": {
          "base_uri": "https://localhost:8080/"
        },
        "id": "e403jLEDwmUB",
        "outputId": "6cb34a44-298d-4adb-8f91-b41e24c21ed4"
      },
      "execution_count": null,
      "outputs": [
        {
          "output_type": "execute_result",
          "data": {
            "text/plain": [
              "2"
            ]
          },
          "metadata": {},
          "execution_count": 14
        }
      ]
    },
    {
      "cell_type": "code",
      "source": [
        "# arr2 ning o'qlarini swapaxes() metodi yordamida o'zgartiramiz\n",
        "arr2.swapaxes(0,1)"
      ],
      "metadata": {
        "colab": {
          "base_uri": "https://localhost:8080/"
        },
        "id": "AAzAQWJTwn32",
        "outputId": "8c6dcf6b-c203-4e82-fe5b-17b0233f0c98"
      },
      "execution_count": null,
      "outputs": [
        {
          "output_type": "execute_result",
          "data": {
            "text/plain": [
              "array([[ 0,  7],\n",
              "       [ 1,  8],\n",
              "       [ 2,  9],\n",
              "       [ 3, 10],\n",
              "       [ 4, 11],\n",
              "       [ 5, 12],\n",
              "       [ 6, 13]])"
            ]
          },
          "metadata": {},
          "execution_count": 15
        }
      ]
    },
    {
      "cell_type": "code",
      "source": [
        "arr3=arr2.swapaxes(0,1)"
      ],
      "metadata": {
        "id": "7Gp0OG-4xAmu"
      },
      "execution_count": null,
      "outputs": []
    },
    {
      "cell_type": "code",
      "source": [
        "arr3"
      ],
      "metadata": {
        "colab": {
          "base_uri": "https://localhost:8080/"
        },
        "id": "WpJPZ2FCxFIZ",
        "outputId": "b7b334e4-5254-494f-80e4-bc970fca7a09"
      },
      "execution_count": null,
      "outputs": [
        {
          "output_type": "execute_result",
          "data": {
            "text/plain": [
              "array([[ 0,  7],\n",
              "       [ 1,  8],\n",
              "       [ 2,  9],\n",
              "       [ 3, 10],\n",
              "       [ 4, 11],\n",
              "       [ 5, 12],\n",
              "       [ 6, 13]])"
            ]
          },
          "metadata": {},
          "execution_count": 17
        }
      ]
    },
    {
      "cell_type": "code",
      "source": [
        "arr2"
      ],
      "metadata": {
        "colab": {
          "base_uri": "https://localhost:8080/"
        },
        "id": "C7cOmlIKxF_2",
        "outputId": "92cf000a-acef-46ba-aff5-b85b29926db0"
      },
      "execution_count": null,
      "outputs": [
        {
          "output_type": "execute_result",
          "data": {
            "text/plain": [
              "array([[ 0,  1,  2,  3,  4,  5,  6],\n",
              "       [ 7,  8,  9, 10, 11, 12, 13]])"
            ]
          },
          "metadata": {},
          "execution_count": 18
        }
      ]
    },
    {
      "cell_type": "code",
      "source": [
        "# arr2 va arr3 ni (dot) metodi yoradmida ko'paytiramiz\n",
        "arr2.dot(arr3)"
      ],
      "metadata": {
        "colab": {
          "base_uri": "https://localhost:8080/"
        },
        "id": "MtPXcL0CxG1K",
        "outputId": "8a8174f2-fc29-42e0-bbdb-a0e92bc65edc"
      },
      "execution_count": null,
      "outputs": [
        {
          "output_type": "execute_result",
          "data": {
            "text/plain": [
              "array([[ 91, 238],\n",
              "       [238, 728]])"
            ]
          },
          "metadata": {},
          "execution_count": 19
        }
      ]
    },
    {
      "cell_type": "code",
      "source": [
        "arr3.dot(arr2)"
      ],
      "metadata": {
        "colab": {
          "base_uri": "https://localhost:8080/"
        },
        "id": "KL_xZxiwxQON",
        "outputId": "3a910cba-2a91-4578-dbec-363faea1f860"
      },
      "execution_count": null,
      "outputs": [
        {
          "output_type": "execute_result",
          "data": {
            "text/plain": [
              "array([[ 49,  56,  63,  70,  77,  84,  91],\n",
              "       [ 56,  65,  74,  83,  92, 101, 110],\n",
              "       [ 63,  74,  85,  96, 107, 118, 129],\n",
              "       [ 70,  83,  96, 109, 122, 135, 148],\n",
              "       [ 77,  92, 107, 122, 137, 152, 167],\n",
              "       [ 84, 101, 118, 135, 152, 169, 186],\n",
              "       [ 91, 110, 129, 148, 167, 186, 205]])"
            ]
          },
          "metadata": {},
          "execution_count": 20
        }
      ]
    },
    {
      "cell_type": "code",
      "source": [
        "np.dot(arr2,arr3)"
      ],
      "metadata": {
        "colab": {
          "base_uri": "https://localhost:8080/"
        },
        "id": "dX_evlYuxTTV",
        "outputId": "895cd292-cc6d-46ea-e0a9-f5b48d1460cd"
      },
      "execution_count": null,
      "outputs": [
        {
          "output_type": "execute_result",
          "data": {
            "text/plain": [
              "array([[ 91, 238],\n",
              "       [238, 728]])"
            ]
          },
          "metadata": {},
          "execution_count": 21
        }
      ]
    },
    {
      "cell_type": "code",
      "source": [
        "np.dot(arr3,arr2) # yuqoridagi dot() ishlatilgan ko'dlar bilan birhil"
      ],
      "metadata": {
        "colab": {
          "base_uri": "https://localhost:8080/"
        },
        "id": "AlW0hpFTxV6t",
        "outputId": "30c8f746-b51f-4f97-d705-585e8a249574"
      },
      "execution_count": null,
      "outputs": [
        {
          "output_type": "execute_result",
          "data": {
            "text/plain": [
              "array([[ 49,  56,  63,  70,  77,  84,  91],\n",
              "       [ 56,  65,  74,  83,  92, 101, 110],\n",
              "       [ 63,  74,  85,  96, 107, 118, 129],\n",
              "       [ 70,  83,  96, 109, 122, 135, 148],\n",
              "       [ 77,  92, 107, 122, 137, 152, 167],\n",
              "       [ 84, 101, 118, 135, 152, 169, 186],\n",
              "       [ 91, 110, 129, 148, 167, 186, 205]])"
            ]
          },
          "metadata": {},
          "execution_count": 22
        }
      ]
    },
    {
      "cell_type": "code",
      "source": [
        "# uch o'lchamli massivv yaratamiz va ichidan kerakli bo'lgan qiymatlarni chaqirib olamiz\n",
        "arr3d=np.array([[[ 49,  56,  63,  70,  77,  84,  91],\n",
        "       [ 56,  65,  74,  83,  92, 101, 110],\n",
        "       [ 63,  74,  85,  96, 107, 118, 129],\n",
        "       [ 70,  83,  96, 109, 122, 135, 148],\n",
        "       [ 77,  92, 107, 122, 147, 152, 167],\n",
        "       [ 84, 181, 18, 135, 152, 169, 186],\n",
        "       [ 91, 210, 19, 48, 167, 186, 605]],\n",
        "       \n",
        "       [[ 49,  56,  63,  70,  77,  84,  91],\n",
        "       [ 56,  23,  74,  83,  9, 101, 110],\n",
        "       [ 63,  74,  8,  96, 107, 118, 129],\n",
        "       [ 70,  83,  96, 109, 22, 135, 148],\n",
        "       [ 77,  92, 154, 12, 137, 152, 167],\n",
        "       [ 84, 101, 118, 15, 152, 169, 186],\n",
        "       [ 91, 110, 129, 48, 167, 86, 205]],\n",
        "       \n",
        "       [[ 49,  56,  63,  70,  77,  84,  91],\n",
        "       [ 56,  23,  74,  83,  9, 101, 110],\n",
        "       [ 63,  774,  558,  96, 107, 178, 129],\n",
        "       [ 79,  83,  96, 104, 22, 13, 148],\n",
        "       [ 77,  952, 154, 128, 137, 152, 167],\n",
        "       [ 88, 181, 118, 157, 12, 169, 186],\n",
        "       [ 91, 110, 129, 48, 167, 86, 205]]\n",
        "       ])\n",
        "arr3d\n"
      ],
      "metadata": {
        "colab": {
          "base_uri": "https://localhost:8080/"
        },
        "id": "xqw0yItNxY0I",
        "outputId": "4e46bc95-5268-40c4-fc87-168838dcc352"
      },
      "execution_count": null,
      "outputs": [
        {
          "output_type": "execute_result",
          "data": {
            "text/plain": [
              "array([[[ 49,  56,  63,  70,  77,  84,  91],\n",
              "        [ 56,  65,  74,  83,  92, 101, 110],\n",
              "        [ 63,  74,  85,  96, 107, 118, 129],\n",
              "        [ 70,  83,  96, 109, 122, 135, 148],\n",
              "        [ 77,  92, 107, 122, 147, 152, 167],\n",
              "        [ 84, 181,  18, 135, 152, 169, 186],\n",
              "        [ 91, 210,  19,  48, 167, 186, 605]],\n",
              "\n",
              "       [[ 49,  56,  63,  70,  77,  84,  91],\n",
              "        [ 56,  23,  74,  83,   9, 101, 110],\n",
              "        [ 63,  74,   8,  96, 107, 118, 129],\n",
              "        [ 70,  83,  96, 109,  22, 135, 148],\n",
              "        [ 77,  92, 154,  12, 137, 152, 167],\n",
              "        [ 84, 101, 118,  15, 152, 169, 186],\n",
              "        [ 91, 110, 129,  48, 167,  86, 205]],\n",
              "\n",
              "       [[ 49,  56,  63,  70,  77,  84,  91],\n",
              "        [ 56,  23,  74,  83,   9, 101, 110],\n",
              "        [ 63, 774, 558,  96, 107, 178, 129],\n",
              "        [ 79,  83,  96, 104,  22,  13, 148],\n",
              "        [ 77, 952, 154, 128, 137, 152, 167],\n",
              "        [ 88, 181, 118, 157,  12, 169, 186],\n",
              "        [ 91, 110, 129,  48, 167,  86, 205]]])"
            ]
          },
          "metadata": {},
          "execution_count": 27
        }
      ]
    },
    {
      "cell_type": "code",
      "source": [
        "arr3d.ndim"
      ],
      "metadata": {
        "colab": {
          "base_uri": "https://localhost:8080/"
        },
        "id": "5cDqk7A9yhxE",
        "outputId": "909ba20a-379c-4744-fb1e-0260bfa0f0f9"
      },
      "execution_count": null,
      "outputs": [
        {
          "output_type": "execute_result",
          "data": {
            "text/plain": [
              "3"
            ]
          },
          "metadata": {},
          "execution_count": 28
        }
      ]
    },
    {
      "cell_type": "code",
      "source": [
        "# arr3d ning 2 index ni ichidan 152,169,167,86 qiymatlarini chaqirib olamiz\n",
        "arr3d[1][5:,4:6]"
      ],
      "metadata": {
        "colab": {
          "base_uri": "https://localhost:8080/"
        },
        "id": "0unHXlTCyrqv",
        "outputId": "d48ca48a-1a80-4651-910c-5b4e2b68894c"
      },
      "execution_count": null,
      "outputs": [
        {
          "output_type": "execute_result",
          "data": {
            "text/plain": [
              "array([[152, 169],\n",
              "       [167,  86]])"
            ]
          },
          "metadata": {},
          "execution_count": 37
        }
      ]
    },
    {
      "cell_type": "code",
      "source": [
        "arr3"
      ],
      "metadata": {
        "colab": {
          "base_uri": "https://localhost:8080/"
        },
        "id": "bH3GWRvRzf2N",
        "outputId": "165a0455-7e9c-4c9d-b348-7253696c25fb"
      },
      "execution_count": null,
      "outputs": [
        {
          "output_type": "execute_result",
          "data": {
            "text/plain": [
              "array([[ 0,  7],\n",
              "       [ 1,  8],\n",
              "       [ 2,  9],\n",
              "       [ 3, 10],\n",
              "       [ 4, 11],\n",
              "       [ 5, 12],\n",
              "       [ 6, 13]])"
            ]
          },
          "metadata": {},
          "execution_count": 38
        }
      ]
    },
    {
      "cell_type": "code",
      "source": [
        "arr3.sum()# arr3 ning elementlarini yig'indisini hisobladik"
      ],
      "metadata": {
        "colab": {
          "base_uri": "https://localhost:8080/"
        },
        "id": "xMPP5zAM4npa",
        "outputId": "a7eb10db-e76a-4a57-a0b4-28882f960c72"
      },
      "execution_count": null,
      "outputs": [
        {
          "output_type": "execute_result",
          "data": {
            "text/plain": [
              "91"
            ]
          },
          "metadata": {},
          "execution_count": 40
        }
      ]
    },
    {
      "cell_type": "code",
      "source": [
        "np.sqrt(arr3) # arr3 ning elemetnlarini kvadrat ildizini hisoblash"
      ],
      "metadata": {
        "colab": {
          "base_uri": "https://localhost:8080/"
        },
        "id": "AwWU34Hd4qRv",
        "outputId": "c19d2d22-ec68-44b2-ca1d-ec2831dc0a9c"
      },
      "execution_count": null,
      "outputs": [
        {
          "output_type": "execute_result",
          "data": {
            "text/plain": [
              "array([[0.        , 2.64575131],\n",
              "       [1.        , 2.82842712],\n",
              "       [1.41421356, 3.        ],\n",
              "       [1.73205081, 3.16227766],\n",
              "       [2.        , 3.31662479],\n",
              "       [2.23606798, 3.46410162],\n",
              "       [2.44948974, 3.60555128]])"
            ]
          },
          "metadata": {},
          "execution_count": 42
        }
      ]
    },
    {
      "cell_type": "code",
      "source": [
        "np.square(arr3) #arr3 ni kvadrat ildizga oshirish"
      ],
      "metadata": {
        "colab": {
          "base_uri": "https://localhost:8080/"
        },
        "id": "5J2I50_U4yxL",
        "outputId": "359048e6-467b-4d5a-c929-c3716527df6b"
      },
      "execution_count": null,
      "outputs": [
        {
          "output_type": "execute_result",
          "data": {
            "text/plain": [
              "array([[  0,  49],\n",
              "       [  1,  64],\n",
              "       [  4,  81],\n",
              "       [  9, 100],\n",
              "       [ 16, 121],\n",
              "       [ 25, 144],\n",
              "       [ 36, 169]])"
            ]
          },
          "metadata": {},
          "execution_count": 43
        }
      ]
    },
    {
      "cell_type": "code",
      "source": [
        "arr2"
      ],
      "metadata": {
        "colab": {
          "base_uri": "https://localhost:8080/"
        },
        "id": "HRREAPDo5FKw",
        "outputId": "240810e8-472e-40ab-9244-537567039ac9"
      },
      "execution_count": null,
      "outputs": [
        {
          "output_type": "execute_result",
          "data": {
            "text/plain": [
              "array([[ 0,  1,  2,  3,  4,  5,  6],\n",
              "       [ 7,  8,  9, 10, 11, 12, 13]])"
            ]
          },
          "metadata": {},
          "execution_count": 44
        }
      ]
    },
    {
      "cell_type": "code",
      "source": [
        "arr2.dtype # arr2 ni ma'lumot turini ko'rdik"
      ],
      "metadata": {
        "colab": {
          "base_uri": "https://localhost:8080/"
        },
        "id": "1s-akfQT5Ji4",
        "outputId": "32e0f46f-969d-4bc7-d4c6-3bc9249703b9"
      },
      "execution_count": null,
      "outputs": [
        {
          "output_type": "execute_result",
          "data": {
            "text/plain": [
              "dtype('int64')"
            ]
          },
          "metadata": {},
          "execution_count": 46
        }
      ]
    },
    {
      "cell_type": "code",
      "source": [
        "arr2.astype(np.float32) # arr2 ni ma'lumot turini float32 ga o'tkazib qo'ydik"
      ],
      "metadata": {
        "colab": {
          "base_uri": "https://localhost:8080/"
        },
        "id": "eTZ7qJ7a5NmQ",
        "outputId": "98459546-66f2-42d0-92b2-838338105f4e"
      },
      "execution_count": null,
      "outputs": [
        {
          "output_type": "execute_result",
          "data": {
            "text/plain": [
              "array([[ 0.,  1.,  2.,  3.,  4.,  5.,  6.],\n",
              "       [ 7.,  8.,  9., 10., 11., 12., 13.]], dtype=float32)"
            ]
          },
          "metadata": {},
          "execution_count": 47
        }
      ]
    },
    {
      "cell_type": "code",
      "source": [
        "arr4=np.random.rand(5)"
      ],
      "metadata": {
        "id": "Co3DeA-85iL8"
      },
      "execution_count": null,
      "outputs": []
    },
    {
      "cell_type": "code",
      "source": [
        "arr5=np.random.rand(5)"
      ],
      "metadata": {
        "id": "yllezuME5s7m"
      },
      "execution_count": null,
      "outputs": []
    },
    {
      "cell_type": "code",
      "source": [
        "arr4"
      ],
      "metadata": {
        "colab": {
          "base_uri": "https://localhost:8080/"
        },
        "id": "NXHAFtHo5wCE",
        "outputId": "152af743-1d07-4221-9ccd-3df86cbed226"
      },
      "execution_count": null,
      "outputs": [
        {
          "output_type": "execute_result",
          "data": {
            "text/plain": [
              "array([0.01131533, 0.79546727, 0.48652065, 0.63992917, 0.4008454 ])"
            ]
          },
          "metadata": {},
          "execution_count": 50
        }
      ]
    },
    {
      "cell_type": "code",
      "source": [
        "arr5"
      ],
      "metadata": {
        "colab": {
          "base_uri": "https://localhost:8080/"
        },
        "id": "XJCOZPmz5wct",
        "outputId": "b94587f6-3d2a-4a34-9ae3-c4d999f5e834"
      },
      "execution_count": null,
      "outputs": [
        {
          "output_type": "execute_result",
          "data": {
            "text/plain": [
              "array([0.66297346, 0.27622772, 0.92808022, 0.59593727, 0.44423829])"
            ]
          },
          "metadata": {},
          "execution_count": 51
        }
      ]
    },
    {
      "cell_type": "code",
      "source": [
        "# mantiqiy shart operatori where()\n",
        "shart=np.array([True,True, False,False,False])\n",
        "rezult=np.where(shart,arr4,arr5) # shartda True qiymatga arr4 dan element oladi False ga arr5 dan oladi\n",
        "rezult  "
      ],
      "metadata": {
        "colab": {
          "base_uri": "https://localhost:8080/"
        },
        "id": "OthcJ_Cp5w2P",
        "outputId": "71934ac2-b397-4c41-cb1b-5dbda33bced6"
      },
      "execution_count": null,
      "outputs": [
        {
          "output_type": "execute_result",
          "data": {
            "text/plain": [
              "array([0.01131533, 0.79546727, 0.92808022, 0.59593727, 0.44423829])"
            ]
          },
          "metadata": {},
          "execution_count": 52
        }
      ]
    },
    {
      "cell_type": "code",
      "source": [
        "# where funksiyasi huddi if/else kabi ishlayi. MENIMCHA\n",
        "arr6=np.where(arr3<5, True, False)\n",
        "arr6"
      ],
      "metadata": {
        "colab": {
          "base_uri": "https://localhost:8080/"
        },
        "id": "X2fH2chz6SCp",
        "outputId": "e79e0eff-fc35-4365-d0e1-cbaf8c650324"
      },
      "execution_count": null,
      "outputs": [
        {
          "output_type": "execute_result",
          "data": {
            "text/plain": [
              "array([[ True, False],\n",
              "       [ True, False],\n",
              "       [ True, False],\n",
              "       [ True, False],\n",
              "       [ True, False],\n",
              "       [False, False],\n",
              "       [False, False]])"
            ]
          },
          "metadata": {},
          "execution_count": 54
        }
      ]
    },
    {
      "cell_type": "code",
      "source": [
        "# arr6 ni o'zgartirib True, False ning o'rniga boshqa qiymat bersak ham bo'ladi\n",
        "arr7=np.where(arr3<5, \"0\", \"+5\")\n",
        "arr7"
      ],
      "metadata": {
        "colab": {
          "base_uri": "https://localhost:8080/"
        },
        "id": "QuF0_P4q65Ti",
        "outputId": "80e212b1-bcf1-4055-cd4f-af29907de718"
      },
      "execution_count": null,
      "outputs": [
        {
          "output_type": "execute_result",
          "data": {
            "text/plain": [
              "array([['0', '+5'],\n",
              "       ['0', '+5'],\n",
              "       ['0', '+5'],\n",
              "       ['0', '+5'],\n",
              "       ['0', '+5'],\n",
              "       ['+5', '+5'],\n",
              "       ['+5', '+5']], dtype='<U2')"
            ]
          },
          "metadata": {},
          "execution_count": 55
        }
      ]
    },
    {
      "cell_type": "code",
      "source": [
        "# array yaratganda uning ma'lumot turin berish\n",
        "array=np.array([12,54,76,12],dtype=np.int16)"
      ],
      "metadata": {
        "id": "t8zRAO4M7L1R"
      },
      "execution_count": null,
      "outputs": []
    },
    {
      "cell_type": "code",
      "source": [
        "array"
      ],
      "metadata": {
        "colab": {
          "base_uri": "https://localhost:8080/"
        },
        "id": "d3QQBa_87x5E",
        "outputId": "703ef3d6-5163-4b07-c2e0-ce2fcfff71fb"
      },
      "execution_count": null,
      "outputs": [
        {
          "output_type": "execute_result",
          "data": {
            "text/plain": [
              "array([12, 54, 76, 12], dtype=int16)"
            ]
          },
          "metadata": {},
          "execution_count": 57
        }
      ]
    },
    {
      "cell_type": "code",
      "source": [
        "array.dtype"
      ],
      "metadata": {
        "colab": {
          "base_uri": "https://localhost:8080/"
        },
        "id": "-l0i7Reb7yy7",
        "outputId": "d3199f03-86a9-4716-88ac-0200d9c80254"
      },
      "execution_count": null,
      "outputs": [
        {
          "output_type": "execute_result",
          "data": {
            "text/plain": [
              "dtype('int16')"
            ]
          },
          "metadata": {},
          "execution_count": 58
        }
      ]
    },
    {
      "cell_type": "code",
      "source": [
        "# arrayni float64 ga o'tkazamiz\n",
        "ar_float=array.astype(np.float64)"
      ],
      "metadata": {
        "id": "e4roCmZd70Zn"
      },
      "execution_count": null,
      "outputs": []
    },
    {
      "cell_type": "code",
      "source": [
        "ar_float.dtype"
      ],
      "metadata": {
        "colab": {
          "base_uri": "https://localhost:8080/"
        },
        "id": "4MdSDq-D7-6D",
        "outputId": "89ef4a6a-5802-4e6a-b02d-276fb5ddf31d"
      },
      "execution_count": null,
      "outputs": [
        {
          "output_type": "execute_result",
          "data": {
            "text/plain": [
              "dtype('float64')"
            ]
          },
          "metadata": {},
          "execution_count": 63
        }
      ]
    },
    {
      "cell_type": "code",
      "source": [
        "# 1 dan iborat array yaratish\n",
        "import numpy as np\n",
        "from pandas  import Series\n"
      ],
      "metadata": {
        "id": "m8Ek6_ei8I-T"
      },
      "execution_count": 1,
      "outputs": []
    },
    {
      "cell_type": "code",
      "source": [
        "arr_ones=np.ones((4,5))\n",
        "arr_ones"
      ],
      "metadata": {
        "id": "eIca7xDI8OLP",
        "colab": {
          "base_uri": "https://localhost:8080/"
        },
        "outputId": "eaf36c1b-21d1-4292-d5a5-6716979e4925"
      },
      "execution_count": 4,
      "outputs": [
        {
          "output_type": "execute_result",
          "data": {
            "text/plain": [
              "array([[1., 1., 1., 1., 1.],\n",
              "       [1., 1., 1., 1., 1.],\n",
              "       [1., 1., 1., 1., 1.],\n",
              "       [1., 1., 1., 1., 1.]])"
            ]
          },
          "metadata": {},
          "execution_count": 4
        }
      ]
    },
    {
      "cell_type": "code",
      "source": [
        "arr_ones1=np.ones(shape=(2,4))\n",
        "arr_ones1"
      ],
      "metadata": {
        "colab": {
          "base_uri": "https://localhost:8080/"
        },
        "id": "IfnBjlefkxOM",
        "outputId": "e33eacb5-096f-4aad-f268-05558c7a7c7a"
      },
      "execution_count": 5,
      "outputs": [
        {
          "output_type": "execute_result",
          "data": {
            "text/plain": [
              "array([[1., 1., 1., 1.],\n",
              "       [1., 1., 1., 1.]])"
            ]
          },
          "metadata": {},
          "execution_count": 5
        }
      ]
    },
    {
      "cell_type": "code",
      "source": [
        "# 0 dan iborat array(massiv) yaratish\n",
        "arr_zero=np.zeros(shape=(3,6))\n",
        "arr_zero"
      ],
      "metadata": {
        "colab": {
          "base_uri": "https://localhost:8080/"
        },
        "id": "_mBv7-NIlCJU",
        "outputId": "259e4405-6013-4c09-c7ef-86f15213933e"
      },
      "execution_count": 7,
      "outputs": [
        {
          "output_type": "execute_result",
          "data": {
            "text/plain": [
              "array([[0., 0., 0., 0., 0., 0.],\n",
              "       [0., 0., 0., 0., 0., 0.],\n",
              "       [0., 0., 0., 0., 0., 0.]])"
            ]
          },
          "metadata": {},
          "execution_count": 7
        }
      ]
    },
    {
      "cell_type": "code",
      "source": [
        "arr_zero1=np.zeros((2,3))\n",
        "arr_zero1"
      ],
      "metadata": {
        "colab": {
          "base_uri": "https://localhost:8080/"
        },
        "id": "X7HvWUTjlRC6",
        "outputId": "23a6bac2-8ce5-4ee2-e29a-24f70f54aaa7"
      },
      "execution_count": 9,
      "outputs": [
        {
          "output_type": "execute_result",
          "data": {
            "text/plain": [
              "array([[0., 0., 0.],\n",
              "       [0., 0., 0.]])"
            ]
          },
          "metadata": {},
          "execution_count": 9
        }
      ]
    },
    {
      "cell_type": "code",
      "source": [
        "arr11=np.random.randint(9,16,size=(2,3))\n",
        "arr11"
      ],
      "metadata": {
        "colab": {
          "base_uri": "https://localhost:8080/"
        },
        "id": "O7ZEN7OclYQn",
        "outputId": "9f70eae2-5ca4-46d4-ff97-0cd38a919009"
      },
      "execution_count": 15,
      "outputs": [
        {
          "output_type": "execute_result",
          "data": {
            "text/plain": [
              "array([[ 9, 12, 15],\n",
              "       [12, 10, 14]])"
            ]
          },
          "metadata": {},
          "execution_count": 15
        }
      ]
    },
    {
      "cell_type": "code",
      "source": [
        "arr12=np.random.randint(8,15,size=(2,3))\n",
        "arr12\n"
      ],
      "metadata": {
        "colab": {
          "base_uri": "https://localhost:8080/"
        },
        "id": "oh-YlhYVlmyw",
        "outputId": "ee2b31ac-31e2-49e7-d391-d288abce99d7"
      },
      "execution_count": 16,
      "outputs": [
        {
          "output_type": "execute_result",
          "data": {
            "text/plain": [
              "array([[ 9, 12, 12],\n",
              "       [13, 12, 14]])"
            ]
          },
          "metadata": {},
          "execution_count": 16
        }
      ]
    },
    {
      "cell_type": "code",
      "source": [
        "# arr11 va arr12 larga binary funksiyalarni qo'llaymiz\n",
        "# fmax()\n",
        "np.fmax(arr11,arr12)"
      ],
      "metadata": {
        "colab": {
          "base_uri": "https://localhost:8080/"
        },
        "id": "1OcaCWcvlxpd",
        "outputId": "a002d118-3204-49a8-a67a-cb51e7b3c5dd"
      },
      "execution_count": 17,
      "outputs": [
        {
          "output_type": "execute_result",
          "data": {
            "text/plain": [
              "array([[ 9, 12, 15],\n",
              "       [13, 12, 14]])"
            ]
          },
          "metadata": {},
          "execution_count": 17
        }
      ]
    },
    {
      "cell_type": "code",
      "source": [
        "# power() arr11 ni arr12 ning elementlarini darajasiga ko'taradi\n",
        "np.power(arr11,arr12)"
      ],
      "metadata": {
        "colab": {
          "base_uri": "https://localhost:8080/"
        },
        "id": "I7ueKKpnmOo0",
        "outputId": "42d36675-b007-4939-c0fb-3adfe5d67b18"
      },
      "execution_count": 18,
      "outputs": [
        {
          "output_type": "execute_result",
          "data": {
            "text/plain": [
              "array([[        387420489,     8916100448256,   129746337890625],\n",
              "       [  106993205379072,     1000000000000, 11112006825558016]])"
            ]
          },
          "metadata": {},
          "execution_count": 18
        }
      ]
    },
    {
      "cell_type": "code",
      "source": [
        "arr12swp=arr12.swapaxes(1,0)\n"
      ],
      "metadata": {
        "id": "0LgSMCKUnlCo"
      },
      "execution_count": 29,
      "outputs": []
    },
    {
      "cell_type": "code",
      "source": [
        "# dot() metodi ikkita arrayni bir-biriga ko'paytiradi\n",
        "np.dot(arr11,arr12swp)"
      ],
      "metadata": {
        "colab": {
          "base_uri": "https://localhost:8080/"
        },
        "id": "HAYPrgunnZ2f",
        "outputId": "82306352-b596-4697-8681-7e7ff9f4d6c3"
      },
      "execution_count": 30,
      "outputs": [
        {
          "output_type": "execute_result",
          "data": {
            "text/plain": [
              "array([[405, 471],\n",
              "       [396, 472]])"
            ]
          },
          "metadata": {},
          "execution_count": 30
        }
      ]
    },
    {
      "cell_type": "code",
      "source": [
        "np.dot(arr12swp,arr11)"
      ],
      "metadata": {
        "colab": {
          "base_uri": "https://localhost:8080/"
        },
        "id": "i1EnAWquoAKY",
        "outputId": "879cd5a2-77b9-4c47-853a-635d4944ba04"
      },
      "execution_count": 31,
      "outputs": [
        {
          "output_type": "execute_result",
          "data": {
            "text/plain": [
              "array([[237, 238, 317],\n",
              "       [252, 264, 348],\n",
              "       [276, 284, 376]])"
            ]
          },
          "metadata": {},
          "execution_count": 31
        }
      ]
    },
    {
      "cell_type": "code",
      "source": [
        "arr11.dot(arr12swp)"
      ],
      "metadata": {
        "colab": {
          "base_uri": "https://localhost:8080/"
        },
        "id": "7p78YLf1oF0P",
        "outputId": "6c02b70e-e60f-4abf-d00e-644ceb323ec6"
      },
      "execution_count": 32,
      "outputs": [
        {
          "output_type": "execute_result",
          "data": {
            "text/plain": [
              "array([[405, 471],\n",
              "       [396, 472]])"
            ]
          },
          "metadata": {},
          "execution_count": 32
        }
      ]
    },
    {
      "cell_type": "code",
      "source": [
        "arr12swp.dot(arr11)"
      ],
      "metadata": {
        "colab": {
          "base_uri": "https://localhost:8080/"
        },
        "id": "ubyhdHI-oJRV",
        "outputId": "7c5cbbca-2520-49ec-f5c4-3dd88f40209e"
      },
      "execution_count": 33,
      "outputs": [
        {
          "output_type": "execute_result",
          "data": {
            "text/plain": [
              "array([[237, 238, 317],\n",
              "       [252, 264, 348],\n",
              "       [276, 284, 376]])"
            ]
          },
          "metadata": {},
          "execution_count": 33
        }
      ]
    },
    {
      "cell_type": "code",
      "source": [
        "#subtract() arr12 arr11 dan ayriladi\n",
        "np.subtract(arr12,arr11) "
      ],
      "metadata": {
        "colab": {
          "base_uri": "https://localhost:8080/"
        },
        "id": "6EjHsdZ5oM3_",
        "outputId": "054d7b44-9454-42ee-b094-a351bf244902"
      },
      "execution_count": 34,
      "outputs": [
        {
          "output_type": "execute_result",
          "data": {
            "text/plain": [
              "array([[ 0,  0, -3],\n",
              "       [ 1,  2,  0]])"
            ]
          },
          "metadata": {},
          "execution_count": 34
        }
      ]
    },
    {
      "cell_type": "code",
      "source": [
        "# add() arr11 ni arr12 ga qo'shadi\n",
        "np.add(arr11,arr12)"
      ],
      "metadata": {
        "colab": {
          "base_uri": "https://localhost:8080/"
        },
        "id": "1fZkx-9Wog-n",
        "outputId": "6b765ad4-404e-4b60-aa2e-2e25254cf1e5"
      },
      "execution_count": 35,
      "outputs": [
        {
          "output_type": "execute_result",
          "data": {
            "text/plain": [
              "array([[18, 24, 27],\n",
              "       [25, 22, 28]])"
            ]
          },
          "metadata": {},
          "execution_count": 35
        }
      ]
    },
    {
      "cell_type": "code",
      "source": [
        "#multiply() array elementlarini ko'paytiradi\n",
        "np.multiply(arr11,arr12)"
      ],
      "metadata": {
        "colab": {
          "base_uri": "https://localhost:8080/"
        },
        "id": "cvBftYAPooML",
        "outputId": "6a355b17-2ffc-4f6f-e847-cd4570e8e638"
      },
      "execution_count": 36,
      "outputs": [
        {
          "output_type": "execute_result",
          "data": {
            "text/plain": [
              "array([[ 81, 144, 180],\n",
              "       [156, 120, 196]])"
            ]
          },
          "metadata": {},
          "execution_count": 36
        }
      ]
    },
    {
      "cell_type": "code",
      "source": [
        "# isnan()\n",
        "np.isnan(arr12)"
      ],
      "metadata": {
        "colab": {
          "base_uri": "https://localhost:8080/"
        },
        "id": "ne144zqHo4fJ",
        "outputId": "1ffb65bf-3908-4081-e730-0eabb403bd99"
      },
      "execution_count": 37,
      "outputs": [
        {
          "output_type": "execute_result",
          "data": {
            "text/plain": [
              "array([[False, False, False],\n",
              "       [False, False, False]])"
            ]
          },
          "metadata": {},
          "execution_count": 37
        }
      ]
    },
    {
      "cell_type": "code",
      "source": [
        "arr12.dtype"
      ],
      "metadata": {
        "colab": {
          "base_uri": "https://localhost:8080/"
        },
        "id": "KXPqtiIfpHKl",
        "outputId": "fffd01d7-5925-4980-9b83-20bf53dc0669"
      },
      "execution_count": 47,
      "outputs": [
        {
          "output_type": "execute_result",
          "data": {
            "text/plain": [
              "dtype('int64')"
            ]
          },
          "metadata": {},
          "execution_count": 47
        }
      ]
    },
    {
      "cell_type": "code",
      "source": [
        "arr13=arr12.astype(np.float16)"
      ],
      "metadata": {
        "id": "lr5EulhZpKoh"
      },
      "execution_count": 48,
      "outputs": []
    },
    {
      "cell_type": "code",
      "source": [
        "arr13[1][:2]=np.NaN"
      ],
      "metadata": {
        "id": "etmI6uwYpLZh"
      },
      "execution_count": 49,
      "outputs": []
    },
    {
      "cell_type": "code",
      "source": [
        "arr13"
      ],
      "metadata": {
        "colab": {
          "base_uri": "https://localhost:8080/"
        },
        "id": "fHy57PgYpwWN",
        "outputId": "fc75957d-553f-47df-8c30-92e8f5f1a44d"
      },
      "execution_count": 50,
      "outputs": [
        {
          "output_type": "execute_result",
          "data": {
            "text/plain": [
              "array([[ 9., 12., 12.],\n",
              "       [nan, nan, 14.]], dtype=float16)"
            ]
          },
          "metadata": {},
          "execution_count": 50
        }
      ]
    },
    {
      "cell_type": "code",
      "source": [
        "np.isnan(arr13) # arr13 da qiymat mavjud bo'lmagan element bo'lsa True bo'lmasa False"
      ],
      "metadata": {
        "colab": {
          "base_uri": "https://localhost:8080/"
        },
        "id": "OUuOqcOkpyqI",
        "outputId": "fd2d4ca1-5f6f-45a8-c8f4-35891b96fb92"
      },
      "execution_count": 53,
      "outputs": [
        {
          "output_type": "execute_result",
          "data": {
            "text/plain": [
              "array([[False, False, False],\n",
              "       [ True,  True, False]])"
            ]
          },
          "metadata": {},
          "execution_count": 53
        }
      ]
    },
    {
      "cell_type": "code",
      "source": [
        "np.sum(arr12)# arr12 ichidagi barcha elementlar yig'insini hisoblaydi"
      ],
      "metadata": {
        "colab": {
          "base_uri": "https://localhost:8080/"
        },
        "id": "DTGbgaYOp1tc",
        "outputId": "0bfd4a47-a61d-471d-a157-07d451996485"
      },
      "execution_count": 56,
      "outputs": [
        {
          "output_type": "execute_result",
          "data": {
            "text/plain": [
              "59"
            ]
          },
          "metadata": {},
          "execution_count": 56
        }
      ]
    },
    {
      "cell_type": "code",
      "source": [
        "arr12.sum()"
      ],
      "metadata": {
        "colab": {
          "base_uri": "https://localhost:8080/"
        },
        "id": "zHlB6UQqqFj3",
        "outputId": "e9f86b40-22f0-4031-b1e9-33aa96915347"
      },
      "execution_count": 57,
      "outputs": [
        {
          "output_type": "execute_result",
          "data": {
            "text/plain": [
              "59"
            ]
          },
          "metadata": {},
          "execution_count": 57
        }
      ]
    },
    {
      "cell_type": "code",
      "source": [
        "arr12.mean()# arr12 o'rta arifmetigini hisoblaydi"
      ],
      "metadata": {
        "colab": {
          "base_uri": "https://localhost:8080/"
        },
        "id": "E0FjACAEqI6S",
        "outputId": "c33cb265-2923-4104-820f-ad06610c1fd7"
      },
      "execution_count": 59,
      "outputs": [
        {
          "output_type": "execute_result",
          "data": {
            "text/plain": [
              "9.833333333333334"
            ]
          },
          "metadata": {},
          "execution_count": 59
        }
      ]
    },
    {
      "cell_type": "code",
      "source": [
        "# Tartiblash (sorting)\n",
        "arr15=np.random.randn(2,4)\n",
        "arr15"
      ],
      "metadata": {
        "colab": {
          "base_uri": "https://localhost:8080/"
        },
        "id": "zYO6X8b7qSWo",
        "outputId": "0eb8ab19-4f5d-4402-fcae-3e752b3366bc"
      },
      "execution_count": 65,
      "outputs": [
        {
          "output_type": "execute_result",
          "data": {
            "text/plain": [
              "array([[-0.77069724,  1.70455984,  0.34687727,  1.2313897 ],\n",
              "       [ 2.54495782, -1.7908783 , -1.4636404 , -0.80055061]])"
            ]
          },
          "metadata": {},
          "execution_count": 65
        }
      ]
    },
    {
      "cell_type": "code",
      "source": [
        "# asl arr15 ning qiymatini o'zgartirmasdan tartiblash\n",
        "arr16=np.sort(arr15)\n",
        "arr16"
      ],
      "metadata": {
        "colab": {
          "base_uri": "https://localhost:8080/"
        },
        "id": "7Uj8R-Meq8Ql",
        "outputId": "a62ebdfe-9074-4ca4-97b4-c924b29328f0"
      },
      "execution_count": 66,
      "outputs": [
        {
          "output_type": "execute_result",
          "data": {
            "text/plain": [
              "array([[-0.77069724,  0.34687727,  1.2313897 ,  1.70455984],\n",
              "       [-1.7908783 , -1.4636404 , -0.80055061,  2.54495782]])"
            ]
          },
          "metadata": {},
          "execution_count": 66
        }
      ]
    },
    {
      "cell_type": "code",
      "source": [
        "arr15"
      ],
      "metadata": {
        "colab": {
          "base_uri": "https://localhost:8080/"
        },
        "id": "qxIAUMYbrHsm",
        "outputId": "398ec681-ef60-4756-dafa-e5c18af3fa4b"
      },
      "execution_count": 67,
      "outputs": [
        {
          "output_type": "execute_result",
          "data": {
            "text/plain": [
              "array([[-0.77069724,  1.70455984,  0.34687727,  1.2313897 ],\n",
              "       [ 2.54495782, -1.7908783 , -1.4636404 , -0.80055061]])"
            ]
          },
          "metadata": {},
          "execution_count": 67
        }
      ]
    },
    {
      "cell_type": "code",
      "source": [
        "# arr15 ustunlar bo'yicha tartiblash\n",
        "np.sort(arr15,axis=0)"
      ],
      "metadata": {
        "colab": {
          "base_uri": "https://localhost:8080/"
        },
        "id": "CxbDd8DYrJCW",
        "outputId": "f3442e41-96c1-422d-8834-a15cb2338d9a"
      },
      "execution_count": 68,
      "outputs": [
        {
          "output_type": "execute_result",
          "data": {
            "text/plain": [
              "array([[-0.77069724, -1.7908783 , -1.4636404 , -0.80055061],\n",
              "       [ 2.54495782,  1.70455984,  0.34687727,  1.2313897 ]])"
            ]
          },
          "metadata": {},
          "execution_count": 68
        }
      ]
    },
    {
      "cell_type": "code",
      "source": [
        "# arr15 ustunlar bo'yicha teskari tartiblash\n",
        "-np.sort(-arr15,axis=0)"
      ],
      "metadata": {
        "colab": {
          "base_uri": "https://localhost:8080/"
        },
        "id": "4V6SXoMurYn3",
        "outputId": "900b5505-eb5a-42a8-a8a0-5ca4f14fbcba"
      },
      "execution_count": 69,
      "outputs": [
        {
          "output_type": "execute_result",
          "data": {
            "text/plain": [
              "array([[ 2.54495782,  1.70455984,  0.34687727,  1.2313897 ],\n",
              "       [-0.77069724, -1.7908783 , -1.4636404 , -0.80055061]])"
            ]
          },
          "metadata": {},
          "execution_count": 69
        }
      ]
    },
    {
      "cell_type": "code",
      "source": [
        "# arr15 qatorlar bo'yicha tartiblash\n",
        "np.sort(arr15,axis=1)"
      ],
      "metadata": {
        "colab": {
          "base_uri": "https://localhost:8080/"
        },
        "id": "sGryhpRCrlJA",
        "outputId": "91941d79-79c6-4344-f4ce-512575a7dc3e"
      },
      "execution_count": 70,
      "outputs": [
        {
          "output_type": "execute_result",
          "data": {
            "text/plain": [
              "array([[-0.77069724,  0.34687727,  1.2313897 ,  1.70455984],\n",
              "       [-1.7908783 , -1.4636404 , -0.80055061,  2.54495782]])"
            ]
          },
          "metadata": {},
          "execution_count": 70
        }
      ]
    },
    {
      "cell_type": "code",
      "source": [
        "# arr15 qatorlar bo'yicha teskari tartiblash\n",
        "-np.sort(-arr15,axis=1)"
      ],
      "metadata": {
        "colab": {
          "base_uri": "https://localhost:8080/"
        },
        "id": "hB4wlBjPrtup",
        "outputId": "865e047a-4d41-4bad-f032-b8783d9b8c7c"
      },
      "execution_count": 71,
      "outputs": [
        {
          "output_type": "execute_result",
          "data": {
            "text/plain": [
              "array([[ 1.70455984,  1.2313897 ,  0.34687727, -0.77069724],\n",
              "       [ 2.54495782, -0.80055061, -1.4636404 , -1.7908783 ]])"
            ]
          },
          "metadata": {},
          "execution_count": 71
        }
      ]
    },
    {
      "cell_type": "code",
      "source": [
        "# arr15 ni tartiblab qo'yamiz\n",
        "arr15.sort()"
      ],
      "metadata": {
        "id": "TAAtySAxr43y"
      },
      "execution_count": 72,
      "outputs": []
    },
    {
      "cell_type": "code",
      "source": [
        "arr15"
      ],
      "metadata": {
        "colab": {
          "base_uri": "https://localhost:8080/"
        },
        "id": "ODRVVIklr-oV",
        "outputId": "678952e2-8056-4e46-b807-e254e677b0ff"
      },
      "execution_count": 73,
      "outputs": [
        {
          "output_type": "execute_result",
          "data": {
            "text/plain": [
              "array([[-0.77069724,  0.34687727,  1.2313897 ,  1.70455984],\n",
              "       [-1.7908783 , -1.4636404 , -0.80055061,  2.54495782]])"
            ]
          },
          "metadata": {},
          "execution_count": 73
        }
      ]
    },
    {
      "cell_type": "code",
      "source": [
        "arr17=np.arange(5,11)\n",
        "arr17"
      ],
      "metadata": {
        "colab": {
          "base_uri": "https://localhost:8080/"
        },
        "id": "GiFKaXD_r_xB",
        "outputId": "81ac3b73-c654-4156-e71f-68c72cb491b2"
      },
      "execution_count": 74,
      "outputs": [
        {
          "output_type": "execute_result",
          "data": {
            "text/plain": [
              "array([ 5,  6,  7,  8,  9, 10])"
            ]
          },
          "metadata": {},
          "execution_count": 74
        }
      ]
    },
    {
      "cell_type": "code",
      "source": [
        "# cumsum ( ) metodi ==fibonachi\n",
        "np.cumsum(arr17)"
      ],
      "metadata": {
        "colab": {
          "base_uri": "https://localhost:8080/"
        },
        "id": "E5nS0za2sTmu",
        "outputId": "40dcc643-5d58-48ba-bd20-cfc37d6b19f4"
      },
      "execution_count": 75,
      "outputs": [
        {
          "output_type": "execute_result",
          "data": {
            "text/plain": [
              "array([ 5, 11, 18, 26, 35, 45])"
            ]
          },
          "metadata": {},
          "execution_count": 75
        }
      ]
    },
    {
      "cell_type": "code",
      "source": [
        "# cumprod() har bir elementni ketma-ket ko'paytirib boradi\n",
        "np.cumprod(arr17)"
      ],
      "metadata": {
        "colab": {
          "base_uri": "https://localhost:8080/"
        },
        "id": "9vBqeYMOsapK",
        "outputId": "34a0dff5-d5ee-4bf9-8170-a43a385a809f"
      },
      "execution_count": 76,
      "outputs": [
        {
          "output_type": "execute_result",
          "data": {
            "text/plain": [
              "array([     5,     30,    210,   1680,  15120, 151200])"
            ]
          },
          "metadata": {},
          "execution_count": 76
        }
      ]
    },
    {
      "cell_type": "code",
      "source": [],
      "metadata": {
        "id": "T7RSPDngstUX"
      },
      "execution_count": null,
      "outputs": []
    }
  ]
}