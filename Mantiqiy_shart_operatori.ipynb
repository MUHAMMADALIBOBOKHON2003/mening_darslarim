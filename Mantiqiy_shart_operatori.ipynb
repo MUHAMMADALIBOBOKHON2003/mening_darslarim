{
  "nbformat": 4,
  "nbformat_minor": 0,
  "metadata": {
    "colab": {
      "provenance": [],
      "collapsed_sections": [],
      "authorship_tag": "ABX9TyNAcbf2rysDzKtSc6HDbWc7",
      "include_colab_link": true
    },
    "kernelspec": {
      "name": "python3",
      "display_name": "Python 3"
    },
    "language_info": {
      "name": "python"
    }
  },
  "cells": [
    {
      "cell_type": "markdown",
      "metadata": {
        "id": "view-in-github",
        "colab_type": "text"
      },
      "source": [
        "<a href=\"https://colab.research.google.com/github/MUHAMMADALIBOBOKHON2003/mening_darslarim/blob/main/Mantiqiy_shart_operatori.ipynb\" target=\"_parent\"><img src=\"https://colab.research.google.com/assets/colab-badge.svg\" alt=\"Open In Colab\"/></a>"
      ]
    },
    {
      "cell_type": "markdown",
      "source": [
        "# where funksiyasidan foydalanamiz\n"
      ],
      "metadata": {
        "id": "k8w81Uu2kmij"
      }
    },
    {
      "cell_type": "code",
      "source": [
        "# where funksiyasi huddi if operatori kabi ishlaydi misol\n",
        "import numpy as np\n",
        "arr1=np.array([1,4,3])\n",
        "arr2=np.array([4,5,6])\n"
      ],
      "metadata": {
        "id": "vt07tX37ktLc"
      },
      "execution_count": null,
      "outputs": []
    },
    {
      "cell_type": "code",
      "source": [
        "arr1"
      ],
      "metadata": {
        "colab": {
          "base_uri": "https://localhost:8080/"
        },
        "id": "S3Wdjm1lk25U",
        "outputId": "365235b9-4acf-49e5-d836-8cd9f0fe47c6"
      },
      "execution_count": null,
      "outputs": [
        {
          "output_type": "execute_result",
          "data": {
            "text/plain": [
              "array([1, 4, 3])"
            ]
          },
          "metadata": {},
          "execution_count": 4
        }
      ]
    },
    {
      "cell_type": "code",
      "source": [
        "arr2"
      ],
      "metadata": {
        "colab": {
          "base_uri": "https://localhost:8080/"
        },
        "id": "mD9JOKgAlI2E",
        "outputId": "612782a5-515e-47d6-c139-3c1de52e9d8e"
      },
      "execution_count": null,
      "outputs": [
        {
          "output_type": "execute_result",
          "data": {
            "text/plain": [
              "array([4, 5, 6])"
            ]
          },
          "metadata": {},
          "execution_count": 5
        }
      ]
    },
    {
      "cell_type": "code",
      "source": [
        "kl=np.array([True, False ,False])\n",
        "rlt=np.where(kl,arr1,arr2) # kl o'zgaruvchining ichidagi True arr1 ning elementini oladi False arr2 dan oladi\n",
        "rlt"
      ],
      "metadata": {
        "colab": {
          "base_uri": "https://localhost:8080/"
        },
        "id": "2U2Z1UYjlLq6",
        "outputId": "c6fcfeb5-7316-4d7e-a535-498e6d81e546"
      },
      "execution_count": null,
      "outputs": [
        {
          "output_type": "execute_result",
          "data": {
            "text/plain": [
              "array([1, 5, 6])"
            ]
          },
          "metadata": {},
          "execution_count": 8
        }
      ]
    },
    {
      "cell_type": "code",
      "source": [
        "randint=np.random.randint(-2,5, size=(3,3))\n",
        "randint"
      ],
      "metadata": {
        "colab": {
          "base_uri": "https://localhost:8080/"
        },
        "id": "62ee_rBVl7Od",
        "outputId": "2005a93b-c928-40c0-b0ae-dbe0dbdb5cd6"
      },
      "execution_count": null,
      "outputs": [
        {
          "output_type": "execute_result",
          "data": {
            "text/plain": [
              "array([[ 3,  2, -2],\n",
              "       [ 1, -1,  4],\n",
              "       [-2,  4,  0]])"
            ]
          },
          "metadata": {},
          "execution_count": 9
        }
      ]
    },
    {
      "cell_type": "code",
      "source": [
        "w_r=np.where(randint>0, True, False)  \n",
        "w_r"
      ],
      "metadata": {
        "colab": {
          "base_uri": "https://localhost:8080/"
        },
        "id": "V4vzU08onCpD",
        "outputId": "1ee76b8e-51ab-48e3-ae7a-8d57669fa27c"
      },
      "execution_count": null,
      "outputs": [
        {
          "output_type": "execute_result",
          "data": {
            "text/plain": [
              "array([[ True,  True, False],\n",
              "       [ True, False,  True],\n",
              "       [False,  True, False]])"
            ]
          },
          "metadata": {},
          "execution_count": 11
        }
      ]
    },
    {
      "cell_type": "markdown",
      "source": [
        "# Yurqoridagi ko'dni tahlil qilamiz:\n",
        "## randint massivimizni ichida 0 dan katta qiymatlar bo'lsa True ga o'zgartir dedik 0 dan kichkina bo'lsa False ga o'zgartir dedik. "
      ],
      "metadata": {
        "id": "HkambPc3nH0O"
      }
    },
    {
      "cell_type": "code",
      "source": [
        "import numpy as np\n",
        "r_arr=np.random.randn(4,6)\n",
        "r_t=np.where(r_arr<0,-1,1)"
      ],
      "metadata": {
        "id": "iyhlHosOnlki"
      },
      "execution_count": null,
      "outputs": []
    },
    {
      "cell_type": "code",
      "source": [
        "r_arr"
      ],
      "metadata": {
        "colab": {
          "base_uri": "https://localhost:8080/"
        },
        "id": "4AH-usIV8OXQ",
        "outputId": "dd6313a6-328e-47f8-9c48-070bab7ab8a2"
      },
      "execution_count": null,
      "outputs": [
        {
          "output_type": "execute_result",
          "data": {
            "text/plain": [
              "array([[ 0.04422247, -0.93034687, -0.99889381, -0.33107405, -0.94070051,\n",
              "        -0.63825143],\n",
              "       [-0.93711351, -1.08271684,  2.44381578,  0.04161399,  2.00789394,\n",
              "         0.18472985],\n",
              "       [-1.16709066,  0.18666426, -1.79002934,  0.19546108,  0.23287342,\n",
              "        -1.24445719],\n",
              "       [-0.62635671, -0.35164446,  0.97261762,  0.93525662,  0.17982046,\n",
              "        -0.36775354]])"
            ]
          },
          "metadata": {},
          "execution_count": 9
        }
      ]
    },
    {
      "cell_type": "code",
      "source": [
        "r_t"
      ],
      "metadata": {
        "colab": {
          "base_uri": "https://localhost:8080/"
        },
        "id": "V9mErs0Q9BTq",
        "outputId": "776e5ca2-ed97-4562-c8c4-bc3e4a06e1ac"
      },
      "execution_count": null,
      "outputs": [
        {
          "output_type": "execute_result",
          "data": {
            "text/plain": [
              "array([[ 1, -1, -1, -1, -1, -1],\n",
              "       [-1, -1,  1,  1,  1,  1],\n",
              "       [-1,  1, -1,  1,  1, -1],\n",
              "       [-1, -1,  1,  1,  1, -1]])"
            ]
          },
          "metadata": {},
          "execution_count": 10
        }
      ]
    },
    {
      "cell_type": "code",
      "source": [
        "ran_om=np.random.randint(-5,5,  size=(4,4))\n",
        "ran_om"
      ],
      "metadata": {
        "colab": {
          "base_uri": "https://localhost:8080/"
        },
        "id": "xepZj_Ov9Hj4",
        "outputId": "aeba16f4-5428-44f0-eccf-03d4e77130dc"
      },
      "execution_count": null,
      "outputs": [
        {
          "output_type": "execute_result",
          "data": {
            "text/plain": [
              "array([[ 2,  0, -1,  0],\n",
              "       [ 2,  1, -5, -5],\n",
              "       [ 0, -4, -5,  1],\n",
              "       [-5, -1, -3, -2]])"
            ]
          },
          "metadata": {},
          "execution_count": 11
        }
      ]
    },
    {
      "cell_type": "code",
      "source": [
        "r_l=np.where(ran_om<0, True, False)\n",
        "r_l"
      ],
      "metadata": {
        "colab": {
          "base_uri": "https://localhost:8080/"
        },
        "id": "mPP57-t39U4E",
        "outputId": "4e8c210e-ac13-42a9-c510-dc2b04eebe50"
      },
      "execution_count": null,
      "outputs": [
        {
          "output_type": "execute_result",
          "data": {
            "text/plain": [
              "array([[False, False,  True, False],\n",
              "       [False, False,  True,  True],\n",
              "       [False,  True,  True, False],\n",
              "       [ True,  True,  True,  True]])"
            ]
          },
          "metadata": {},
          "execution_count": 13
        }
      ]
    }
  ]
}