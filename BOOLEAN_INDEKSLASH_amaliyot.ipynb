{
  "nbformat": 4,
  "nbformat_minor": 0,
  "metadata": {
    "colab": {
      "provenance": [],
      "authorship_tag": "ABX9TyMzgJB6RyBt8wiNUObqAmxO",
      "include_colab_link": true
    },
    "kernelspec": {
      "name": "python3",
      "display_name": "Python 3"
    },
    "language_info": {
      "name": "python"
    }
  },
  "cells": [
    {
      "cell_type": "markdown",
      "metadata": {
        "id": "view-in-github",
        "colab_type": "text"
      },
      "source": [
        "<a href=\"https://colab.research.google.com/github/MUHAMMADALIBOBOKHON2003/mening_darslarim/blob/main/BOOLEAN_INDEKSLASH_amaliyot.ipynb\" target=\"_parent\"><img src=\"https://colab.research.google.com/assets/colab-badge.svg\" alt=\"Open In Colab\"/></a>"
      ]
    },
    {
      "cell_type": "markdown",
      "source": [
        "# BISMILLAH\n"
      ],
      "metadata": {
        "id": "8awLjCKYb1mT"
      }
    },
    {
      "cell_type": "code",
      "source": [
        "import numpy as np\n",
        "talabalar_info=np.array([\"Muhammadali\",\"Sardor\",\"Sanjar\",\"Bobur\",\"Doniyor\",\"Sanjar\",\"Dono\"])\n",
        "talabalar_info\n"
      ],
      "metadata": {
        "colab": {
          "base_uri": "https://localhost:8080/"
        },
        "id": "crxVMVrtb09L",
        "outputId": "826d4c11-b428-479f-b458-aceb42f23645"
      },
      "execution_count": null,
      "outputs": [
        {
          "output_type": "execute_result",
          "data": {
            "text/plain": [
              "array(['Muhammadali', 'Sardor', 'Sanjar', 'Bobur', 'Doniyor', 'Sanjar',\n",
              "       'Dono'], dtype='<U11')"
            ]
          },
          "metadata": {},
          "execution_count": 1
        }
      ]
    },
    {
      "cell_type": "code",
      "source": [
        "baxolar=np.random.randint(3,5, size=(7,5))\n",
        "baxolar"
      ],
      "metadata": {
        "colab": {
          "base_uri": "https://localhost:8080/"
        },
        "id": "jirpbHhNcawc",
        "outputId": "f91f1a1c-b26a-458f-89c0-c9bf8a670741"
      },
      "execution_count": null,
      "outputs": [
        {
          "output_type": "execute_result",
          "data": {
            "text/plain": [
              "array([[3, 3, 3, 3, 4],\n",
              "       [3, 4, 3, 3, 4],\n",
              "       [4, 3, 4, 3, 3],\n",
              "       [4, 3, 3, 4, 3],\n",
              "       [4, 3, 4, 4, 4],\n",
              "       [3, 3, 3, 3, 3],\n",
              "       [3, 4, 4, 3, 4]])"
            ]
          },
          "metadata": {},
          "execution_count": 2
        }
      ]
    },
    {
      "cell_type": "code",
      "source": [
        "\n",
        "talabalar_info==\"Sanjar\"\n",
        "baxolar[talabalar_info==\"Sanjar\"]"
      ],
      "metadata": {
        "colab": {
          "base_uri": "https://localhost:8080/"
        },
        "id": "b9ws9cM4cteI",
        "outputId": "e7f093e5-070b-409a-fa32-98def2ec70e2"
      },
      "execution_count": null,
      "outputs": [
        {
          "output_type": "execute_result",
          "data": {
            "text/plain": [
              "array([[4, 3, 4, 3, 3],\n",
              "       [3, 3, 3, 3, 3]])"
            ]
          },
          "metadata": {},
          "execution_count": 3
        }
      ]
    },
    {
      "cell_type": "code",
      "source": [
        "baxolar[talabalar_info==\"Dono\"]"
      ],
      "metadata": {
        "colab": {
          "base_uri": "https://localhost:8080/"
        },
        "id": "pUprOe0DdCHI",
        "outputId": "b7f2ae44-f8bf-410c-f18f-0cf9dca40511"
      },
      "execution_count": null,
      "outputs": [
        {
          "output_type": "execute_result",
          "data": {
            "text/plain": [
              "array([[3, 4, 4, 3, 4]])"
            ]
          },
          "metadata": {},
          "execution_count": 4
        }
      ]
    },
    {
      "cell_type": "code",
      "source": [
        "baxolar[talabalar_info==\"Bobur\"]"
      ],
      "metadata": {
        "id": "jbg2Sg73dNJc",
        "colab": {
          "base_uri": "https://localhost:8080/"
        },
        "outputId": "ead78158-9d2d-4c59-d800-86fb809e84dc"
      },
      "execution_count": null,
      "outputs": [
        {
          "output_type": "execute_result",
          "data": {
            "text/plain": [
              "array([[4, 3, 3, 4, 3]])"
            ]
          },
          "metadata": {},
          "execution_count": 5
        }
      ]
    },
    {
      "cell_type": "code",
      "source": [
        "baxolar[talabalar_info==\"Sardor\", 3:]"
      ],
      "metadata": {
        "colab": {
          "base_uri": "https://localhost:8080/"
        },
        "id": "EOzZTShYiOaz",
        "outputId": "967871cf-69f1-4a73-dd5d-2197152188ac"
      },
      "execution_count": null,
      "outputs": [
        {
          "output_type": "execute_result",
          "data": {
            "text/plain": [
              "array([[3, 4]])"
            ]
          },
          "metadata": {},
          "execution_count": 6
        }
      ]
    },
    {
      "cell_type": "code",
      "source": [
        "baxolar[talabalar_info==\"Sanjar\"]"
      ],
      "metadata": {
        "colab": {
          "base_uri": "https://localhost:8080/"
        },
        "id": "DjJEq1ZBipHG",
        "outputId": "5fc40cc1-f7c3-4ad5-ff37-92df4898374d"
      },
      "execution_count": null,
      "outputs": [
        {
          "output_type": "execute_result",
          "data": {
            "text/plain": [
              "array([[4, 3, 4, 3, 3],\n",
              "       [3, 3, 3, 3, 3]])"
            ]
          },
          "metadata": {},
          "execution_count": 12
        }
      ]
    },
    {
      "cell_type": "code",
      "source": [
        "#  Sanjarning ma'lumotlaridan 2 va 3 ustunlarni olamiz\n",
        "baxolar[talabalar_info==\"Sanjar\", 1:3] # ko'ribturganingizdek 2 va 3 ustunnlarni ajratib oldik\n"
      ],
      "metadata": {
        "id": "rTYTnCvkjicg",
        "colab": {
          "base_uri": "https://localhost:8080/"
        },
        "outputId": "c11b7ecf-bc38-4fd0-a79a-6b418015179c"
      },
      "execution_count": null,
      "outputs": [
        {
          "output_type": "execute_result",
          "data": {
            "text/plain": [
              "array([[3, 4],\n",
              "       [3, 3]])"
            ]
          },
          "metadata": {},
          "execution_count": 16
        }
      ]
    },
    {
      "cell_type": "code",
      "source": [
        "# Sanjarni ma'lumotlaridan boshqa hamma ma'lumotlarni chiqarish\n",
        "baxolar[talabalar_info!=\"Sanjar\"]\n"
      ],
      "metadata": {
        "id": "mlCXoCb1kvOs",
        "colab": {
          "base_uri": "https://localhost:8080/"
        },
        "outputId": "6be9057f-961b-434c-d282-a802234377a3"
      },
      "execution_count": null,
      "outputs": [
        {
          "output_type": "execute_result",
          "data": {
            "text/plain": [
              "array([[3, 3, 3, 3, 4],\n",
              "       [3, 4, 3, 3, 4],\n",
              "       [4, 3, 3, 4, 3],\n",
              "       [4, 3, 4, 4, 4],\n",
              "       [3, 4, 4, 3, 4]])"
            ]
          },
          "metadata": {},
          "execution_count": 17
        }
      ]
    },
    {
      "cell_type": "code",
      "source": [
        "# yuqoridagi kodni boshqacha usul bilan yozish ham mumkin (~) belgisini qo'llagan xolatda\n",
        "baxolar[~(talabalar_info==\"Sanjar\")] # ko'ribturganingizdek yuqoridagi chiqqan qiymatlar bilan bir_hil\n"
      ],
      "metadata": {
        "colab": {
          "base_uri": "https://localhost:8080/"
        },
        "id": "wPaMmRAKKD-U",
        "outputId": "53cc284d-9776-4fb4-f13c-d65cf5a9ce79"
      },
      "execution_count": null,
      "outputs": [
        {
          "output_type": "execute_result",
          "data": {
            "text/plain": [
              "array([[3, 3, 3, 3, 4],\n",
              "       [3, 4, 3, 3, 4],\n",
              "       [4, 3, 3, 4, 3],\n",
              "       [4, 3, 4, 4, 4],\n",
              "       [3, 4, 4, 3, 4]])"
            ]
          },
          "metadata": {},
          "execution_count": 19
        }
      ]
    },
    {
      "cell_type": "code",
      "source": [
        "mask=(talabalar_info==\"Sanjar\") | (talabalar_info==\"Dono\") # bu yerda ( | ) belgisi or (yoki) degan ma'noni anglatadi\n",
        "mask"
      ],
      "metadata": {
        "colab": {
          "base_uri": "https://localhost:8080/"
        },
        "id": "q5hNeNqeKwEP",
        "outputId": "43173166-206f-434b-a812-3694aa14566b"
      },
      "execution_count": null,
      "outputs": [
        {
          "output_type": "execute_result",
          "data": {
            "text/plain": [
              "array([False, False,  True, False, False,  True,  True])"
            ]
          },
          "metadata": {},
          "execution_count": 23
        }
      ]
    },
    {
      "cell_type": "code",
      "source": [
        "baxolar[mask] # biz Sanjar yoki Dono ning ma'lumotlarini chaqirib oldik \"Lekin o'zim mantiqqa tushunmadim :)\""
      ],
      "metadata": {
        "colab": {
          "base_uri": "https://localhost:8080/"
        },
        "id": "TVUBVE8OLL_e",
        "outputId": "c776fbe3-baae-466a-eca8-8572a80342bc"
      },
      "execution_count": null,
      "outputs": [
        {
          "output_type": "execute_result",
          "data": {
            "text/plain": [
              "array([[4, 3, 4, 3, 3],\n",
              "       [3, 3, 3, 3, 3],\n",
              "       [3, 4, 4, 3, 4]])"
            ]
          },
          "metadata": {},
          "execution_count": 25
        }
      ]
    },
    {
      "cell_type": "code",
      "source": [
        "# JAVOBNI SHU YERGA YOZING\n",
        "def nd_array():\n",
        "  arr_son=np.random.randint(1,9, size=(3,3))\n",
        "  return arr_son\n",
        "  \n",
        "  \"\"\"Elementlari 0 dan 9 gacha (9 ning o'zi massiv elementiga kirmaydi), \n",
        "  qadami esa 1 ga teng bo'lgan (3, 3) o'lchamli massiv \"\"\""
      ],
      "metadata": {
        "id": "nmb2lNFPOjbW"
      },
      "execution_count": null,
      "outputs": []
    },
    {
      "cell_type": "code",
      "source": [
        "nd_array()"
      ],
      "metadata": {
        "colab": {
          "base_uri": "https://localhost:8080/"
        },
        "id": "GxumwVGVYc_4",
        "outputId": "1fb01419-eb07-4942-e114-bf716d1ed795"
      },
      "execution_count": null,
      "outputs": [
        {
          "output_type": "execute_result",
          "data": {
            "text/plain": [
              "array([[6, 5, 5],\n",
              "       [1, 4, 4],\n",
              "       [3, 7, 7]])"
            ]
          },
          "metadata": {},
          "execution_count": 29
        }
      ]
    },
    {
      "cell_type": "code",
      "source": [
        "# O'tgan darslarimizni takrorlab olamiz numpy kutubxonasini random funksiyalaridan foydalamiz\n",
        "import numpy as np\n",
        "arr_rand=np.random.rand(2,6) # bu metod 0 va 1 orasidagi sonlarni chaqiradi\n",
        " \n",
        "arr_rand"
      ],
      "metadata": {
        "id": "moEnMDxnYfGm",
        "colab": {
          "base_uri": "https://localhost:8080/"
        },
        "outputId": "a458a615-cd32-4f7c-f9e7-bdc4c9c3aac1"
      },
      "execution_count": 11,
      "outputs": [
        {
          "output_type": "execute_result",
          "data": {
            "text/plain": [
              "array([[0.0577651 , 0.12685494, 0.89448703, 0.18231701, 0.57629904,\n",
              "        0.98930808],\n",
              "       [0.5327499 , 0.92420883, 0.41380321, 0.7734391 , 0.70338509,\n",
              "        0.72430956]])"
            ]
          },
          "metadata": {},
          "execution_count": 11
        }
      ]
    },
    {
      "cell_type": "code",
      "source": [
        "# randint\n",
        "arr_randint=np.random.randint(12, size=(2,6)) # 0 dan 12 gacha bo'lgan sonlar orasidan ixtiyor sonlarni chaqirib olishini buyurdik\n",
        "arr_randint"
      ],
      "metadata": {
        "colab": {
          "base_uri": "https://localhost:8080/"
        },
        "id": "29HX-AcnbPnq",
        "outputId": "a5587e14-6a9c-4306-d0dd-ec28ca2a1761"
      },
      "execution_count": 12,
      "outputs": [
        {
          "output_type": "execute_result",
          "data": {
            "text/plain": [
              "array([[ 2,  3,  4,  0,  3,  0],\n",
              "       [ 6,  9,  5,  6,  9, 11]])"
            ]
          },
          "metadata": {},
          "execution_count": 12
        }
      ]
    },
    {
      "cell_type": "code",
      "source": [
        "# rand\n",
        "arr_rand=np.random.rand(4,6)"
      ],
      "metadata": {
        "id": "APvlhwPZvoXI"
      },
      "execution_count": 15,
      "outputs": []
    },
    {
      "cell_type": "code",
      "source": [
        "arr_rand"
      ],
      "metadata": {
        "colab": {
          "base_uri": "https://localhost:8080/"
        },
        "id": "QTnpSd4Uvu3o",
        "outputId": "98662c4a-a52e-44f3-9a03-5fa43013d2f7"
      },
      "execution_count": 17,
      "outputs": [
        {
          "output_type": "execute_result",
          "data": {
            "text/plain": [
              "array([[0.93921781, 0.90995445, 0.28886465, 0.04401593, 0.10841833,\n",
              "        0.77596269],\n",
              "       [0.6273211 , 0.00507253, 0.12639085, 0.8142546 , 0.21038266,\n",
              "        0.17204584],\n",
              "       [0.9226841 , 0.74651675, 0.38240427, 0.59301151, 0.03588598,\n",
              "        0.96734175],\n",
              "       [0.61504732, 0.82497972, 0.01184647, 0.09309067, 0.41543495,\n",
              "        0.268678  ]])"
            ]
          },
          "metadata": {},
          "execution_count": 17
        }
      ]
    },
    {
      "cell_type": "code",
      "source": [
        "arr3d=np.array([[[ 0,  1,  2],\n",
        "                [ 3,  4,  5],\n",
        "                [ 6,  7,  8]],\n",
        "\n",
        "               [[ 9, 10, 11],\n",
        "                [12, 13, 14],\n",
        "                [15, 16, 17]],\n",
        "\n",
        "               [[18, 19, 20],\n",
        "                [21, 22, 23],\n",
        "                [24, 25, 26]]]) # 3 massiv (arrayni ichidan) 22, 23,25,26 sonlarini chaqirib olamiz\n",
        "arr=arr3d[2]\n",
        "arr_sl=arr[1:,1:]\n",
        "arr_sl"
      ],
      "metadata": {
        "colab": {
          "base_uri": "https://localhost:8080/"
        },
        "id": "LzqLODtuv3Y0",
        "outputId": "aba77b2e-32b1-406e-de2c-a3083e44d39b"
      },
      "execution_count": 18,
      "outputs": [
        {
          "output_type": "execute_result",
          "data": {
            "text/plain": [
              "array([[22, 23],\n",
              "       [25, 26]])"
            ]
          },
          "metadata": {},
          "execution_count": 18
        }
      ]
    },
    {
      "cell_type": "code",
      "source": [
        "# ko'rganingizdek kerakli sonlarni chaqirib oldik. \n"
      ],
      "metadata": {
        "id": "dxD2XnWcwj7k"
      },
      "execution_count": null,
      "outputs": []
    },
    {
      "cell_type": "markdown",
      "source": [
        "# E FEW MOMENTS LATER"
      ],
      "metadata": {
        "id": "kkZ30otLwr6D"
      }
    },
    {
      "cell_type": "code",
      "source": [
        "# YUQORIDAGI MASSIVIMIZNI O'LCHAMINI TEKSHIRIB KO'RAMIZ\n",
        "arr3d.ndim"
      ],
      "metadata": {
        "colab": {
          "base_uri": "https://localhost:8080/"
        },
        "id": "FPqs_-TowvPg",
        "outputId": "b9895b8c-88ae-4eee-8b8c-09d885aa3349"
      },
      "execution_count": 19,
      "outputs": [
        {
          "output_type": "execute_result",
          "data": {
            "text/plain": [
              "3"
            ]
          },
          "metadata": {},
          "execution_count": 19
        }
      ]
    },
    {
      "cell_type": "code",
      "source": [
        "# massivimiz 3 o'lchamli ekan\n"
      ],
      "metadata": {
        "id": "e_ld7rN0w7rt"
      },
      "execution_count": 20,
      "outputs": []
    },
    {
      "cell_type": "code",
      "source": [
        "# massiv va list larning tezligini tekshirish\n",
        "son=list(range(1000000))\n",
        "son_array=np.arange(1000001)\n",
        "%time for kl in range(100): [g*2 for g in son] # LIST\n",
        "%time for kk in range(100): son_array*2 #MASSIV"
      ],
      "metadata": {
        "colab": {
          "base_uri": "https://localhost:8080/"
        },
        "id": "U76VdT5GxAUM",
        "outputId": "48b2d17f-cb42-4df2-86bc-ab0c8e4e2d46"
      },
      "execution_count": 23,
      "outputs": [
        {
          "output_type": "stream",
          "name": "stdout",
          "text": [
            "CPU times: user 9.21 s, sys: 1.85 s, total: 11.1 s\n",
            "Wall time: 11.1 s\n",
            "CPU times: user 255 ms, sys: 13.8 ms, total: 268 ms\n",
            "Wall time: 261 ms\n"
          ]
        }
      ]
    },
    {
      "cell_type": "code",
      "source": [
        " # E FEW MOMENTS LATER\n",
        " # ko'ribturganingizdek ancha tez ishlaydi"
      ],
      "metadata": {
        "id": "SmYw7CBhxnp0"
      },
      "execution_count": 24,
      "outputs": []
    },
    {
      "cell_type": "code",
      "source": [
        "# int128  turdagi array yaratamiz\n",
        "arr_son=np.array([45,23,65,32,4,1,2,32,3,2],dtype=np.int64)\n",
        "arr_son"
      ],
      "metadata": {
        "colab": {
          "base_uri": "https://localhost:8080/"
        },
        "id": "WN-p4qV3x8aq",
        "outputId": "c2daa93e-2e65-4acd-98ad-dd65edf91069"
      },
      "execution_count": 26,
      "outputs": [
        {
          "output_type": "execute_result",
          "data": {
            "text/plain": [
              "array([45, 23, 65, 32,  4,  1,  2, 32,  3,  2])"
            ]
          },
          "metadata": {},
          "execution_count": 26
        }
      ]
    },
    {
      "cell_type": "code",
      "source": [
        "# yuqoridagi ko'dimizni tekshiramiz\n",
        "arr_son.dtype  # int64 ekan"
      ],
      "metadata": {
        "colab": {
          "base_uri": "https://localhost:8080/"
        },
        "id": "wbMRq905zyQV",
        "outputId": "57352938-e0e4-42dc-8752-62a0f302d019"
      },
      "execution_count": 27,
      "outputs": [
        {
          "output_type": "execute_result",
          "data": {
            "text/plain": [
              "dtype('int64')"
            ]
          },
          "metadata": {},
          "execution_count": 27
        }
      ]
    },
    {
      "cell_type": "code",
      "source": [
        "# yuqoridagi ko'dimizni float16 ga o'tkazamiz\n",
        "arr_float=arr_son.astype(np.float16)"
      ],
      "metadata": {
        "id": "J666_dqiz8wN"
      },
      "execution_count": 28,
      "outputs": []
    },
    {
      "cell_type": "code",
      "source": [
        "arr_float.dtype"
      ],
      "metadata": {
        "colab": {
          "base_uri": "https://localhost:8080/"
        },
        "id": "F9ZYd3lF0TLi",
        "outputId": "211d3d27-45ba-49d3-cb74-85762c14072f"
      },
      "execution_count": 30,
      "outputs": [
        {
          "output_type": "execute_result",
          "data": {
            "text/plain": [
              "dtype('float16')"
            ]
          },
          "metadata": {},
          "execution_count": 30
        }
      ]
    },
    {
      "cell_type": "code",
      "source": [
        "# ko'rishingiz mumkin int64 array float16 ga o'tdi\n"
      ],
      "metadata": {
        "id": "SP4cv5KL0U0_"
      },
      "execution_count": null,
      "outputs": []
    }
  ]
}